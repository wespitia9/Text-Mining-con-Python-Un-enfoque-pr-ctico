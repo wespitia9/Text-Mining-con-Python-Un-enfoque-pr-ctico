{
  "nbformat": 4,
  "nbformat_minor": 0,
  "metadata": {
    "colab": {
      "provenance": [],
      "collapsed_sections": [
        "oBRaWivklWa_"
      ],
      "authorship_tag": "ABX9TyN+Y462zB0nZkCDeDEGQfuF",
      "include_colab_link": true
    },
    "kernelspec": {
      "name": "python3",
      "display_name": "Python 3"
    },
    "language_info": {
      "name": "python"
    }
  },
  "cells": [
    {
      "cell_type": "markdown",
      "metadata": {
        "id": "view-in-github",
        "colab_type": "text"
      },
      "source": [
        "<a href=\"https://colab.research.google.com/github/wespitia9/Text-Mining-con-Python-Un-enfoque-pr-ctico/blob/main/Text_Mining_con_Python_Un_enfoque_pr%C3%A1ctico.ipynb\" target=\"_parent\"><img src=\"https://colab.research.google.com/assets/colab-badge.svg\" alt=\"Open In Colab\"/></a>"
      ]
    },
    {
      "cell_type": "markdown",
      "source": [
        "# Introducción"
      ],
      "metadata": {
        "id": "7HfuQQgyhhtW"
      }
    },
    {
      "cell_type": "markdown",
      "source": [
        "Este paso a paso tiene como objetivo proporcionar una introducción al análisis de texto (text mining) utilizando `Python`. Para ello, se analizarán las publicaciones realizadas en Twitter por diversas personalidades, con el propósito de y busqueda de:\n",
        "\n",
        "\n",
        "*   Analizar y obervar sentimientos y emociones que posiblemente se puedan identificar\n",
        "*   Identificación y/o reconocimiento de palabras claves empleadas\n",
        "*   Creación de modelo de `Machine Learning` para clasificación de autoría por publicaciones\n",
        "\n",
        "Con base a lo anterior, aplicaremos la analítica de texto, y empezemos por definirla\n"
      ],
      "metadata": {
        "id": "nT7HJ73Dia81"
      }
    },
    {
      "cell_type": "markdown",
      "source": [
        "La analítica de texto, también conocida como minería de texto o text mining, se refiere a un conjunto de técnicas que tienen como finalidad estructurar la información heterogénea presente en los textos para identificar patrones, como el uso de palabras, y extraer nueva información. En otras palabras, se trata de un proceso que permite explorar grandes cantidades de datos no estructurados y transformarlos en conocimiento útil para la toma de decisiones y la mejora de procesos."
      ],
      "metadata": {
        "id": "xjHhvhaohkcx"
      }
    },
    {
      "cell_type": "markdown",
      "source": [
        "Actualmente, Twitter se ha consolidado como una fuente dinámica e ingente de contenidos que resulta de gran importancia para los estudios de Social Media Analytics debido a su popularidad e impacto en la sociedad. Dicha plataforma se ha convertido en la principal fuente de información para analizar la reputación de empresas, productos o personalidades, estudios de impacto de marketing, extracción de opiniones y predicción de tendencias, entre otras aplicaciones. En definitiva, Twitter se ha posicionado como una herramienta clave para obtener información valiosa y tomar decisiones informadas en el ámbito empresarial y social."
      ],
      "metadata": {
        "id": "qkqv_apuh-9I"
      }
    },
    {
      "cell_type": "markdown",
      "source": [
        "# Extracción de datos de Twitter mediante técnicas de minería de datos."
      ],
      "metadata": {
        "id": "FxQ1AyJ8iOgg"
      }
    },
    {
      "cell_type": "markdown",
      "source": [
        "Al igual que sucede en muchas redes sociales, Twitter ofrece a los usuarios una API que les permite acceder y extraer información. Aunque en la mayoría de los casos se trata de web services API, en ocasiones se encuentran librerías que permiten interactuar con la API desde diferentes lenguajes de programación. Un ejemplo de estas librerías es [Tweepy](https://docs.tweepy.org/en/latest/index.html), un wrapper (`En lenguajes de programación como JavaScript, un wrapper o envoltorio es una función que llama a una o varias funciones, unas veces únicamente por convenio y otras para adaptarlas con el objetivo de hacer una tarea ligeramente diferente. Por ejemplo, las librerías SDK de AWS son un ejemplo de wrappers.`) de Python que se comunica con la API de Twitter."
      ],
      "metadata": {
        "id": "Eb9MuXMJkLA1"
      }
    },
    {
      "cell_type": "markdown",
      "source": [
        "Dado que las APIs suelen actualizarse con cierta frecuencia, para evitar que el código mostrado en el documento se vuelva obsoleto, se utilizarán tweets previamente extraídos que se encuentran disponibles en el repositorio de [GitHub](https://github.com/JoaquinAmatRodrigo/Estadistica-con-R/tree/master/datos). En concreto, los tweets seleccionados corresponden a:\n",
        "\n",
        "\n",
        "\n",
        "*   Elon Musk (@elonmusk) | Lider empresarial de la industria tecnológica.\n",
        "*   Bill Gates (@BillGates) | Lider empresarial de la industria tecnológica.\n",
        "*   Ed Lee (@mayoredlee) | exalcalde de la ciudad de San Francisco."
      ],
      "metadata": {
        "id": "vNVYq8YekllJ"
      }
    },
    {
      "cell_type": "markdown",
      "source": [
        "# Configuración de las herramientas de trabajo"
      ],
      "metadata": {
        "id": "S7NrYBqAlRcO"
      }
    },
    {
      "cell_type": "markdown",
      "source": [
        "## Librerias recomendadas para el desarrollo de este ejercicio."
      ],
      "metadata": {
        "id": "oBRaWivklWa_"
      }
    },
    {
      "cell_type": "code",
      "source": [
        "# Librerias recomendadas para la manipulación de datos\n",
        "\n",
        "import numpy as np\n",
        "import pandas as pd\n",
        "import string\n",
        "import re\n",
        "\n",
        "# Librerias recomendadas para la implementación de gráficos\n",
        "\n",
        "import matplotlib.pyplot as plt\n",
        "from matplotlib import style\n",
        "import seaborn as sns\n",
        "#style.use('ggplot') or plt.style.use('ggplot')\n",
        "\n",
        "# Librerias recomendadas para el preprocesado y modelado de datos\n",
        "\n",
        "from sklearn import svm\n",
        "from sklearn.model_selection import train_test_split\n",
        "from sklearn.model_selection import GridSearchCV\n",
        "from sklearn.metrics import confusion_matrix\n",
        "from sklearn.feature_extraction.text import TfidfVectorizer\n",
        "import nltk\n",
        "#nltk.download('stopwords')\n",
        "from nltk.corpus import stopwords"
      ],
      "metadata": {
        "id": "RCg8XNLzlaBI"
      },
      "execution_count": 1,
      "outputs": []
    },
    {
      "cell_type": "markdown",
      "source": [
        "## Adquisición de datos mediante técnicas de extracción y recolección de información."
      ],
      "metadata": {
        "id": "WU6s1h_pmk2u"
      }
    },
    {
      "cell_type": "markdown",
      "source": [
        "NOTA: Los datos utilizados en este documento corresponden a tweets publicados por Elon Musk (@elonmusk), Bill Gates (@BillGates) y el exalcalde de San Francisco Ed Lee (@mayoredlee). Estos tweets fueron extraídos en noviembre de 2017."
      ],
      "metadata": {
        "id": "Oj_ErHWnmyos"
      }
    },
    {
      "cell_type": "code",
      "source": [
        "# Proceso de lectura y carga de datos\n",
        "\n",
        "url = 'https://raw.githubusercontent.com/JoaquinAmatRodrigo/Estadistica-con-R/master/datos/'\n",
        "tweets_elon   = pd.read_csv(url + \"datos_tweets_@elonmusk.csv\")\n",
        "tweets_edlee  = pd.read_csv(url + \"datos_tweets_@mayoredlee.csv\")\n",
        "tweets_bgates = pd.read_csv(url + \"datos_tweets_@BillGates.csv\")\n",
        "\n",
        "print('Número de tweets de Bill Gates: ' + str(tweets_bgates.shape[0]))\n",
        "print('Número de tweets de Ed Lee: ' + str(tweets_edlee.shape[0]))\n",
        "print('Número de tweets de Elon Musk: ' + str(tweets_elon.shape[0]))"
      ],
      "metadata": {
        "colab": {
          "base_uri": "https://localhost:8080/"
        },
        "id": "Ep78QMsym5qf",
        "outputId": "349ca637-281f-4dd8-e97a-291881456a0c"
      },
      "execution_count": 2,
      "outputs": [
        {
          "output_type": "stream",
          "name": "stdout",
          "text": [
            "Número de tweets de Bill Gates: 2087\n",
            "Número de tweets de Ed Lee: 2447\n",
            "Número de tweets de Elon Musk: 2678\n"
          ]
        }
      ]
    },
    {
      "cell_type": "code",
      "source": [
        "# Se combinan los dos dataframes en uno solo\n",
        "tweets = pd.concat([tweets_elon, tweets_edlee, tweets_bgates], ignore_index=True)\n",
        "\n",
        "# Se seleccionan y renombran las columnas relevantes\n",
        "tweets = tweets[['screen_name', 'created_at', 'status_id', 'text']]\n",
        "tweets.columns = ['autor', 'fecha', 'id', 'texto']\n",
        "\n",
        "# Conversión a formato de fecha\n",
        "tweets['fecha'] = pd.to_datetime(tweets['fecha'])\n",
        "tweets.head(3)"
      ],
      "metadata": {
        "colab": {
          "base_uri": "https://localhost:8080/",
          "height": 143
        },
        "id": "BbsVwBHsnTCS",
        "outputId": "dbddc365-4593-4f9c-92b9-3ebe9f4f8bdf"
      },
      "execution_count": 3,
      "outputs": [
        {
          "output_type": "execute_result",
          "data": {
            "text/plain": [
              "      autor                     fecha            id  \\\n",
              "0  elonmusk 2017-11-09 17:28:57+00:00  9.286758e+17   \n",
              "1  elonmusk 2017-11-09 17:12:46+00:00  9.286717e+17   \n",
              "2  elonmusk 2017-11-08 18:55:13+00:00  9.283351e+17   \n",
              "\n",
              "                                               texto  \n",
              "0  \"If one day, my words are against science, cho...  \n",
              "1  I placed the flowers\\n\\nThree broken ribs\\nA p...  \n",
              "2          Atatürk Anıtkabir https://t.co/al3wt0njr6  "
            ],
            "text/html": [
              "\n",
              "  <div id=\"df-4260895f-c865-42b1-a477-3cb44d53acc2\">\n",
              "    <div class=\"colab-df-container\">\n",
              "      <div>\n",
              "<style scoped>\n",
              "    .dataframe tbody tr th:only-of-type {\n",
              "        vertical-align: middle;\n",
              "    }\n",
              "\n",
              "    .dataframe tbody tr th {\n",
              "        vertical-align: top;\n",
              "    }\n",
              "\n",
              "    .dataframe thead th {\n",
              "        text-align: right;\n",
              "    }\n",
              "</style>\n",
              "<table border=\"1\" class=\"dataframe\">\n",
              "  <thead>\n",
              "    <tr style=\"text-align: right;\">\n",
              "      <th></th>\n",
              "      <th>autor</th>\n",
              "      <th>fecha</th>\n",
              "      <th>id</th>\n",
              "      <th>texto</th>\n",
              "    </tr>\n",
              "  </thead>\n",
              "  <tbody>\n",
              "    <tr>\n",
              "      <th>0</th>\n",
              "      <td>elonmusk</td>\n",
              "      <td>2017-11-09 17:28:57+00:00</td>\n",
              "      <td>9.286758e+17</td>\n",
              "      <td>\"If one day, my words are against science, cho...</td>\n",
              "    </tr>\n",
              "    <tr>\n",
              "      <th>1</th>\n",
              "      <td>elonmusk</td>\n",
              "      <td>2017-11-09 17:12:46+00:00</td>\n",
              "      <td>9.286717e+17</td>\n",
              "      <td>I placed the flowers\\n\\nThree broken ribs\\nA p...</td>\n",
              "    </tr>\n",
              "    <tr>\n",
              "      <th>2</th>\n",
              "      <td>elonmusk</td>\n",
              "      <td>2017-11-08 18:55:13+00:00</td>\n",
              "      <td>9.283351e+17</td>\n",
              "      <td>Atatürk Anıtkabir https://t.co/al3wt0njr6</td>\n",
              "    </tr>\n",
              "  </tbody>\n",
              "</table>\n",
              "</div>\n",
              "      <button class=\"colab-df-convert\" onclick=\"convertToInteractive('df-4260895f-c865-42b1-a477-3cb44d53acc2')\"\n",
              "              title=\"Convert this dataframe to an interactive table.\"\n",
              "              style=\"display:none;\">\n",
              "        \n",
              "  <svg xmlns=\"http://www.w3.org/2000/svg\" height=\"24px\"viewBox=\"0 0 24 24\"\n",
              "       width=\"24px\">\n",
              "    <path d=\"M0 0h24v24H0V0z\" fill=\"none\"/>\n",
              "    <path d=\"M18.56 5.44l.94 2.06.94-2.06 2.06-.94-2.06-.94-.94-2.06-.94 2.06-2.06.94zm-11 1L8.5 8.5l.94-2.06 2.06-.94-2.06-.94L8.5 2.5l-.94 2.06-2.06.94zm10 10l.94 2.06.94-2.06 2.06-.94-2.06-.94-.94-2.06-.94 2.06-2.06.94z\"/><path d=\"M17.41 7.96l-1.37-1.37c-.4-.4-.92-.59-1.43-.59-.52 0-1.04.2-1.43.59L10.3 9.45l-7.72 7.72c-.78.78-.78 2.05 0 2.83L4 21.41c.39.39.9.59 1.41.59.51 0 1.02-.2 1.41-.59l7.78-7.78 2.81-2.81c.8-.78.8-2.07 0-2.86zM5.41 20L4 18.59l7.72-7.72 1.47 1.35L5.41 20z\"/>\n",
              "  </svg>\n",
              "      </button>\n",
              "      \n",
              "  <style>\n",
              "    .colab-df-container {\n",
              "      display:flex;\n",
              "      flex-wrap:wrap;\n",
              "      gap: 12px;\n",
              "    }\n",
              "\n",
              "    .colab-df-convert {\n",
              "      background-color: #E8F0FE;\n",
              "      border: none;\n",
              "      border-radius: 50%;\n",
              "      cursor: pointer;\n",
              "      display: none;\n",
              "      fill: #1967D2;\n",
              "      height: 32px;\n",
              "      padding: 0 0 0 0;\n",
              "      width: 32px;\n",
              "    }\n",
              "\n",
              "    .colab-df-convert:hover {\n",
              "      background-color: #E2EBFA;\n",
              "      box-shadow: 0px 1px 2px rgba(60, 64, 67, 0.3), 0px 1px 3px 1px rgba(60, 64, 67, 0.15);\n",
              "      fill: #174EA6;\n",
              "    }\n",
              "\n",
              "    [theme=dark] .colab-df-convert {\n",
              "      background-color: #3B4455;\n",
              "      fill: #D2E3FC;\n",
              "    }\n",
              "\n",
              "    [theme=dark] .colab-df-convert:hover {\n",
              "      background-color: #434B5C;\n",
              "      box-shadow: 0px 1px 3px 1px rgba(0, 0, 0, 0.15);\n",
              "      filter: drop-shadow(0px 1px 2px rgba(0, 0, 0, 0.3));\n",
              "      fill: #FFFFFF;\n",
              "    }\n",
              "  </style>\n",
              "\n",
              "      <script>\n",
              "        const buttonEl =\n",
              "          document.querySelector('#df-4260895f-c865-42b1-a477-3cb44d53acc2 button.colab-df-convert');\n",
              "        buttonEl.style.display =\n",
              "          google.colab.kernel.accessAllowed ? 'block' : 'none';\n",
              "\n",
              "        async function convertToInteractive(key) {\n",
              "          const element = document.querySelector('#df-4260895f-c865-42b1-a477-3cb44d53acc2');\n",
              "          const dataTable =\n",
              "            await google.colab.kernel.invokeFunction('convertToInteractive',\n",
              "                                                     [key], {});\n",
              "          if (!dataTable) return;\n",
              "\n",
              "          const docLinkHtml = 'Like what you see? Visit the ' +\n",
              "            '<a target=\"_blank\" href=https://colab.research.google.com/notebooks/data_table.ipynb>data table notebook</a>'\n",
              "            + ' to learn more about interactive tables.';\n",
              "          element.innerHTML = '';\n",
              "          dataTable['output_type'] = 'display_data';\n",
              "          await google.colab.output.renderOutput(dataTable, element);\n",
              "          const docLink = document.createElement('div');\n",
              "          docLink.innerHTML = docLinkHtml;\n",
              "          element.appendChild(docLink);\n",
              "        }\n",
              "      </script>\n",
              "    </div>\n",
              "  </div>\n",
              "  "
            ]
          },
          "metadata": {},
          "execution_count": 3
        }
      ]
    },
    {
      "cell_type": "markdown",
      "source": [
        "# Análisis de la distribución temporal de los tweets."
      ],
      "metadata": {
        "id": "rfZ_AnRznryA"
      }
    },
    {
      "cell_type": "markdown",
      "source": [
        "Cada usuario pudo haber comenzado a utilizar Twitter en momentos diferentes, es importante explorar si los tweets recuperados se `solapan` en el tiempo.\n",
        "\n",
        "Se hace referencia a `solapan` cuando hay una superposición o coincidencia de dos o más elementos en el mismo periodo de tiempo. En el contexto de los tweets recuperados, se refiere a la posibilidad de que los tweets de los usuarios en cuestión se hayan publicado en el mismo periodo de tiempo, lo que puede tener implicaciones en el análisis y las conclusiones obtenidas a partir de ellos."
      ],
      "metadata": {
        "id": "mAu7GrupnvVV"
      }
    },
    {
      "cell_type": "code",
      "source": [
        "# Análisis de la distribución temporal de los tweets y su relación con los eventos relevantes en el período de estudio.\n",
        "\n",
        "fig, ax = plt.subplots(figsize=(9,4))\n",
        "\n",
        "for autor in tweets.autor.unique():\n",
        "    df_temp = tweets[tweets['autor'] == autor].copy()\n",
        "    df_temp['fecha'] = pd.to_datetime(df_temp['fecha'].dt.strftime('%Y-%m'))\n",
        "    df_temp = df_temp.groupby(df_temp['fecha']).size()\n",
        "    df_temp.plot(label=autor, ax=ax)\n",
        "\n",
        "ax.set_title('Cantidad de tweets publicados por mes y su evolución en el período de estudio.')\n",
        "ax.legend();"
      ],
      "metadata": {
        "colab": {
          "base_uri": "https://localhost:8080/",
          "height": 411
        },
        "id": "4w9LRkXToM12",
        "outputId": "d8af679a-f51e-4f2d-890c-035747967d22"
      },
      "execution_count": 5,
      "outputs": [
        {
          "output_type": "display_data",
          "data": {
            "text/plain": [
              "<Figure size 900x400 with 1 Axes>"
            ],
            "image/png": "[encoded data removed]"
          },
          "metadata": {}
        }
      ]
    },
    {
      "cell_type": "markdown",
      "source": [
        "## Observaciones importantes que pueden inferir del análisis de la distribución temporal:\n",
        "\n"
      ],
      "metadata": {
        "id": "Ry5UpuhRo1XG"
      }
    },
    {
      "cell_type": "markdown",
      "source": [
        "Tras el análisis de la distribución temporal de los tweets de los usuarios seleccionados, se observa un perfil de actividad distinto para cada uno de ellos.\n",
        "\n",
        "*   Bill Gates ha mantenido una actividad constante de alrededor de 30 tweets por mes durante todo el período estudiado.\n",
        "*   Elon Musk muestra una actividad inicial inferior a la de Bill Gates, pero a partir de febrero de 2016, incrementó significativamente el número de tweets publicados. \n",
        "*   Ed Lee se destaca por una actividad muy alta, especialmente en el período 2017.\n",
        "\n",
        "Es importante tener en cuenta que Twitter impone limitaciones en las recuperaciones, y cuanto más activo es un usuario, menor es el intervalo de tiempo para el que se pueden recuperar tweets. \n",
        "\n",
        "En el caso de Ed Lee, que publica con mucha más frecuencia que el resto, se abarca menos de la mitad del rango temporal con la misma cantidad de tweets recuperados en comparación con los otros usuarios analizados.\n",
        "\n",
        "En conclusión, el análisis de la distribución temporal de los tweets permite observar diferentes perfiles de actividad para cada usuario y cómo la frecuencia de publicación varía a lo largo del tiempo. Además, se destaca la importancia de considerar las limitaciones impuestas por Twitter al momento de recuperar los tweets de usuarios muy activos."
      ],
      "metadata": {
        "id": "N-5Gy7kCo-yn"
      }
    },
    {
      "cell_type": "markdown",
      "source": [
        "# Limpieza y Tokenización"
      ],
      "metadata": {
        "id": "tE7z5pospbtG"
      }
    },
    {
      "cell_type": "markdown",
      "source": [
        "Es importante saber, que en el análisis de texto, la limpieza y tokenización son dos conceptos y etapas esenciales en el preprocesamiento de los datos antes de su análisis."
      ],
      "metadata": {
        "id": "8HFyBSPBppwQ"
      }
    },
    {
      "cell_type": "markdown",
      "source": [
        "## Limpieza"
      ],
      "metadata": {
        "id": "PM2__TARqqx_"
      }
    },
    {
      "cell_type": "markdown",
      "source": [
        "La limpieza se refiere al proceso de eliminación de elementos no relevantes en el texto, como son signos de puntuación, números, caracteres especiales, URLs y cualquier otro tipo de información que no aporta valor al análisis. El objetivo de la limpieza es preparar el texto para el procesamiento de tal forma que se puedan extraer las palabras o términos relevantes que permitan el análisis."
      ],
      "metadata": {
        "id": "5Jtq5S3AquGr"
      }
    },
    {
      "cell_type": "markdown",
      "source": [
        "## Tokenización"
      ],
      "metadata": {
        "id": "R97Ie-FIqyNH"
      }
    },
    {
      "cell_type": "markdown",
      "source": [
        "La tokenización es la siguiente etapa en el preprocesamiento del texto, y se refiere al proceso de dividir el texto en unidades más pequeñas, llamadas tokens. Estos tokens suelen ser palabras o términos, pero también pueden ser frases o caracteres individuales, dependiendo del análisis que se quiera realizar. La tokenización es una etapa importante para poder trabajar con los datos de forma más eficiente y extraer información relevante a partir de los tokens obtenidos."
      ],
      "metadata": {
        "id": "es5BCLezq1Is"
      }
    },
    {
      "cell_type": "markdown",
      "source": [
        "Hay varias librerías que automatizan la limpieza y tokenización de texto, como la clase `feature_extraction.text.CountVectorizer` de:\n",
        "\n",
        "*   [nltk.tokenize](https://bit.ly/41hfse8)\n",
        "*   [Scikit Learn](https://bit.ly/3Uq1h4h)\n",
        "*   [spaCy](https://bit.ly/3moFrBw)\n",
        "\n",
        "en este ejemplo se ha definido una función personalizada que, aunque no es tan eficiente, ofrece la ventaja de ser más adaptable a diferentes tipos de texto que se quieran analizar."
      ],
      "metadata": {
        "id": "gWJzPpk4q6SI"
      }
    },
    {
      "cell_type": "code",
      "source": [
        "def limpiar_tokenizar(texto):\n",
        "    '''\n",
        "    Esta función limpia y tokeniza el texto en palabras individuales.\n",
        "    El orden en el que se va limpiando el texto no es arbitrario.\n",
        "    El listado de signos de puntuación se ha obtenido de: print(string.punctuation)\n",
        "    y re.escape(string.punctuation)\n",
        "    '''\n",
        "    \n",
        "    # Conversión a minúsculas\n",
        "    nuevo_texto = texto.lower()\n",
        "    # Eliminación de URLs (que empiezan por \"http\")\n",
        "    nuevo_texto = re.sub('http\\S+', ' ', nuevo_texto)\n",
        "    # Eliminación de signos de puntuación\n",
        "    regex = '[\\\\!\\\\\"\\\\#\\\\$\\\\%\\\\&\\\\\\'\\\\(\\\\)\\\\*\\\\+\\\\,\\\\-\\\\.\\\\/\\\\:\\\\;\\\\<\\\\=\\\\>\\\\?\\\\@\\\\[\\\\\\\\\\\\]\\\\^_\\\\`\\\\{\\\\|\\\\}\\\\~]'\n",
        "    nuevo_texto = re.sub(regex , ' ', nuevo_texto)\n",
        "    # Eliminación de números\n",
        "    nuevo_texto = re.sub(\"\\d+\", ' ', nuevo_texto)\n",
        "    # Eliminación de espacios en blanco múltiples\n",
        "    nuevo_texto = re.sub(\"\\\\s+\", ' ', nuevo_texto)\n",
        "    # Tokenización por palabras individuales\n",
        "    nuevo_texto = nuevo_texto.split(sep = ' ')\n",
        "    # Eliminación de tokens con una longitud < 2\n",
        "    nuevo_texto = [token for token in nuevo_texto if len(token) > 1]\n",
        "    \n",
        "    return(nuevo_texto)\n",
        "\n",
        "print(limpiar_tokenizar)"
      ],
      "metadata": {
        "colab": {
          "base_uri": "https://localhost:8080/"
        },
        "id": "ukuELWvAr7De",
        "outputId": "2217ce51-5f6c-4ce8-ec70-e8377d31caed"
      },
      "execution_count": 11,
      "outputs": [
        {
          "output_type": "stream",
          "name": "stdout",
          "text": [
            "<function limpiar_tokenizar at 0x7f36260aa310>\n"
          ]
        }
      ]
    },
    {
      "cell_type": "markdown",
      "source": [
        "La función `limpiar_tokenizar()` elimina los símbolos `@` y `#` de las palabras que los acompañan. En Twitter, estos símbolos forman parte de la identificación del usuario; importante tener en cuenta su eliminación durante el proceso de limpieza de texto.\n",
        "\n",
        "Sin embargo, en este caso en particular, el impacto de esta eliminación no es muy significativo, por ejemplo, si un documento contiene la palabra `#datascience`, también será fácilmente detectado mediante la palabra `\"datascience\"` sin el símbolo `#`."
      ],
      "metadata": {
        "id": "oAjOjxnatQ7-"
      }
    },
    {
      "cell_type": "code",
      "source": [
        "# Aplicación de la función de limpieza y tokenización a cada tweet\n",
        "\n",
        "tweets['texto_tokenizado'] = tweets['texto'].apply(lambda x: limpiar_tokenizar(x))\n",
        "tweets[['texto', 'texto_tokenizado']].head()"
      ],
      "metadata": {
        "colab": {
          "base_uri": "https://localhost:8080/",
          "height": 206
        },
        "id": "BIpO5uzutl56",
        "outputId": "38534551-4d93-4ae4-e667-efd9d16e976b"
      },
      "execution_count": 12,
      "outputs": [
        {
          "output_type": "execute_result",
          "data": {
            "text/plain": [
              "                                               texto  \\\n",
              "0  \"If one day, my words are against science, cho...   \n",
              "1  I placed the flowers\\n\\nThree broken ribs\\nA p...   \n",
              "2          Atatürk Anıtkabir https://t.co/al3wt0njr6   \n",
              "3         @Bob_Richards One rocket, slightly toasted   \n",
              "4  @uncover007 500 ft so far. Should be 2 miles l...   \n",
              "\n",
              "                                    texto_tokenizado  \n",
              "0  [if, one, day, my, words, are, against, scienc...  \n",
              "1  [placed, the, flowers, three, broken, ribs, pi...  \n",
              "2                               [atatürk, anıtkabir]  \n",
              "3    [bob, richards, one, rocket, slightly, toasted]  \n",
              "4  [uncover, ft, so, far, should, be, miles, long...  "
            ],
            "text/html": [
              "\n",
              "  <div id=\"df-bd1ed8d6-1fbb-42e1-b59a-2420f1d5456d\">\n",
              "    <div class=\"colab-df-container\">\n",
              "      <div>\n",
              "<style scoped>\n",
              "    .dataframe tbody tr th:only-of-type {\n",
              "        vertical-align: middle;\n",
              "    }\n",
              "\n",
              "    .dataframe tbody tr th {\n",
              "        vertical-align: top;\n",
              "    }\n",
              "\n",
              "    .dataframe thead th {\n",
              "        text-align: right;\n",
              "    }\n",
              "</style>\n",
              "<table border=\"1\" class=\"dataframe\">\n",
              "  <thead>\n",
              "    <tr style=\"text-align: right;\">\n",
              "      <th></th>\n",
              "      <th>texto</th>\n",
              "      <th>texto_tokenizado</th>\n",
              "    </tr>\n",
              "  </thead>\n",
              "  <tbody>\n",
              "    <tr>\n",
              "      <th>0</th>\n",
              "      <td>\"If one day, my words are against science, cho...</td>\n",
              "      <td>[if, one, day, my, words, are, against, scienc...</td>\n",
              "    </tr>\n",
              "    <tr>\n",
              "      <th>1</th>\n",
              "      <td>I placed the flowers\\n\\nThree broken ribs\\nA p...</td>\n",
              "      <td>[placed, the, flowers, three, broken, ribs, pi...</td>\n",
              "    </tr>\n",
              "    <tr>\n",
              "      <th>2</th>\n",
              "      <td>Atatürk Anıtkabir https://t.co/al3wt0njr6</td>\n",
              "      <td>[atatürk, anıtkabir]</td>\n",
              "    </tr>\n",
              "    <tr>\n",
              "      <th>3</th>\n",
              "      <td>@Bob_Richards One rocket, slightly toasted</td>\n",
              "      <td>[bob, richards, one, rocket, slightly, toasted]</td>\n",
              "    </tr>\n",
              "    <tr>\n",
              "      <th>4</th>\n",
              "      <td>@uncover007 500 ft so far. Should be 2 miles l...</td>\n",
              "      <td>[uncover, ft, so, far, should, be, miles, long...</td>\n",
              "    </tr>\n",
              "  </tbody>\n",
              "</table>\n",
              "</div>\n",
              "      <button class=\"colab-df-convert\" onclick=\"convertToInteractive('df-bd1ed8d6-1fbb-42e1-b59a-2420f1d5456d')\"\n",
              "              title=\"Convert this dataframe to an interactive table.\"\n",
              "              style=\"display:none;\">\n",
              "        \n",
              "  <svg xmlns=\"http://www.w3.org/2000/svg\" height=\"24px\"viewBox=\"0 0 24 24\"\n",
              "       width=\"24px\">\n",
              "    <path d=\"M0 0h24v24H0V0z\" fill=\"none\"/>\n",
              "    <path d=\"M18.56 5.44l.94 2.06.94-2.06 2.06-.94-2.06-.94-.94-2.06-.94 2.06-2.06.94zm-11 1L8.5 8.5l.94-2.06 2.06-.94-2.06-.94L8.5 2.5l-.94 2.06-2.06.94zm10 10l.94 2.06.94-2.06 2.06-.94-2.06-.94-.94-2.06-.94 2.06-2.06.94z\"/><path d=\"M17.41 7.96l-1.37-1.37c-.4-.4-.92-.59-1.43-.59-.52 0-1.04.2-1.43.59L10.3 9.45l-7.72 7.72c-.78.78-.78 2.05 0 2.83L4 21.41c.39.39.9.59 1.41.59.51 0 1.02-.2 1.41-.59l7.78-7.78 2.81-2.81c.8-.78.8-2.07 0-2.86zM5.41 20L4 18.59l7.72-7.72 1.47 1.35L5.41 20z\"/>\n",
              "  </svg>\n",
              "      </button>\n",
              "      \n",
              "  <style>\n",
              "    .colab-df-container {\n",
              "      display:flex;\n",
              "      flex-wrap:wrap;\n",
              "      gap: 12px;\n",
              "    }\n",
              "\n",
              "    .colab-df-convert {\n",
              "      background-color: #E8F0FE;\n",
              "      border: none;\n",
              "      border-radius: 50%;\n",
              "      cursor: pointer;\n",
              "      display: none;\n",
              "      fill: #1967D2;\n",
              "      height: 32px;\n",
              "      padding: 0 0 0 0;\n",
              "      width: 32px;\n",
              "    }\n",
              "\n",
              "    .colab-df-convert:hover {\n",
              "      background-color: #E2EBFA;\n",
              "      box-shadow: 0px 1px 2px rgba(60, 64, 67, 0.3), 0px 1px 3px 1px rgba(60, 64, 67, 0.15);\n",
              "      fill: #174EA6;\n",
              "    }\n",
              "\n",
              "    [theme=dark] .colab-df-convert {\n",
              "      background-color: #3B4455;\n",
              "      fill: #D2E3FC;\n",
              "    }\n",
              "\n",
              "    [theme=dark] .colab-df-convert:hover {\n",
              "      background-color: #434B5C;\n",
              "      box-shadow: 0px 1px 3px 1px rgba(0, 0, 0, 0.15);\n",
              "      filter: drop-shadow(0px 1px 2px rgba(0, 0, 0, 0.3));\n",
              "      fill: #FFFFFF;\n",
              "    }\n",
              "  </style>\n",
              "\n",
              "      <script>\n",
              "        const buttonEl =\n",
              "          document.querySelector('#df-bd1ed8d6-1fbb-42e1-b59a-2420f1d5456d button.colab-df-convert');\n",
              "        buttonEl.style.display =\n",
              "          google.colab.kernel.accessAllowed ? 'block' : 'none';\n",
              "\n",
              "        async function convertToInteractive(key) {\n",
              "          const element = document.querySelector('#df-bd1ed8d6-1fbb-42e1-b59a-2420f1d5456d');\n",
              "          const dataTable =\n",
              "            await google.colab.kernel.invokeFunction('convertToInteractive',\n",
              "                                                     [key], {});\n",
              "          if (!dataTable) return;\n",
              "\n",
              "          const docLinkHtml = 'Like what you see? Visit the ' +\n",
              "            '<a target=\"_blank\" href=https://colab.research.google.com/notebooks/data_table.ipynb>data table notebook</a>'\n",
              "            + ' to learn more about interactive tables.';\n",
              "          element.innerHTML = '';\n",
              "          dataTable['output_type'] = 'display_data';\n",
              "          await google.colab.output.renderOutput(dataTable, element);\n",
              "          const docLink = document.createElement('div');\n",
              "          docLink.innerHTML = docLinkHtml;\n",
              "          element.appendChild(docLink);\n",
              "        }\n",
              "      </script>\n",
              "    </div>\n",
              "  </div>\n",
              "  "
            ]
          },
          "metadata": {},
          "execution_count": 12
        }
      ]
    },
    {
      "cell_type": "markdown",
      "source": [
        "El uso de `data.frames` de pandas permite almacenar el texto tokenizado gracias a su capacidad para contener cualquier tipo de elemento en sus columnas, siempre que sea coherente con el resto de la columna.\n",
        "\n",
        "De esta forma, la columna `texto_tokenizado` contiene elementos que son listas, las cuales a su vez contienen los `tokens generados`.\n",
        "\n",
        "Es importante tener en cuenta que, aunque este enfoque es adecuado para un análisis de texto básico, en un entorno productivo, de mayor impacto y alcance, es preferible utilizar las herramientas especializadas como los tokenizadores disponibles en:\n",
        "\n",
        "*   [nltk.tokenize](https://bit.ly/41hfse8)\n",
        "*   [Scikit Learn](https://bit.ly/3Uq1h4h)\n",
        "*   [spaCy](https://bit.ly/3moFrBw)\n",
        "\n",
        "Para obtener resultados más precisos y eficientes."
      ],
      "metadata": {
        "id": "TdqJ69UmuSY8"
      }
    },
    {
      "cell_type": "markdown",
      "source": [
        "# Análisis Exploratorio de Datos"
      ],
      "metadata": {
        "id": "oy0fZlR9vByj"
      }
    },
    {
      "cell_type": "markdown",
      "source": [
        "Para comprender mejor las características de la escritura de un autor, resulta valioso analizar qué palabras utiliza con qué frecuencia y qué significado tienen."
      ],
      "metadata": {
        "id": "vgl0eFcZvJJ_"
      }
    },
    {
      "cell_type": "markdown",
      "source": [
        "En el `análisis exploratorio de datos en Python`, una de las estructuras más útiles es el `DataFrame de Pandas`, que es donde estamos almacenando la información de los tweets.\n",
        "\n",
        "Sin embargo, al realizar la `tokenización`, se produce un cambio importante en la estructura de los datos. Antes, cada fila del DataFrame representaba un tweet, pero después de la `tokenización`, el elemento de estudio se convierte en cada token individual, lo que incumple la condición de \"tidy data\" `(Los tidy data, o datos prolijos, son una forma de ordenar y limpiar la información de una manera que permite ser leída y entendida de manera mucho más fácil y exacta. Para que esto sea posible se tienen que cumplir dos condiciones simultáneamente: que cada columna sea una variable y cada fila una observación.)` de tener una sola observación por fila. Para solucionar esto, se debe expandir cada lista de tokens, duplicando los valores de las otras columnas según sea necesario, en un proceso llamado expansión o unnest.\n",
        "\n",
        "Aunque este proceso aumenta el número de filas, tiene muchos beneficios, ya que permite realizar operaciones como agrupación, conteo y visualización de datos de manera más eficiente y efectiva."
      ],
      "metadata": {
        "id": "N5HYvh8GvRUs"
      }
    },
    {
      "cell_type": "code",
      "source": [
        "# Expansión o unnest de la columna \"texto_tokenizado\" para volver a la estructura tidy data.\n",
        "\n",
        "tweets_tidy = tweets.explode(column='texto_tokenizado')\n",
        "tweets_tidy = tweets_tidy.drop(columns='texto')\n",
        "tweets_tidy = tweets_tidy.rename(columns={'texto_tokenizado':'token'})\n",
        "tweets_tidy.head(3)"
      ],
      "metadata": {
        "colab": {
          "base_uri": "https://localhost:8080/",
          "height": 143
        },
        "id": "SJ87k-nJwV_-",
        "outputId": "88327bd3-3826-45f3-9e17-1063b1fb6c0b"
      },
      "execution_count": 13,
      "outputs": [
        {
          "output_type": "execute_result",
          "data": {
            "text/plain": [
              "      autor                     fecha            id token\n",
              "0  elonmusk 2017-11-09 17:28:57+00:00  9.286758e+17    if\n",
              "0  elonmusk 2017-11-09 17:28:57+00:00  9.286758e+17   one\n",
              "0  elonmusk 2017-11-09 17:28:57+00:00  9.286758e+17   day"
            ],
            "text/html": [
              "\n",
              "  <div id=\"df-93e04ecb-689c-4754-a9dd-628e2823bbcb\">\n",
              "    <div class=\"colab-df-container\">\n",
              "      <div>\n",
              "<style scoped>\n",
              "    .dataframe tbody tr th:only-of-type {\n",
              "        vertical-align: middle;\n",
              "    }\n",
              "\n",
              "    .dataframe tbody tr th {\n",
              "        vertical-align: top;\n",
              "    }\n",
              "\n",
              "    .dataframe thead th {\n",
              "        text-align: right;\n",
              "    }\n",
              "</style>\n",
              "<table border=\"1\" class=\"dataframe\">\n",
              "  <thead>\n",
              "    <tr style=\"text-align: right;\">\n",
              "      <th></th>\n",
              "      <th>autor</th>\n",
              "      <th>fecha</th>\n",
              "      <th>id</th>\n",
              "      <th>token</th>\n",
              "    </tr>\n",
              "  </thead>\n",
              "  <tbody>\n",
              "    <tr>\n",
              "      <th>0</th>\n",
              "      <td>elonmusk</td>\n",
              "      <td>2017-11-09 17:28:57+00:00</td>\n",
              "      <td>9.286758e+17</td>\n",
              "      <td>if</td>\n",
              "    </tr>\n",
              "    <tr>\n",
              "      <th>0</th>\n",
              "      <td>elonmusk</td>\n",
              "      <td>2017-11-09 17:28:57+00:00</td>\n",
              "      <td>9.286758e+17</td>\n",
              "      <td>one</td>\n",
              "    </tr>\n",
              "    <tr>\n",
              "      <th>0</th>\n",
              "      <td>elonmusk</td>\n",
              "      <td>2017-11-09 17:28:57+00:00</td>\n",
              "      <td>9.286758e+17</td>\n",
              "      <td>day</td>\n",
              "    </tr>\n",
              "  </tbody>\n",
              "</table>\n",
              "</div>\n",
              "      <button class=\"colab-df-convert\" onclick=\"convertToInteractive('df-93e04ecb-689c-4754-a9dd-628e2823bbcb')\"\n",
              "              title=\"Convert this dataframe to an interactive table.\"\n",
              "              style=\"display:none;\">\n",
              "        \n",
              "  <svg xmlns=\"http://www.w3.org/2000/svg\" height=\"24px\"viewBox=\"0 0 24 24\"\n",
              "       width=\"24px\">\n",
              "    <path d=\"M0 0h24v24H0V0z\" fill=\"none\"/>\n",
              "    <path d=\"M18.56 5.44l.94 2.06.94-2.06 2.06-.94-2.06-.94-.94-2.06-.94 2.06-2.06.94zm-11 1L8.5 8.5l.94-2.06 2.06-.94-2.06-.94L8.5 2.5l-.94 2.06-2.06.94zm10 10l.94 2.06.94-2.06 2.06-.94-2.06-.94-.94-2.06-.94 2.06-2.06.94z\"/><path d=\"M17.41 7.96l-1.37-1.37c-.4-.4-.92-.59-1.43-.59-.52 0-1.04.2-1.43.59L10.3 9.45l-7.72 7.72c-.78.78-.78 2.05 0 2.83L4 21.41c.39.39.9.59 1.41.59.51 0 1.02-.2 1.41-.59l7.78-7.78 2.81-2.81c.8-.78.8-2.07 0-2.86zM5.41 20L4 18.59l7.72-7.72 1.47 1.35L5.41 20z\"/>\n",
              "  </svg>\n",
              "      </button>\n",
              "      \n",
              "  <style>\n",
              "    .colab-df-container {\n",
              "      display:flex;\n",
              "      flex-wrap:wrap;\n",
              "      gap: 12px;\n",
              "    }\n",
              "\n",
              "    .colab-df-convert {\n",
              "      background-color: #E8F0FE;\n",
              "      border: none;\n",
              "      border-radius: 50%;\n",
              "      cursor: pointer;\n",
              "      display: none;\n",
              "      fill: #1967D2;\n",
              "      height: 32px;\n",
              "      padding: 0 0 0 0;\n",
              "      width: 32px;\n",
              "    }\n",
              "\n",
              "    .colab-df-convert:hover {\n",
              "      background-color: #E2EBFA;\n",
              "      box-shadow: 0px 1px 2px rgba(60, 64, 67, 0.3), 0px 1px 3px 1px rgba(60, 64, 67, 0.15);\n",
              "      fill: #174EA6;\n",
              "    }\n",
              "\n",
              "    [theme=dark] .colab-df-convert {\n",
              "      background-color: #3B4455;\n",
              "      fill: #D2E3FC;\n",
              "    }\n",
              "\n",
              "    [theme=dark] .colab-df-convert:hover {\n",
              "      background-color: #434B5C;\n",
              "      box-shadow: 0px 1px 3px 1px rgba(0, 0, 0, 0.15);\n",
              "      filter: drop-shadow(0px 1px 2px rgba(0, 0, 0, 0.3));\n",
              "      fill: #FFFFFF;\n",
              "    }\n",
              "  </style>\n",
              "\n",
              "      <script>\n",
              "        const buttonEl =\n",
              "          document.querySelector('#df-93e04ecb-689c-4754-a9dd-628e2823bbcb button.colab-df-convert');\n",
              "        buttonEl.style.display =\n",
              "          google.colab.kernel.accessAllowed ? 'block' : 'none';\n",
              "\n",
              "        async function convertToInteractive(key) {\n",
              "          const element = document.querySelector('#df-93e04ecb-689c-4754-a9dd-628e2823bbcb');\n",
              "          const dataTable =\n",
              "            await google.colab.kernel.invokeFunction('convertToInteractive',\n",
              "                                                     [key], {});\n",
              "          if (!dataTable) return;\n",
              "\n",
              "          const docLinkHtml = 'Like what you see? Visit the ' +\n",
              "            '<a target=\"_blank\" href=https://colab.research.google.com/notebooks/data_table.ipynb>data table notebook</a>'\n",
              "            + ' to learn more about interactive tables.';\n",
              "          element.innerHTML = '';\n",
              "          dataTable['output_type'] = 'display_data';\n",
              "          await google.colab.output.renderOutput(dataTable, element);\n",
              "          const docLink = document.createElement('div');\n",
              "          docLink.innerHTML = docLinkHtml;\n",
              "          element.appendChild(docLink);\n",
              "        }\n",
              "      </script>\n",
              "    </div>\n",
              "  </div>\n",
              "  "
            ]
          },
          "metadata": {},
          "execution_count": 13
        }
      ]
    },
    {
      "cell_type": "markdown",
      "source": [
        "## Frecuencia de palabras en un texto"
      ],
      "metadata": {
        "id": "Ys6k8iwqwmxs"
      }
    },
    {
      "cell_type": "code",
      "source": [
        "# Cantidad total de palabras utilizadas por cada autor\n",
        "\n",
        "print('Cantidad total de palabras utilizadas por cada autor:')\n",
        "print('----------------------------')\n",
        "tweets_tidy.groupby(by='autor')['token'].count()"
      ],
      "metadata": {
        "colab": {
          "base_uri": "https://localhost:8080/"
        },
        "id": "Qa5bKLiewtXK",
        "outputId": "6ba2c07e-c9c1-4cde-e419-ed8d3f007fa3"
      },
      "execution_count": 20,
      "outputs": [
        {
          "output_type": "stream",
          "name": "stdout",
          "text": [
            "Cantidad total de palabras utilizadas por cada autor:\n",
            "----------------------------\n"
          ]
        },
        {
          "output_type": "execute_result",
          "data": {
            "text/plain": [
              "autor\n",
              "BillGates     31500\n",
              "elonmusk      33609\n",
              "mayoredlee    41878\n",
              "Name: token, dtype: int64"
            ]
          },
          "metadata": {},
          "execution_count": 20
        }
      ]
    },
    {
      "cell_type": "code",
      "source": [
        "# Número de palabras únicas utilizadas por cada autor\n",
        "\n",
        "print('Número de palabras únicas utilizadas por cada autor')\n",
        "print('----------------------------')\n",
        "tweets_tidy.groupby(by='autor')['token'].nunique()"
      ],
      "metadata": {
        "colab": {
          "base_uri": "https://localhost:8080/"
        },
        "id": "1HA8loOexF-5",
        "outputId": "3796ec3d-6261-4971-8ccd-54d6381e589f"
      },
      "execution_count": 21,
      "outputs": [
        {
          "output_type": "stream",
          "name": "stdout",
          "text": [
            "Número de palabras únicas utilizadas por cada autor\n",
            "----------------------------\n"
          ]
        },
        {
          "output_type": "execute_result",
          "data": {
            "text/plain": [
              "autor\n",
              "BillGates     4848\n",
              "elonmusk      6628\n",
              "mayoredlee    5770\n",
              "Name: token, dtype: int64"
            ]
          },
          "metadata": {},
          "execution_count": 21
        }
      ]
    },
    {
      "cell_type": "markdown",
      "source": [
        "Aunque Elon Musk no ha utilizado tantas palabras totales como otros, esto puede ser debido a que ha publicado menos tweets o a que estos son más cortos. Sin embargo, lo interesante es que es el autor que emplea una mayor variedad de palabras distintas en sus tweets, lo que puede indicar un mayor grado de diversidad en su vocabulario."
      ],
      "metadata": {
        "id": "fWlmRtD2xoEQ"
      }
    },
    {
      "cell_type": "markdown",
      "source": [],
      "metadata": {
        "id": "wFTqIvymxpoI"
      }
    },
    {
      "cell_type": "markdown",
      "source": [
        "## Longitud media de los tweets: análisis de la cantidad de caracteres por tweet."
      ],
      "metadata": {
        "id": "0CDIFduFxtkh"
      }
    },
    {
      "cell_type": "code",
      "source": [
        "# Análisis de la longitud maxima, minina, media y desviación de los tweets de cada autor\n",
        "\n",
        "temp_df = pd.DataFrame(tweets_tidy.groupby(by = [\"autor\", \"id\"])[\"token\"].count())\n",
        "temp_df.reset_index().groupby(\"autor\")[\"token\"].agg(['max','min','mean', 'std',])"
      ],
      "metadata": {
        "colab": {
          "base_uri": "https://localhost:8080/",
          "height": 175
        },
        "id": "L2XLWFiox1FA",
        "outputId": "25621673-8130-40f0-bfe1-bd86519b133e"
      },
      "execution_count": 24,
      "outputs": [
        {
          "output_type": "execute_result",
          "data": {
            "text/plain": [
              "            max  min       mean       std\n",
              "autor                                    \n",
              "BillGates    28    2  15.144231  3.347354\n",
              "elonmusk     40    0  12.611257  6.933870\n",
              "mayoredlee   40    0  17.170152  3.486314"
            ],
            "text/html": [
              "\n",
              "  <div id=\"df-041420f8-50bd-4429-b07b-a77ac64d1c68\">\n",
              "    <div class=\"colab-df-container\">\n",
              "      <div>\n",
              "<style scoped>\n",
              "    .dataframe tbody tr th:only-of-type {\n",
              "        vertical-align: middle;\n",
              "    }\n",
              "\n",
              "    .dataframe tbody tr th {\n",
              "        vertical-align: top;\n",
              "    }\n",
              "\n",
              "    .dataframe thead th {\n",
              "        text-align: right;\n",
              "    }\n",
              "</style>\n",
              "<table border=\"1\" class=\"dataframe\">\n",
              "  <thead>\n",
              "    <tr style=\"text-align: right;\">\n",
              "      <th></th>\n",
              "      <th>max</th>\n",
              "      <th>min</th>\n",
              "      <th>mean</th>\n",
              "      <th>std</th>\n",
              "    </tr>\n",
              "    <tr>\n",
              "      <th>autor</th>\n",
              "      <th></th>\n",
              "      <th></th>\n",
              "      <th></th>\n",
              "      <th></th>\n",
              "    </tr>\n",
              "  </thead>\n",
              "  <tbody>\n",
              "    <tr>\n",
              "      <th>BillGates</th>\n",
              "      <td>28</td>\n",
              "      <td>2</td>\n",
              "      <td>15.144231</td>\n",
              "      <td>3.347354</td>\n",
              "    </tr>\n",
              "    <tr>\n",
              "      <th>elonmusk</th>\n",
              "      <td>40</td>\n",
              "      <td>0</td>\n",
              "      <td>12.611257</td>\n",
              "      <td>6.933870</td>\n",
              "    </tr>\n",
              "    <tr>\n",
              "      <th>mayoredlee</th>\n",
              "      <td>40</td>\n",
              "      <td>0</td>\n",
              "      <td>17.170152</td>\n",
              "      <td>3.486314</td>\n",
              "    </tr>\n",
              "  </tbody>\n",
              "</table>\n",
              "</div>\n",
              "      <button class=\"colab-df-convert\" onclick=\"convertToInteractive('df-041420f8-50bd-4429-b07b-a77ac64d1c68')\"\n",
              "              title=\"Convert this dataframe to an interactive table.\"\n",
              "              style=\"display:none;\">\n",
              "        \n",
              "  <svg xmlns=\"http://www.w3.org/2000/svg\" height=\"24px\"viewBox=\"0 0 24 24\"\n",
              "       width=\"24px\">\n",
              "    <path d=\"M0 0h24v24H0V0z\" fill=\"none\"/>\n",
              "    <path d=\"M18.56 5.44l.94 2.06.94-2.06 2.06-.94-2.06-.94-.94-2.06-.94 2.06-2.06.94zm-11 1L8.5 8.5l.94-2.06 2.06-.94-2.06-.94L8.5 2.5l-.94 2.06-2.06.94zm10 10l.94 2.06.94-2.06 2.06-.94-2.06-.94-.94-2.06-.94 2.06-2.06.94z\"/><path d=\"M17.41 7.96l-1.37-1.37c-.4-.4-.92-.59-1.43-.59-.52 0-1.04.2-1.43.59L10.3 9.45l-7.72 7.72c-.78.78-.78 2.05 0 2.83L4 21.41c.39.39.9.59 1.41.59.51 0 1.02-.2 1.41-.59l7.78-7.78 2.81-2.81c.8-.78.8-2.07 0-2.86zM5.41 20L4 18.59l7.72-7.72 1.47 1.35L5.41 20z\"/>\n",
              "  </svg>\n",
              "      </button>\n",
              "      \n",
              "  <style>\n",
              "    .colab-df-container {\n",
              "      display:flex;\n",
              "      flex-wrap:wrap;\n",
              "      gap: 12px;\n",
              "    }\n",
              "\n",
              "    .colab-df-convert {\n",
              "      background-color: #E8F0FE;\n",
              "      border: none;\n",
              "      border-radius: 50%;\n",
              "      cursor: pointer;\n",
              "      display: none;\n",
              "      fill: #1967D2;\n",
              "      height: 32px;\n",
              "      padding: 0 0 0 0;\n",
              "      width: 32px;\n",
              "    }\n",
              "\n",
              "    .colab-df-convert:hover {\n",
              "      background-color: #E2EBFA;\n",
              "      box-shadow: 0px 1px 2px rgba(60, 64, 67, 0.3), 0px 1px 3px 1px rgba(60, 64, 67, 0.15);\n",
              "      fill: #174EA6;\n",
              "    }\n",
              "\n",
              "    [theme=dark] .colab-df-convert {\n",
              "      background-color: #3B4455;\n",
              "      fill: #D2E3FC;\n",
              "    }\n",
              "\n",
              "    [theme=dark] .colab-df-convert:hover {\n",
              "      background-color: #434B5C;\n",
              "      box-shadow: 0px 1px 3px 1px rgba(0, 0, 0, 0.15);\n",
              "      filter: drop-shadow(0px 1px 2px rgba(0, 0, 0, 0.3));\n",
              "      fill: #FFFFFF;\n",
              "    }\n",
              "  </style>\n",
              "\n",
              "      <script>\n",
              "        const buttonEl =\n",
              "          document.querySelector('#df-041420f8-50bd-4429-b07b-a77ac64d1c68 button.colab-df-convert');\n",
              "        buttonEl.style.display =\n",
              "          google.colab.kernel.accessAllowed ? 'block' : 'none';\n",
              "\n",
              "        async function convertToInteractive(key) {\n",
              "          const element = document.querySelector('#df-041420f8-50bd-4429-b07b-a77ac64d1c68');\n",
              "          const dataTable =\n",
              "            await google.colab.kernel.invokeFunction('convertToInteractive',\n",
              "                                                     [key], {});\n",
              "          if (!dataTable) return;\n",
              "\n",
              "          const docLinkHtml = 'Like what you see? Visit the ' +\n",
              "            '<a target=\"_blank\" href=https://colab.research.google.com/notebooks/data_table.ipynb>data table notebook</a>'\n",
              "            + ' to learn more about interactive tables.';\n",
              "          element.innerHTML = '';\n",
              "          dataTable['output_type'] = 'display_data';\n",
              "          await google.colab.output.renderOutput(dataTable, element);\n",
              "          const docLink = document.createElement('div');\n",
              "          docLink.innerHTML = docLinkHtml;\n",
              "          element.appendChild(docLink);\n",
              "        }\n",
              "      </script>\n",
              "    </div>\n",
              "  </div>\n",
              "  "
            ]
          },
          "metadata": {},
          "execution_count": 24
        }
      ]
    },
    {
      "cell_type": "markdown",
      "source": [
        "Las conclusiones extraídas indican que la longitud media y la desviación de los tweets de Bill Gates y Mayor Ed Lee son similares, mientras que Elon Musk presenta mayor variabilidad en su longitud promedio. Los tweets de Musk varían más en longitud, lo que resulta en una media inferior en comparación con los otros dos autores."
      ],
      "metadata": {
        "id": "-JHIaLwayqHY"
      }
    },
    {
      "cell_type": "markdown",
      "source": [
        "A continuación, dejaré algunas preguntas para tu análisis personal, generarse preguntas, hipótesis y demás, también influyen mucho en los análisis que realices.\n",
        "\n",
        "* ¿Por qué crees que Elon Musk publica tweets más cortos y largos de forma alternada?\n",
        "\n",
        "* ¿Crees que la longitud de los tweets tiene alguna relación con la forma en que los usuarios interactúan con ellos?\n",
        "\n",
        "* ¿Podría haber alguna razón específica por la que Bill Gates y Mayor Ed Lee tienden a publicar tweets de longitud similar?"
      ],
      "metadata": {
        "id": "3iYYhMXRyq2D"
      }
    },
    {
      "cell_type": "markdown",
      "source": [
        "## Análisis de frecuencia de palabras más comunes por autor"
      ],
      "metadata": {
        "id": "H3SU5qa0zWXB"
      }
    },
    {
      "cell_type": "code",
      "source": [
        "# Top 5 palabras más frecuentes por cada autor.\n",
        "\n",
        "tweets_tidy.groupby(['autor','token'])['token'] \\\n",
        " .count() \\\n",
        " .reset_index(name='count') \\\n",
        " .groupby('autor') \\\n",
        " .apply(lambda x: x.sort_values('count', ascending=False).head(5))"
      ],
      "metadata": {
        "colab": {
          "base_uri": "https://localhost:8080/",
          "height": 551
        },
        "id": "puFvJorXzZRe",
        "outputId": "44967d09-b458-40e1-eed6-520c87c086fd"
      },
      "execution_count": 25,
      "outputs": [
        {
          "output_type": "execute_result",
          "data": {
            "text/plain": [
              "                       autor token  count\n",
              "autor                                    \n",
              "BillGates  4195    BillGates   the   1178\n",
              "           4271    BillGates    to   1115\n",
              "           2930    BillGates    of    669\n",
              "           2084    BillGates    in    590\n",
              "           2207    BillGates    is    452\n",
              "elonmusk   10699    elonmusk   the    983\n",
              "           10816    elonmusk    to    913\n",
              "           8859     elonmusk    of    638\n",
              "           7801     elonmusk    is    542\n",
              "           7656     elonmusk    in    476\n",
              "mayoredlee 16650  mayoredlee    to   1684\n",
              "           16568  mayoredlee   the   1338\n",
              "           11669  mayoredlee   amp   1212\n",
              "           14957  mayoredlee   our   1096\n",
              "           15964  mayoredlee    sf    909"
            ],
            "text/html": [
              "\n",
              "  <div id=\"df-c80f702e-1c5c-4f60-9e17-ae7de21686e2\">\n",
              "    <div class=\"colab-df-container\">\n",
              "      <div>\n",
              "<style scoped>\n",
              "    .dataframe tbody tr th:only-of-type {\n",
              "        vertical-align: middle;\n",
              "    }\n",
              "\n",
              "    .dataframe tbody tr th {\n",
              "        vertical-align: top;\n",
              "    }\n",
              "\n",
              "    .dataframe thead th {\n",
              "        text-align: right;\n",
              "    }\n",
              "</style>\n",
              "<table border=\"1\" class=\"dataframe\">\n",
              "  <thead>\n",
              "    <tr style=\"text-align: right;\">\n",
              "      <th></th>\n",
              "      <th></th>\n",
              "      <th>autor</th>\n",
              "      <th>token</th>\n",
              "      <th>count</th>\n",
              "    </tr>\n",
              "    <tr>\n",
              "      <th>autor</th>\n",
              "      <th></th>\n",
              "      <th></th>\n",
              "      <th></th>\n",
              "      <th></th>\n",
              "    </tr>\n",
              "  </thead>\n",
              "  <tbody>\n",
              "    <tr>\n",
              "      <th rowspan=\"5\" valign=\"top\">BillGates</th>\n",
              "      <th>4195</th>\n",
              "      <td>BillGates</td>\n",
              "      <td>the</td>\n",
              "      <td>1178</td>\n",
              "    </tr>\n",
              "    <tr>\n",
              "      <th>4271</th>\n",
              "      <td>BillGates</td>\n",
              "      <td>to</td>\n",
              "      <td>1115</td>\n",
              "    </tr>\n",
              "    <tr>\n",
              "      <th>2930</th>\n",
              "      <td>BillGates</td>\n",
              "      <td>of</td>\n",
              "      <td>669</td>\n",
              "    </tr>\n",
              "    <tr>\n",
              "      <th>2084</th>\n",
              "      <td>BillGates</td>\n",
              "      <td>in</td>\n",
              "      <td>590</td>\n",
              "    </tr>\n",
              "    <tr>\n",
              "      <th>2207</th>\n",
              "      <td>BillGates</td>\n",
              "      <td>is</td>\n",
              "      <td>452</td>\n",
              "    </tr>\n",
              "    <tr>\n",
              "      <th rowspan=\"5\" valign=\"top\">elonmusk</th>\n",
              "      <th>10699</th>\n",
              "      <td>elonmusk</td>\n",
              "      <td>the</td>\n",
              "      <td>983</td>\n",
              "    </tr>\n",
              "    <tr>\n",
              "      <th>10816</th>\n",
              "      <td>elonmusk</td>\n",
              "      <td>to</td>\n",
              "      <td>913</td>\n",
              "    </tr>\n",
              "    <tr>\n",
              "      <th>8859</th>\n",
              "      <td>elonmusk</td>\n",
              "      <td>of</td>\n",
              "      <td>638</td>\n",
              "    </tr>\n",
              "    <tr>\n",
              "      <th>7801</th>\n",
              "      <td>elonmusk</td>\n",
              "      <td>is</td>\n",
              "      <td>542</td>\n",
              "    </tr>\n",
              "    <tr>\n",
              "      <th>7656</th>\n",
              "      <td>elonmusk</td>\n",
              "      <td>in</td>\n",
              "      <td>476</td>\n",
              "    </tr>\n",
              "    <tr>\n",
              "      <th rowspan=\"5\" valign=\"top\">mayoredlee</th>\n",
              "      <th>16650</th>\n",
              "      <td>mayoredlee</td>\n",
              "      <td>to</td>\n",
              "      <td>1684</td>\n",
              "    </tr>\n",
              "    <tr>\n",
              "      <th>16568</th>\n",
              "      <td>mayoredlee</td>\n",
              "      <td>the</td>\n",
              "      <td>1338</td>\n",
              "    </tr>\n",
              "    <tr>\n",
              "      <th>11669</th>\n",
              "      <td>mayoredlee</td>\n",
              "      <td>amp</td>\n",
              "      <td>1212</td>\n",
              "    </tr>\n",
              "    <tr>\n",
              "      <th>14957</th>\n",
              "      <td>mayoredlee</td>\n",
              "      <td>our</td>\n",
              "      <td>1096</td>\n",
              "    </tr>\n",
              "    <tr>\n",
              "      <th>15964</th>\n",
              "      <td>mayoredlee</td>\n",
              "      <td>sf</td>\n",
              "      <td>909</td>\n",
              "    </tr>\n",
              "  </tbody>\n",
              "</table>\n",
              "</div>\n",
              "      <button class=\"colab-df-convert\" onclick=\"convertToInteractive('df-c80f702e-1c5c-4f60-9e17-ae7de21686e2')\"\n",
              "              title=\"Convert this dataframe to an interactive table.\"\n",
              "              style=\"display:none;\">\n",
              "        \n",
              "  <svg xmlns=\"http://www.w3.org/2000/svg\" height=\"24px\"viewBox=\"0 0 24 24\"\n",
              "       width=\"24px\">\n",
              "    <path d=\"M0 0h24v24H0V0z\" fill=\"none\"/>\n",
              "    <path d=\"M18.56 5.44l.94 2.06.94-2.06 2.06-.94-2.06-.94-.94-2.06-.94 2.06-2.06.94zm-11 1L8.5 8.5l.94-2.06 2.06-.94-2.06-.94L8.5 2.5l-.94 2.06-2.06.94zm10 10l.94 2.06.94-2.06 2.06-.94-2.06-.94-.94-2.06-.94 2.06-2.06.94z\"/><path d=\"M17.41 7.96l-1.37-1.37c-.4-.4-.92-.59-1.43-.59-.52 0-1.04.2-1.43.59L10.3 9.45l-7.72 7.72c-.78.78-.78 2.05 0 2.83L4 21.41c.39.39.9.59 1.41.59.51 0 1.02-.2 1.41-.59l7.78-7.78 2.81-2.81c.8-.78.8-2.07 0-2.86zM5.41 20L4 18.59l7.72-7.72 1.47 1.35L5.41 20z\"/>\n",
              "  </svg>\n",
              "      </button>\n",
              "      \n",
              "  <style>\n",
              "    .colab-df-container {\n",
              "      display:flex;\n",
              "      flex-wrap:wrap;\n",
              "      gap: 12px;\n",
              "    }\n",
              "\n",
              "    .colab-df-convert {\n",
              "      background-color: #E8F0FE;\n",
              "      border: none;\n",
              "      border-radius: 50%;\n",
              "      cursor: pointer;\n",
              "      display: none;\n",
              "      fill: #1967D2;\n",
              "      height: 32px;\n",
              "      padding: 0 0 0 0;\n",
              "      width: 32px;\n",
              "    }\n",
              "\n",
              "    .colab-df-convert:hover {\n",
              "      background-color: #E2EBFA;\n",
              "      box-shadow: 0px 1px 2px rgba(60, 64, 67, 0.3), 0px 1px 3px 1px rgba(60, 64, 67, 0.15);\n",
              "      fill: #174EA6;\n",
              "    }\n",
              "\n",
              "    [theme=dark] .colab-df-convert {\n",
              "      background-color: #3B4455;\n",
              "      fill: #D2E3FC;\n",
              "    }\n",
              "\n",
              "    [theme=dark] .colab-df-convert:hover {\n",
              "      background-color: #434B5C;\n",
              "      box-shadow: 0px 1px 3px 1px rgba(0, 0, 0, 0.15);\n",
              "      filter: drop-shadow(0px 1px 2px rgba(0, 0, 0, 0.3));\n",
              "      fill: #FFFFFF;\n",
              "    }\n",
              "  </style>\n",
              "\n",
              "      <script>\n",
              "        const buttonEl =\n",
              "          document.querySelector('#df-c80f702e-1c5c-4f60-9e17-ae7de21686e2 button.colab-df-convert');\n",
              "        buttonEl.style.display =\n",
              "          google.colab.kernel.accessAllowed ? 'block' : 'none';\n",
              "\n",
              "        async function convertToInteractive(key) {\n",
              "          const element = document.querySelector('#df-c80f702e-1c5c-4f60-9e17-ae7de21686e2');\n",
              "          const dataTable =\n",
              "            await google.colab.kernel.invokeFunction('convertToInteractive',\n",
              "                                                     [key], {});\n",
              "          if (!dataTable) return;\n",
              "\n",
              "          const docLinkHtml = 'Like what you see? Visit the ' +\n",
              "            '<a target=\"_blank\" href=https://colab.research.google.com/notebooks/data_table.ipynb>data table notebook</a>'\n",
              "            + ' to learn more about interactive tables.';\n",
              "          element.innerHTML = '';\n",
              "          dataTable['output_type'] = 'display_data';\n",
              "          await google.colab.output.renderOutput(dataTable, element);\n",
              "          const docLink = document.createElement('div');\n",
              "          docLink.innerHTML = docLinkHtml;\n",
              "          element.appendChild(docLink);\n",
              "        }\n",
              "      </script>\n",
              "    </div>\n",
              "  </div>\n",
              "  "
            ]
          },
          "metadata": {},
          "execution_count": 25
        }
      ]
    },
    {
      "cell_type": "markdown",
      "source": [
        "## Palabras vacías (stop words)"
      ],
      "metadata": {
        "id": "CpWu79QUz3q7"
      }
    },
    {
      "cell_type": "markdown",
      "source": [
        "En el análisis de texto, se utilizan las stop words para referirse a las palabras comunes que se eliminan de un texto antes de realizar cualquier análisis de contenido, ya que se consideran irrelevantes para la interpretación de dicho contenido. Ejemplos comunes de stop words en inglés son `a`, `an`, `the`, `and`, `of`, `to`, etc. El objetivo de eliminar estas palabras es reducir el ruido y enfocarse en las palabras más relevantes y significativas en el análisis de texto. Es importante tener en cuenta que el conjunto de `stop words` puede variar según el idioma, el contexto y los objetivos específicos del análisis.\n",
        "\n"
      ],
      "metadata": {
        "id": "oMW0mQy5z4-X"
      }
    },
    {
      "cell_type": "markdown",
      "source": [
        "En la tabla anterior se observa que las palabras más frecuentes en todos los usuarios corresponden a artículos, preposiciones, pronombres, y en general, palabras que no aportan información relevante al texto. Estas palabras se denominan \"stopwords\". Para cada idioma hay diferentes listas de stopwords y dependiendo del contexto, puede ser necesario adaptar la lista. Por ejemplo, en la tabla anterior aparece el término \"amp\" que proviene de la etiqueta html \"&amp\". A medida que se realiza un análisis, se pueden encontrar palabras que deban agregarse a la lista de stopwords."
      ],
      "metadata": {
        "id": "RsOg0NXW0baU"
      }
    },
    {
      "cell_type": "code",
      "source": [
        "# Generación del listado de stopwords en inglés\n",
        "\n",
        "import nltk\n",
        "nltk.download('stopwords') # Recurso de stopwords del paquete NLTK (Natural Language Toolkit)\n",
        "\n",
        "stop_words = list(stopwords.words('english'))\n",
        "# Se añade la stoprword: amp, ax, ex\n",
        "stop_words.extend((\"amp\", \"ax\", \"ex\"))\n",
        "print(stop_words[:10])"
      ],
      "metadata": {
        "colab": {
          "base_uri": "https://localhost:8080/"
        },
        "id": "Or_tuGOS0tBD",
        "outputId": "7b7dbd3b-4621-409f-e1f2-d5e8f30fa582"
      },
      "execution_count": 32,
      "outputs": [
        {
          "output_type": "stream",
          "name": "stdout",
          "text": [
            "['i', 'me', 'my', 'myself', 'we', 'our', 'ours', 'ourselves', 'you', \"you're\"]\n"
          ]
        },
        {
          "output_type": "stream",
          "name": "stderr",
          "text": [
            "[nltk_data] Downloading package stopwords to /root/nltk_data...\n",
            "[nltk_data]   Unzipping corpora/stopwords.zip.\n"
          ]
        }
      ]
    },
    {
      "cell_type": "code",
      "source": [
        "# Eliminación de stopwords en el análisis de texto\n",
        "# \n",
        "tweets_tidy = tweets_tidy[~(tweets_tidy[\"token\"].isin(stop_words))]"
      ],
      "metadata": {
        "id": "Zj4y1s5p2X_x"
      },
      "execution_count": 34,
      "outputs": []
    },
    {
      "cell_type": "code",
      "source": [
        "# Top 10 palabras más frecuentes por autor (excluyendo stopwords)\n",
        "\n",
        "# Top 10 palabras por autor (sin stopwords)\n",
        "# ==============================================================================\n",
        "fig, axs = plt.subplots(nrows=3, ncols=1, figsize=(6, 7))\n",
        "\n",
        "for i, autor in enumerate(tweets_tidy.autor.unique()):\n",
        "    df_temp = tweets_tidy[tweets_tidy.autor == autor]\n",
        "    counts = df_temp['token'].value_counts(ascending=False).head(10)\n",
        "    bar_plot = counts.plot(kind='barh', color='darkblue', ax=axs[i])\n",
        "    axs[i].invert_yaxis()\n",
        "    axs[i].set_title(autor)\n",
        "\n",
        "    for rect in bar_plot.containers:\n",
        "        for idx, patch in enumerate(rect.patches):\n",
        "            x = patch.get_width()\n",
        "            y = patch.get_y() + patch.get_height() / 2\n",
        "            bar_plot.text(x, y, f'{x:.0f}', ha='left', va='center')\n",
        "\n",
        "fig.tight_layout()"
      ],
      "metadata": {
        "colab": {
          "base_uri": "https://localhost:8080/",
          "height": 707
        },
        "id": "NTou1sjQ2fv1",
        "outputId": "55ab70be-d0c6-442a-dd7a-05ecf626ddb8"
      },
      "execution_count": 48,
      "outputs": [
        {
          "output_type": "display_data",
          "data": {
            "text/plain": [
              "<Figure size 600x700 with 3 Axes>"
            ],
            "image/png": "[encoded data removed]"
          },
          "metadata": {}
        }
      ]
    },
    {
      "cell_type": "markdown",
      "source": [
        "El análisis de los resultados obtenidos permite observar que cada usuario analizado tiene un enfoque particular en su actividad profesional y eso se refleja en sus tweets.\n",
        "\n",
        "* Ed Lee, en su calidad de alcalde de San Francisco, se enfoca en temas relacionados con la ciudad, sus residentes, familias y hogares.\n",
        "\n",
        "* Elon Musk, como líder de empresas tecnológicas como Tesla y SpaceX, se enfoca en temas relacionados con la tecnología, los automóviles y la aeronáutica.\n",
        "\n",
        "* Bill Gates, quien además de ser el propietario de Microsoft, tiene una fuerte dedicación a las fundaciones de ayuda, como se puede inferir de sus tweets relacionados con el mundo, la polio y la ayuda.\n",
        "\n",
        "En general, se puede decir que los resultados son consistentes con las áreas de especialización de cada usuario y el enfoque de su actividad profesional, ahora ¿qué podemos ir analizando nosotros?, será posible formular ideas e hipótesis a partir de:\n",
        "\n",
        "* ¿La relación con los tweets del alcalde de San Francisco?\n",
        "* ¿Cuál es el enfoque principal de los tweets de Elon Musk?\n",
        "* ¿En qué ámbito se enfocan los esfuerzos filantrópicos de Bill Gates?"
      ],
      "metadata": {
        "id": "nA-y6E4G43j7"
      }
    },
    {
      "cell_type": "markdown",
      "source": [
        "## Análisis de la correlación entre los 3 de los muchos usuarios más influyentes de Twitter"
      ],
      "metadata": {
        "id": "qA3RJ3E844Zz"
      }
    },
    {
      "cell_type": "markdown",
      "source": [
        "Una forma eficaz de medir la similitud entre los perfiles de dos usuarios de Twitter es mediante el cálculo de la correlación en el uso de palabras. La premisa detrás de esta técnica es que dos usuarios que escriben de forma similar, usarán las mismas palabras con frecuencias similares. \n",
        "\n",
        "La medida de similitud más utilizada al trabajar con texto es 1 - distancia coseno. Para llevar a cabo este tipo de análisis, es fundamental contar con las variables adecuadamente organizadas en columnas. En este caso, las variables a correlacionar son los autores de los tweets."
      ],
      "metadata": {
        "id": "oGgCoJLP6Ckf"
      }
    },
    {
      "cell_type": "code",
      "source": [
        "# Análisis de datos a través de la técnica de pivoteo\n",
        "\n",
        "tweets_pivot = tweets_tidy.groupby([\"autor\",\"token\"])[\"token\"] \\\n",
        "                .agg([\"count\"]).reset_index() \\\n",
        "                .pivot(index = \"token\" , columns=\"autor\", values= \"count\")\n",
        "tweets_pivot.columns.name = None"
      ],
      "metadata": {
        "id": "JNgLrUgU6Obo"
      },
      "execution_count": 40,
      "outputs": []
    },
    {
      "cell_type": "code",
      "source": [
        "# Análisis de similitud en el uso y frecuencia de palabras mediante test de correlación (coseno)\n",
        "# \n",
        "from scipy.spatial.distance import cosine\n",
        "\n",
        "def similitud_coseno(a,b):\n",
        "    distancia = cosine(a,b)\n",
        "    return 1-distancia\n",
        "\n",
        "tweets_pivot.corr(method=similitud_coseno)"
      ],
      "metadata": {
        "colab": {
          "base_uri": "https://localhost:8080/",
          "height": 143
        },
        "id": "FSXpump76VFA",
        "outputId": "2aa848a2-f4fe-4265-ae0a-4c2d53747787"
      },
      "execution_count": 42,
      "outputs": [
        {
          "output_type": "execute_result",
          "data": {
            "text/plain": [
              "            BillGates  elonmusk  mayoredlee\n",
              "BillGates    1.000000  0.567274    0.496346\n",
              "elonmusk     0.567274  1.000000    0.276732\n",
              "mayoredlee   0.496346  0.276732    1.000000"
            ],
            "text/html": [
              "\n",
              "  <div id=\"df-f29237a9-9c3b-40af-9fab-5489b3cf544b\">\n",
              "    <div class=\"colab-df-container\">\n",
              "      <div>\n",
              "<style scoped>\n",
              "    .dataframe tbody tr th:only-of-type {\n",
              "        vertical-align: middle;\n",
              "    }\n",
              "\n",
              "    .dataframe tbody tr th {\n",
              "        vertical-align: top;\n",
              "    }\n",
              "\n",
              "    .dataframe thead th {\n",
              "        text-align: right;\n",
              "    }\n",
              "</style>\n",
              "<table border=\"1\" class=\"dataframe\">\n",
              "  <thead>\n",
              "    <tr style=\"text-align: right;\">\n",
              "      <th></th>\n",
              "      <th>BillGates</th>\n",
              "      <th>elonmusk</th>\n",
              "      <th>mayoredlee</th>\n",
              "    </tr>\n",
              "  </thead>\n",
              "  <tbody>\n",
              "    <tr>\n",
              "      <th>BillGates</th>\n",
              "      <td>1.000000</td>\n",
              "      <td>0.567274</td>\n",
              "      <td>0.496346</td>\n",
              "    </tr>\n",
              "    <tr>\n",
              "      <th>elonmusk</th>\n",
              "      <td>0.567274</td>\n",
              "      <td>1.000000</td>\n",
              "      <td>0.276732</td>\n",
              "    </tr>\n",
              "    <tr>\n",
              "      <th>mayoredlee</th>\n",
              "      <td>0.496346</td>\n",
              "      <td>0.276732</td>\n",
              "      <td>1.000000</td>\n",
              "    </tr>\n",
              "  </tbody>\n",
              "</table>\n",
              "</div>\n",
              "      <button class=\"colab-df-convert\" onclick=\"convertToInteractive('df-f29237a9-9c3b-40af-9fab-5489b3cf544b')\"\n",
              "              title=\"Convert this dataframe to an interactive table.\"\n",
              "              style=\"display:none;\">\n",
              "        \n",
              "  <svg xmlns=\"http://www.w3.org/2000/svg\" height=\"24px\"viewBox=\"0 0 24 24\"\n",
              "       width=\"24px\">\n",
              "    <path d=\"M0 0h24v24H0V0z\" fill=\"none\"/>\n",
              "    <path d=\"M18.56 5.44l.94 2.06.94-2.06 2.06-.94-2.06-.94-.94-2.06-.94 2.06-2.06.94zm-11 1L8.5 8.5l.94-2.06 2.06-.94-2.06-.94L8.5 2.5l-.94 2.06-2.06.94zm10 10l.94 2.06.94-2.06 2.06-.94-2.06-.94-.94-2.06-.94 2.06-2.06.94z\"/><path d=\"M17.41 7.96l-1.37-1.37c-.4-.4-.92-.59-1.43-.59-.52 0-1.04.2-1.43.59L10.3 9.45l-7.72 7.72c-.78.78-.78 2.05 0 2.83L4 21.41c.39.39.9.59 1.41.59.51 0 1.02-.2 1.41-.59l7.78-7.78 2.81-2.81c.8-.78.8-2.07 0-2.86zM5.41 20L4 18.59l7.72-7.72 1.47 1.35L5.41 20z\"/>\n",
              "  </svg>\n",
              "      </button>\n",
              "      \n",
              "  <style>\n",
              "    .colab-df-container {\n",
              "      display:flex;\n",
              "      flex-wrap:wrap;\n",
              "      gap: 12px;\n",
              "    }\n",
              "\n",
              "    .colab-df-convert {\n",
              "      background-color: #E8F0FE;\n",
              "      border: none;\n",
              "      border-radius: 50%;\n",
              "      cursor: pointer;\n",
              "      display: none;\n",
              "      fill: #1967D2;\n",
              "      height: 32px;\n",
              "      padding: 0 0 0 0;\n",
              "      width: 32px;\n",
              "    }\n",
              "\n",
              "    .colab-df-convert:hover {\n",
              "      background-color: #E2EBFA;\n",
              "      box-shadow: 0px 1px 2px rgba(60, 64, 67, 0.3), 0px 1px 3px 1px rgba(60, 64, 67, 0.15);\n",
              "      fill: #174EA6;\n",
              "    }\n",
              "\n",
              "    [theme=dark] .colab-df-convert {\n",
              "      background-color: #3B4455;\n",
              "      fill: #D2E3FC;\n",
              "    }\n",
              "\n",
              "    [theme=dark] .colab-df-convert:hover {\n",
              "      background-color: #434B5C;\n",
              "      box-shadow: 0px 1px 3px 1px rgba(0, 0, 0, 0.15);\n",
              "      filter: drop-shadow(0px 1px 2px rgba(0, 0, 0, 0.3));\n",
              "      fill: #FFFFFF;\n",
              "    }\n",
              "  </style>\n",
              "\n",
              "      <script>\n",
              "        const buttonEl =\n",
              "          document.querySelector('#df-f29237a9-9c3b-40af-9fab-5489b3cf544b button.colab-df-convert');\n",
              "        buttonEl.style.display =\n",
              "          google.colab.kernel.accessAllowed ? 'block' : 'none';\n",
              "\n",
              "        async function convertToInteractive(key) {\n",
              "          const element = document.querySelector('#df-f29237a9-9c3b-40af-9fab-5489b3cf544b');\n",
              "          const dataTable =\n",
              "            await google.colab.kernel.invokeFunction('convertToInteractive',\n",
              "                                                     [key], {});\n",
              "          if (!dataTable) return;\n",
              "\n",
              "          const docLinkHtml = 'Like what you see? Visit the ' +\n",
              "            '<a target=\"_blank\" href=https://colab.research.google.com/notebooks/data_table.ipynb>data table notebook</a>'\n",
              "            + ' to learn more about interactive tables.';\n",
              "          element.innerHTML = '';\n",
              "          dataTable['output_type'] = 'display_data';\n",
              "          await google.colab.output.renderOutput(dataTable, element);\n",
              "          const docLink = document.createElement('div');\n",
              "          docLink.innerHTML = docLinkHtml;\n",
              "          element.appendChild(docLink);\n",
              "        }\n",
              "      </script>\n",
              "    </div>\n",
              "  </div>\n",
              "  "
            ]
          },
          "metadata": {},
          "execution_count": 42
        }
      ]
    },
    {
      "cell_type": "code",
      "source": [
        "# Gráfico de correlación de palabras entre usuarios de Twitter\n",
        "\n",
        "f, ax = plt.subplots(figsize=(6, 4))\n",
        "temp = tweets_pivot.dropna()\n",
        "sns.regplot(\n",
        "    x  = np.log(temp.elonmusk),\n",
        "    y  = np.log(temp.BillGates),\n",
        "    scatter_kws =  {'alpha': 0.05},\n",
        "    ax = ax\n",
        ");\n",
        "for i in np.random.choice(range(temp.shape[0]), 100):\n",
        "    ax.annotate(\n",
        "        text  = temp.index[i],\n",
        "        xy    = (np.log(temp.elonmusk[i]), np.log(temp.BillGates[i])),\n",
        "        alpha = 0.7\n",
        "    )"
      ],
      "metadata": {
        "colab": {
          "base_uri": "https://localhost:8080/",
          "height": 388
        },
        "id": "9B1tHHqp6d_9",
        "outputId": "0dc5c1f0-aead-4575-b4a8-a401d440e012"
      },
      "execution_count": 43,
      "outputs": [
        {
          "output_type": "display_data",
          "data": {
            "text/plain": [
              "<Figure size 600x400 with 1 Axes>"
            ],
            "image/png": "[encoded data removed]"
          },
          "metadata": {}
        }
      ]
    },
    {
      "cell_type": "code",
      "source": [
        "# Análisis del número de palabras en común entre dos textos\n",
        "\n",
        "# Creamos una lista con las etiquetas de cada autor\n",
        "autores = ['Elon Musk y Ed Lee', 'Elon Musk y Bill Gates']\n",
        "\n",
        "# Creamos una lista con el número de palabras comunes entre cada par de autores\n",
        "num_palabras = [len(palabras_elon.intersection(palabras_edlee)), \n",
        "                len(palabras_elon.intersection(palabras_bill))]\n",
        "\n",
        "# Creamos la figura y el eje\n",
        "fig, ax = plt.subplots(figsize=(8, 6))\n",
        "\n",
        "# Creamos la gráfica de barras\n",
        "ax.bar(autores, num_palabras, color='darkblue')\n",
        "\n",
        "# Añadimos los títulos y etiquetas del eje x e y\n",
        "ax.set_title('Número de palabras en común entre autores')\n",
        "ax.set_xlabel('Pares de autores')\n",
        "ax.set_ylabel('Número de palabras comunes')\n",
        "\n",
        "# Añadimos los valores en la parte superior de las barras\n",
        "for i, v in enumerate(num_palabras):\n",
        "    ax.text(i, v + 0.5, str(v), ha='center')\n",
        "\n",
        "# Mostramos la gráfica\n",
        "plt.show()"
      ],
      "metadata": {
        "colab": {
          "base_uri": "https://localhost:8080/",
          "height": 565
        },
        "id": "UXbbAqFk6uuk",
        "outputId": "e435ec25-b47d-4119-f300-f0d4f2d7787f"
      },
      "execution_count": 53,
      "outputs": [
        {
          "output_type": "display_data",
          "data": {
            "text/plain": [
              "<Figure size 800x600 with 1 Axes>"
            ],
            "image/png": "[encoded data removed]"
          },
          "metadata": {}
        }
      ]
    },
    {
      "cell_type": "markdown",
      "source": [
        "Aunque la cantidad de palabras compartidas entre Elon Musk y Bill Gates, y entre Elon Musk y Ed Lee es similar, la correlación basada en su uso es más significativa entre Elon Musk y Bill Gates. Esta observación puede ser explicada por el hecho de que ambos son líderes de empresas tecnológicas, lo que sugiere que comparten un conjunto de ideas y lenguaje especializados en ese campo. Por lo tanto, la correlación no solo depende del número de palabras compartidas, sino también de su contexto y significado en un ámbito particular."
      ],
      "metadata": {
        "id": "VZX1e_59AMqz"
      }
    },
    {
      "cell_type": "markdown",
      "source": [
        "## Mejora esta linea de texto: Comparación en el uso de palabras"
      ],
      "metadata": {
        "id": "DrawirOnASzK"
      }
    },
    {
      "cell_type": "markdown",
      "source": [
        "El siguiente análisis se centra en identificar las palabras que son utilizadas de manera más distintiva por cada usuario, es decir, aquellas palabras que son muy frecuentes en el discurso de un autor y no lo son en el del otro. Para llevar a cabo esta tarea, se utiliza el [logaritmo de la razón de probabilidades de las frecuencias](https://en.wikipedia.org/wiki/Odds_ratio). Esta comparación se realiza en pares, en este caso, se compara la escritura de Elon Musk con la de Mayor Ed Lee."
      ],
      "metadata": {
        "id": "LGlr--ixAcSa"
      }
    },
    {
      "cell_type": "markdown",
      "source": [
        "![image.png](data:image/png;base64,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)"
      ],
      "metadata": {
        "id": "HcD_a0dlBC39"
      }
    },
    {
      "cell_type": "markdown",
      "source": [
        "El cálculo se realiza utilizando la frecuencia de cada término en los textos de cada autor, siendo \"nk\" el número de veces que aparece el término \"k\" y \"N\" el número total de términos de cada autor. Para realizar este cálculo, es necesario cuantificar la frecuencia de cada palabra utilizada por todos los usuarios en el conjunto de tweets. En caso de que un autor no haya utilizado una palabra que otro sí ha utilizado, esa palabra debe aparecer en su registro con una frecuencia de cero. Existen diversas maneras de hacerlo, una de ellas es pivotar y despivotar el dataframe, reemplazando los valores NaN por cero."
      ],
      "metadata": {
        "id": "tSj-_ZA-BLR2"
      }
    },
    {
      "cell_type": "code",
      "source": [
        "# Cálculo del log of odds ratio de cada palabra (elonmusk vs mayoredlee)\n",
        "\n",
        "# Pivotaje y despivotaje\n",
        "tweets_pivot = tweets_tidy.groupby([\"autor\",\"token\"])[\"token\"] \\\n",
        "                .agg([\"count\"]).reset_index() \\\n",
        "                .pivot(index = \"token\" , columns=\"autor\", values= \"count\")\n",
        "\n",
        "tweets_pivot = tweets_pivot.fillna(value=0)\n",
        "tweets_pivot.columns.name = None\n",
        "\n",
        "tweets_unpivot = tweets_pivot.melt(value_name='n', var_name='autor', ignore_index=False)\n",
        "tweets_unpivot = tweets_unpivot.reset_index()\n",
        "\n",
        "# Selección de los autores elonmusk y mayoredlee\n",
        "tweets_unpivot = tweets_unpivot[tweets_unpivot.autor.isin(['elonmusk', 'mayoredlee'])]\n",
        "\n",
        "# Se añade el total de palabras de cada autor\n",
        "tweets_unpivot = tweets_unpivot.merge(\n",
        "                    tweets_tidy.groupby('autor')['token'].count().rename('N'),\n",
        "                    how = 'left',\n",
        "                    on  = 'autor'\n",
        "                 )\n",
        "\n",
        "# Cálculo de odds y log of odds de cada palabra\n",
        "tweets_logOdds = tweets_unpivot.copy()\n",
        "tweets_logOdds['odds'] = (tweets_logOdds.n + 1) / (tweets_logOdds.N + 1)\n",
        "tweets_logOdds = tweets_logOdds[['token', 'autor', 'odds']] \\\n",
        "                    .pivot(index='token', columns='autor', values='odds')\n",
        "tweets_logOdds.columns.name = None\n",
        "\n",
        "tweets_logOdds['log_odds']     = np.log(tweets_logOdds.elonmusk/tweets_logOdds.mayoredlee)\n",
        "tweets_logOdds['abs_log_odds'] = np.abs(tweets_logOdds.log_odds)\n",
        "\n",
        "# Si el logaritmo de odds es mayor que cero, significa que es una palabra con\n",
        "# mayor probabilidad de ser de Elon Musk. Esto es así porque el ratio sea ha\n",
        "# calculado como elonmusk/mayoredlee.\n",
        "tweets_logOdds['autor_frecuente'] = np.where(tweets_logOdds.log_odds > 0,\n",
        "                                              \"elonmusk\",\n",
        "                                              \"mayoredlee\"\n",
        "                                    )"
      ],
      "metadata": {
        "id": "U48pnDihBmoU"
      },
      "execution_count": 54,
      "outputs": []
    },
    {
      "cell_type": "code",
      "source": [
        "print('-----------------------------------')\n",
        "print('Top 10 palabras más diferenciadoras')\n",
        "print('-----------------------------------')\n",
        "tweets_logOdds.sort_values('abs_log_odds', ascending=False).head(10)"
      ],
      "metadata": {
        "colab": {
          "base_uri": "https://localhost:8080/",
          "height": 446
        },
        "id": "tPqW-AG0BrBj",
        "outputId": "547b9ab5-4337-4bc9-c6db-e0b83dd6e25f"
      },
      "execution_count": 55,
      "outputs": [
        {
          "output_type": "stream",
          "name": "stdout",
          "text": [
            "-----------------------------------\n",
            "Top 10 palabras más diferenciadoras\n",
            "-----------------------------------\n"
          ]
        },
        {
          "output_type": "execute_result",
          "data": {
            "text/plain": [
              "           elonmusk  mayoredlee  log_odds  abs_log_odds autor_frecuente\n",
              "token                                                                  \n",
              "tesla      0.012571    0.000037  5.815178      5.815178        elonmusk\n",
              "residents  0.000046    0.009934 -5.374023      5.374023      mayoredlee\n",
              "yes        0.005526    0.000037  4.993198      4.993198        elonmusk\n",
              "rocket     0.005065    0.000037  4.906187      4.906187        elonmusk\n",
              "community  0.000046    0.005960 -4.863198      4.863198      mayoredlee\n",
              "spacex     0.004743    0.000037  4.840435      4.840435        elonmusk\n",
              "sf         0.000276    0.034112 -4.815979      4.815979      mayoredlee\n",
              "falcon     0.003776    0.000037  4.612426      4.612426        elonmusk\n",
              "landing    0.003039    0.000037  4.395361      4.395361        elonmusk\n",
              "housing    0.000092    0.006860 -4.310633      4.310633      mayoredlee"
            ],
            "text/html": [
              "\n",
              "  <div id=\"df-341e8445-3465-4827-8759-5a5b5959ece3\">\n",
              "    <div class=\"colab-df-container\">\n",
              "      <div>\n",
              "<style scoped>\n",
              "    .dataframe tbody tr th:only-of-type {\n",
              "        vertical-align: middle;\n",
              "    }\n",
              "\n",
              "    .dataframe tbody tr th {\n",
              "        vertical-align: top;\n",
              "    }\n",
              "\n",
              "    .dataframe thead th {\n",
              "        text-align: right;\n",
              "    }\n",
              "</style>\n",
              "<table border=\"1\" class=\"dataframe\">\n",
              "  <thead>\n",
              "    <tr style=\"text-align: right;\">\n",
              "      <th></th>\n",
              "      <th>elonmusk</th>\n",
              "      <th>mayoredlee</th>\n",
              "      <th>log_odds</th>\n",
              "      <th>abs_log_odds</th>\n",
              "      <th>autor_frecuente</th>\n",
              "    </tr>\n",
              "    <tr>\n",
              "      <th>token</th>\n",
              "      <th></th>\n",
              "      <th></th>\n",
              "      <th></th>\n",
              "      <th></th>\n",
              "      <th></th>\n",
              "    </tr>\n",
              "  </thead>\n",
              "  <tbody>\n",
              "    <tr>\n",
              "      <th>tesla</th>\n",
              "      <td>0.012571</td>\n",
              "      <td>0.000037</td>\n",
              "      <td>5.815178</td>\n",
              "      <td>5.815178</td>\n",
              "      <td>elonmusk</td>\n",
              "    </tr>\n",
              "    <tr>\n",
              "      <th>residents</th>\n",
              "      <td>0.000046</td>\n",
              "      <td>0.009934</td>\n",
              "      <td>-5.374023</td>\n",
              "      <td>5.374023</td>\n",
              "      <td>mayoredlee</td>\n",
              "    </tr>\n",
              "    <tr>\n",
              "      <th>yes</th>\n",
              "      <td>0.005526</td>\n",
              "      <td>0.000037</td>\n",
              "      <td>4.993198</td>\n",
              "      <td>4.993198</td>\n",
              "      <td>elonmusk</td>\n",
              "    </tr>\n",
              "    <tr>\n",
              "      <th>rocket</th>\n",
              "      <td>0.005065</td>\n",
              "      <td>0.000037</td>\n",
              "      <td>4.906187</td>\n",
              "      <td>4.906187</td>\n",
              "      <td>elonmusk</td>\n",
              "    </tr>\n",
              "    <tr>\n",
              "      <th>community</th>\n",
              "      <td>0.000046</td>\n",
              "      <td>0.005960</td>\n",
              "      <td>-4.863198</td>\n",
              "      <td>4.863198</td>\n",
              "      <td>mayoredlee</td>\n",
              "    </tr>\n",
              "    <tr>\n",
              "      <th>spacex</th>\n",
              "      <td>0.004743</td>\n",
              "      <td>0.000037</td>\n",
              "      <td>4.840435</td>\n",
              "      <td>4.840435</td>\n",
              "      <td>elonmusk</td>\n",
              "    </tr>\n",
              "    <tr>\n",
              "      <th>sf</th>\n",
              "      <td>0.000276</td>\n",
              "      <td>0.034112</td>\n",
              "      <td>-4.815979</td>\n",
              "      <td>4.815979</td>\n",
              "      <td>mayoredlee</td>\n",
              "    </tr>\n",
              "    <tr>\n",
              "      <th>falcon</th>\n",
              "      <td>0.003776</td>\n",
              "      <td>0.000037</td>\n",
              "      <td>4.612426</td>\n",
              "      <td>4.612426</td>\n",
              "      <td>elonmusk</td>\n",
              "    </tr>\n",
              "    <tr>\n",
              "      <th>landing</th>\n",
              "      <td>0.003039</td>\n",
              "      <td>0.000037</td>\n",
              "      <td>4.395361</td>\n",
              "      <td>4.395361</td>\n",
              "      <td>elonmusk</td>\n",
              "    </tr>\n",
              "    <tr>\n",
              "      <th>housing</th>\n",
              "      <td>0.000092</td>\n",
              "      <td>0.006860</td>\n",
              "      <td>-4.310633</td>\n",
              "      <td>4.310633</td>\n",
              "      <td>mayoredlee</td>\n",
              "    </tr>\n",
              "  </tbody>\n",
              "</table>\n",
              "</div>\n",
              "      <button class=\"colab-df-convert\" onclick=\"convertToInteractive('df-341e8445-3465-4827-8759-5a5b5959ece3')\"\n",
              "              title=\"Convert this dataframe to an interactive table.\"\n",
              "              style=\"display:none;\">\n",
              "        \n",
              "  <svg xmlns=\"http://www.w3.org/2000/svg\" height=\"24px\"viewBox=\"0 0 24 24\"\n",
              "       width=\"24px\">\n",
              "    <path d=\"M0 0h24v24H0V0z\" fill=\"none\"/>\n",
              "    <path d=\"M18.56 5.44l.94 2.06.94-2.06 2.06-.94-2.06-.94-.94-2.06-.94 2.06-2.06.94zm-11 1L8.5 8.5l.94-2.06 2.06-.94-2.06-.94L8.5 2.5l-.94 2.06-2.06.94zm10 10l.94 2.06.94-2.06 2.06-.94-2.06-.94-.94-2.06-.94 2.06-2.06.94z\"/><path d=\"M17.41 7.96l-1.37-1.37c-.4-.4-.92-.59-1.43-.59-.52 0-1.04.2-1.43.59L10.3 9.45l-7.72 7.72c-.78.78-.78 2.05 0 2.83L4 21.41c.39.39.9.59 1.41.59.51 0 1.02-.2 1.41-.59l7.78-7.78 2.81-2.81c.8-.78.8-2.07 0-2.86zM5.41 20L4 18.59l7.72-7.72 1.47 1.35L5.41 20z\"/>\n",
              "  </svg>\n",
              "      </button>\n",
              "      \n",
              "  <style>\n",
              "    .colab-df-container {\n",
              "      display:flex;\n",
              "      flex-wrap:wrap;\n",
              "      gap: 12px;\n",
              "    }\n",
              "\n",
              "    .colab-df-convert {\n",
              "      background-color: #E8F0FE;\n",
              "      border: none;\n",
              "      border-radius: 50%;\n",
              "      cursor: pointer;\n",
              "      display: none;\n",
              "      fill: #1967D2;\n",
              "      height: 32px;\n",
              "      padding: 0 0 0 0;\n",
              "      width: 32px;\n",
              "    }\n",
              "\n",
              "    .colab-df-convert:hover {\n",
              "      background-color: #E2EBFA;\n",
              "      box-shadow: 0px 1px 2px rgba(60, 64, 67, 0.3), 0px 1px 3px 1px rgba(60, 64, 67, 0.15);\n",
              "      fill: #174EA6;\n",
              "    }\n",
              "\n",
              "    [theme=dark] .colab-df-convert {\n",
              "      background-color: #3B4455;\n",
              "      fill: #D2E3FC;\n",
              "    }\n",
              "\n",
              "    [theme=dark] .colab-df-convert:hover {\n",
              "      background-color: #434B5C;\n",
              "      box-shadow: 0px 1px 3px 1px rgba(0, 0, 0, 0.15);\n",
              "      filter: drop-shadow(0px 1px 2px rgba(0, 0, 0, 0.3));\n",
              "      fill: #FFFFFF;\n",
              "    }\n",
              "  </style>\n",
              "\n",
              "      <script>\n",
              "        const buttonEl =\n",
              "          document.querySelector('#df-341e8445-3465-4827-8759-5a5b5959ece3 button.colab-df-convert');\n",
              "        buttonEl.style.display =\n",
              "          google.colab.kernel.accessAllowed ? 'block' : 'none';\n",
              "\n",
              "        async function convertToInteractive(key) {\n",
              "          const element = document.querySelector('#df-341e8445-3465-4827-8759-5a5b5959ece3');\n",
              "          const dataTable =\n",
              "            await google.colab.kernel.invokeFunction('convertToInteractive',\n",
              "                                                     [key], {});\n",
              "          if (!dataTable) return;\n",
              "\n",
              "          const docLinkHtml = 'Like what you see? Visit the ' +\n",
              "            '<a target=\"_blank\" href=https://colab.research.google.com/notebooks/data_table.ipynb>data table notebook</a>'\n",
              "            + ' to learn more about interactive tables.';\n",
              "          element.innerHTML = '';\n",
              "          dataTable['output_type'] = 'display_data';\n",
              "          await google.colab.output.renderOutput(dataTable, element);\n",
              "          const docLink = document.createElement('div');\n",
              "          docLink.innerHTML = docLinkHtml;\n",
              "          element.appendChild(docLink);\n",
              "        }\n",
              "      </script>\n",
              "    </div>\n",
              "  </div>\n",
              "  "
            ]
          },
          "metadata": {},
          "execution_count": 55
        }
      ]
    },
    {
      "cell_type": "code",
      "source": [
        "# Top 15 palabras más características de cada autor\n",
        "\n",
        "top_30 = tweets_logOdds[['log_odds', 'abs_log_odds', 'autor_frecuente']] \\\n",
        "        .groupby('autor_frecuente') \\\n",
        "        .apply(lambda x: x.nlargest(15, columns='abs_log_odds').reset_index()) \\\n",
        "        .reset_index(drop=True) \\\n",
        "        .sort_values('log_odds')\n",
        "\n",
        "f, ax = plt.subplots(figsize=(4, 7))\n",
        "sns.barplot(\n",
        "    x    = 'log_odds',\n",
        "    y    = 'token',\n",
        "    hue  = 'autor_frecuente',\n",
        "    data = top_30,\n",
        "    ax   = ax\n",
        ")\n",
        "ax.set_title('Top 15 palabras más características de cada autor')\n",
        "ax.set_xlabel('log odds ratio (@elonmusk / mayoredlee)');"
      ],
      "metadata": {
        "colab": {
          "base_uri": "https://localhost:8080/",
          "height": 642
        },
        "id": "DG592y_KBu7k",
        "outputId": "bf0f0349-903e-4e06-ebb1-0e0f448a4bec"
      },
      "execution_count": 56,
      "outputs": [
        {
          "output_type": "display_data",
          "data": {
            "text/plain": [
              "<Figure size 400x700 with 1 Axes>"
            ],
            "image/png": "[encoded data removed]"
          },
          "metadata": {}
        }
      ]
    },
    {
      "cell_type": "markdown",
      "source": [
        "# Término Frecuencia e Inversa Documento Frecuencia"
      ],
      "metadata": {
        "id": "hpPrzfwpB_KK"
      }
    },
    {
      "cell_type": "markdown",
      "source": [
        "El análisis de textos conlleva el interés de cuantificar la temática de un documento, así como la importancia de cada término que lo conforma. Una manera simple de medir la relevancia de un término dentro de un documento es utilizar su frecuencia de aparición (tf, term-frequency). Sin embargo, esta aproximación tiene la limitación de otorgar demasiada importancia a palabras comunes que no aportan información relevante. Por ejemplo, si la palabra \"página\" aparece 50 veces en un documento y \"matemáticas\" solo 5, la primera tendrá un peso 10 veces mayor a pesar de que no es tan relevante para la temática del documento. Para solucionar esta problemática, se puede utilizar el estadístico tf-idf, que pondera los valores tf multiplicándolos por la inversa de la frecuencia con la que el término en cuestión aparece en otros documentos (idf). De esta manera, se reduce el valor de aquellos términos que aparecen con mucha frecuencia en muchos documentos y que, por ende, no aportan información relevante en la identificación de la temática del documento."
      ],
      "metadata": {
        "id": "c6YIlKGNCAS8"
      }
    },
    {
      "cell_type": "markdown",
      "source": [
        "![image.png](data:image/png;base64,iVBORw0KGgoAAAANSUhEUgAABKcAAAKICAYAAAClqpmkAAAAAXNSR0IArs4c6QAAAARnQU1BAACxjwv8YQUAAAAJcEhZcwAAEnQAABJ0Ad5mH3gAAP+lSURBVHhe7P0NWFRXni/6f/vGB7VPuEMunjRyzH+K00kq9oiSI6dVlOdYIwblKlcjhijCKKEdGgKGtG+tkXFQjBEjCpFhjKIjEmPE6C1tFGOmnFbLl1uOKHbsSkxT3fGWxCuPnKmciPXgw3/tl4KqooAqKChfvp9kW7tW7dova6+9au8fa6/9k9bW1jYQEREREREREREFwP+mvhIREREREREREQ04BqeIiIiIiIiIiChgGJwiIiIiIiIiIqKAYXCKiIiIiIiIiIgChsEpIiIiIiIiIiIKGAaniIiIiIiIiIgoYBicIiIiIiIiIiKigGFwioiIiIiIiIiIAobBKSIiIiIiIiIiChgGp4iIiIiIiIiIKGAYnCIiIiIiIiIiooBhcIqIiIiIiIiIiAKGwSkiIiIiIiIiIgoYBqeIiIiIiIiIiChgftLa2tqmjnulvnQcMvapb3qyYCcu5kSqbx5tTcfykLDOqL7rWsqOi8gdo76hwGs2IH/WStTe16GgdiPiQ9R0yUMrajcZEP7bFLiUQpFuLCvC+kNGNN0X70M00OXmQPvxb1B+W4PMygNY9LIyKRERERERERH1L7acosea+VAJaqUA02vxiHEKTNm/1aNw/mzkH2lSUzrUlyUjb58amJI0WxA0ZAx087XijQXl/6RH528RERERERERUX9gcIoeX8212L3DKo8mTZ+IYHlM0oQTHxVCb1HfumhCw5/s6ngiik9fxMWLF1EwORiaXyZCCk/BuBv6G/IERERERERERNTPfA5OReYoF/Ptw44U9RMgZk2N62ePyS197qRb91y2w2ngLX2PjqazJ2CQx+IRHRkkj/XMCusVdTQmEtqh6vgzYtBEI3Gk9MaKihoTHCEsIiIiIiIiIuo//d9yymZGbelKJMePw7hx4xCXnI38fSY0PVQ/d7haIn8uDXlHTDC8n4ZYMR47MxvVFqVPKOXzEtTftzjNMxYJi4ug/9YOPLTBfKwIGTNj5Wnjkldi9+V+ukHrjh556vqOKzXCvC8bcdJ4fDJKjDZ1IrHel6qQvzhB3pZxkxOQtqIEtV93fO5C3q48JEx2bFc+qq/bYCpVl5PXcbuZ1PeXkh950N9RE2X1KJHTXad38HZ9XOZ/qwmmXU778C1lvTyx3zJi94o0dRuk/ZeGlaW1sKi30NlOrlTnG4uiS53DP/Wlyr4bN24lapvVRI+acO5LtY+wmGiMdjSbkvdLAgrbuw+rQoY8P1Fu5DKWgd2O2/mMhUiQPmvPJw20MUqQy37UgGuMThERERERERH1u/4NTt2vR0lGGvL3GWBRAw02iwm1pdmYtUIPq3uASmXamoeVR8xyyxW7TQvtC0q64hzWL0x2mqcdTVerUfjWChRuyEDaumrU31GiCjaLAeVZWdj9tfy2/xxagYxSE+RwTXM4NC8qkRLrsTzMyilB7dUmpRXO/SaYT1chPzUDJVfdIh9SXsnb5egLSdquWhS9lYGis/IUfebT+rSzoOo3s5C9w2kfXpfWKw/Vt5T3DvarJUidk4fy0+b2/pzsd8ww7MtH8kIpqAgET05EkvIJ9GeuKevh8LAehkNqilsfUp3YrsGkBqDCo7QIVUb7TPNznTJy34h6j7cFEhEREREREZE/9WNwyg5jaRaqpAt8TRKKjyq3xZ0qTYFG+vRMIfKPKP0FubPfj8ayA2eU6Q8tQqR0y1U7i/hPnZ/xFLbPC1eS7xuhPwaklJ6Sv1ezLh5KGxgLKk7Xy2PeqlqstPpxH0quqhO4uz8Mc4uV5Z6pKcC050WapRr564wiF4IQ85u9OGUU63vmAFbHSmtlQdWSbTA5RWbMn61X8kqIXLxTmf7UXiyLtcLijyCJj+vTwQrrX6VjZ62a3wukvSeph97otGJ2E7YtqRJzEjQp2O4+vaUK6w+JT4OioXvDc+sk++UTOCgHtYKQNNO5DykP/mxWb+kTi3t+mDomPJ+I4os1WB2jvkcKdor9cvFiLiLH5IrXnSJFFbMaNdJnxYntwa3gFyKglCgrrn3NbtGJiIiIiIiI+lv/Bads53BCbQUTPS8FMVLARgj+ZSaWzFHG648alWCGuzlzkahRAhjBoZ1DFLq3MpX5PROMaJ3a0kUyZwkyf6lMHzpBB8cn9u/uKq2a+svIFCTGKMsNEusrrbn536qghMTmImWOFsFSgC1Ig8S3lyidbt+vhqE9GmSG8bCaE8MzsWxhpDJ9sBZJ7yyBP3ru8m19nIUjPW8RIqVWTFJ+J6UgWvkA5u87ctV2Ro9qtbVU0pJMRDumT05H/Jh45K7bi+I3pEBVEKLj5sp5hPt6GOocy7TjmpiH/G5oInRRyv7vStN3Sss6SUS4v9pNCSGhcvBUYmzwHDwlIiIiIiIiIv/pv+DUn+pRq46a3p/t1AIpFnmH1A9uWHHXw6190S9rlOBFF8J/5rlNjVYT3vG94GFob0/zg609kNEvojTtAQ1FE8x1jsBGFbJjnFpgJRfBrH5iuXNXGWmy4NptZRSTI6F1bik2QovR6mjv+bg+LjQIdY79iHXztG8s3zraMcVA+6LTFM/Ho2BHAVJe0yLckTwqHunDpRE7qk+rHY/br8FwVNlL4amJiO6uAEi6uCW0z4YGd99ii4iIiIiIiIj8qv87RO9WA6we7pwKGjRYHfNN6E/9E1bo6ml9XT6p75nera/pO3XjHz5QXiW9nJc/tK9PbzzwIfz3jBYxs9XbMQ+dk28ntNcZoJdbXoUjMUZuyxUYzkFNIiIiIiIiIup3AxKcillT4zHYc/FiMRLV2/2eXI4+jzwMOeoNe86tdZwDVf3Ci/XpjcGOpk52r1o1aaekqLcrVuOcydZxS9/IFOhGyh8Eht2G/t4DRERERERERNSh/4JTI7Rw9EltMjf07211j5xQRIx0BGuuwez2VLtOgsMRId/mJtRJHb47uWFq7/jbRXswyATrHXVUcruh/Ta9Dj6uTy+0P+VOrI+5wWlvPzRj91t5KDlman/an2xEDKaNUkarjxWi+jPlO5EzY9xukfQsaGg/3XzXfBeOGyDD//ee7i0kIiIiIiIior7qv+BUaAwSX1Mu7u2fFaH8ktJ5tt2iR95kpb+j2A/V/oaeQJGT09UgSz22bdXDIm3oQxtMpclqf08ZqG4PEmkRn6q2WrqxDds+M8MmtT5qNqFkbXl7sMRZ+AuObsntqD1lUqa3mVH9YRFMygcufFsf3wXHJiJpqDJeva0cJjUQZT1ajorrRlSty0byplqnjunDEZ+sBrS+NKgBOFFmYtXb/XrQ8VQ9oMHTvaHtbLBJtwve97KkNTe1BwcjR3i3LkRERERERETUe/14W18wdFnLECMHLCyoyolTAlLJhTBKwYIQHd5Lje624/PH2sspeG+BEg6ynylEcuw4jIuJQ/Y+KfQRBO3iJUgcIX8sC5+5BIvkye0wfpiGOKnT8vhsVMG9s3VF6IRExKvBIOv+bGX6uDQUfRfuueWRj+vjs6BoLNmWoizbUoXseCngNQ6z3zcqAcihMVidE+/S2XjwLzueqCibMg06b2/z1HS0zOvckXsotFGOwJIaDJ1crj6tsHu27xrUYKAWo3/OrtGJiIiIiIiI+lv/9jk1PBHFR/eiYIEOmhA1LUQD3YIC7K3eiPgnur+pIETmHEBNaS7ix4SqQbgghI6JR27pEex9K1JNUwVFInPPAayeE4lQKeg0NBSRc1Zj785lmKhM4UoK7u1ajSTHvB352tX0vq5PLwSNyUXloWJkTtYq2yClPa8V67UaO0V6ouPWRQexDYlz1HEhfkqM90/KE/k1eooyaq23wL3tlPaNYjkvlfmJ7XwZsHU02+qS9ZYawhoaDe0LyigRERERERER9Z+ftLa2tqnj9EiqR8m4DFRJozGrUVOciFA5/Ulgh3FTLPIOSePx2HiqADofGivZTq5E3BrphsAkFJ9Zhpi+RtfQBH1eAgqNQNCCnTjTlw7iiYiIiIiIiMgrA/K0PiIX6tP8bJfLsU0OTAFBbyRioo930XXcFqiH6YY80jfNJhiN0kg40uMYmCIiIiIiIiIaCAxO0YCzHEqT+6OKy6pSOx+PxJI5veh/LESHlAVS31J2HDzV9871bZfUjtlHpSB+pJxERERERERERP2MwSkacMEh4S59Xi3bVYwkj7249yQIkcmL5I7R7UcNuNan6JQVtQek0FQ4UnIT258ESERERERERET9i31OERERERERERFRwLDlFBERERERERERBQyDU0REREREREREFDAMThERERERERERUcAwOEVERERERERERAHD4BQREREREREREQUMg1NERERERERERBQwDE4REREREREREVHAMDhFREREREREREQBw+AUEREREREREREFDINTREREREREREQUMAxOERERERERERFRwDA4RUREREREREREAcPgFBERERERERERBQyDU0REREREREREFDAMThERERERERERUcAwOEVERERERERERAHD4BQREREREREREQUMg1NERERERERERBQwDE4REREREREREVHAMDhFREREREREREQBw+AUEREREREREREFDINTRERERE+sBhzOnITIV0bgpRlbcOEHoPH0FiyOm4qpcZEY8cpMLP/0BlrUqYmIiIgC4Setra1t6jgRERERPUGajyxG3PV0nJ36r3h2Yj7CXozAyKQSVK6djrBBLTCsfBZTN0/Hjj8eRfqL6peIiIiIBhhbThERERE9kRpx/NMavD59PFr+v0YlaXwBdqyXAlPSmyEYOkR6PY7GJumViIiIKDAYnCIiIiJ6IoVhdvl1vDu2BVfOlsnvs349DxHKh0IdjEel19mI+C9ygqoOZdPyYfhBfUtERETUzxicIiIiInpCDQkJwRDU4fw+6d18TBgjJytu/juOXxWv06Zj/AglSdZyD5ZTzWhpVd8TERER9TMGp4iIiIieZFeN+Fy6qy/pVYyUb+NT1B0pg0G8Tk/SIQItaG5WukVvPnUYn8hjRERERAODwSkiIiLq2g91KMvIxeFb6vsAarm4Bakrj6NBfU/eaag/jzrxqosbjzAlSbiAmq1SajrSZ0Sg5fQGjFpajS/KF2PGrDI04nMsT5qKqdPycbxZ+QYRERFRf2FwioiI6GnQ2gjD5sWYOnESIl8ZhJfeLENdT30K/XABG+Jn4HxcHmY73/bVny5vwIhBgzDilZfk17mfqh15C0PGZSH72ULELtzPAJXXmvHHC4fFaxSm//eO3qbQfA+NcmsqHSYMqUPZ5n9F1q+TMDVzB6r3zRYfhGHRh1/gixMFmB4if4OIiIio3zA4RURE9ASo+2gqlh/rCOS4asThjGhMPazBut9txrwfgIbqXHx4oqvpJS0wrE9C2asfo/RNp6CGqvvl9cHYVbjV2orKpAax1u6GYPx7H+Hdb1KRKrf6oZ7dRsMVIGxyOv7Wub+pEB3SP5qHkXUbMDV+DVreOYZVY53u+SMiIiIaQAxOERERPQFamg1o6Kol1MUK5OxrxOxfz8P4kPGYt6cAWZklyJ7ccZOXO+kWumWbX0XBO9PhqeFMt8vzA80rUusdT6KQ9Y/vwrJ0DSpuqknUjZHIOteKW6eyRM45G4KozErU/7Ee9eeOYlUcm0cRERFR4DA4RURE9Nhrxr1uGjE1NlxRWiENGiq/j4hbhZKPsjB+mPzWg0YcLs5H3cJ0vP6imuSi++X5w9BB6ogHQ+Lm490xx5G/xwClC2/qLxfWD0LuMXY6RURERP2LwSkiIqLH3V0DDper4/5wswafVAPzpk3w2GrK78vzWRT+NjUKjXsMOM/olN8NeXa4+PeB8qY1SrxXRomIiIj6C4NTREREj7VmXCj/EBVi7PCCERg0aJA8bLgofXYBG6TOxRdIHWI7ff7mfg/9OXVoNB3Hceigi/J02193y+udxtNlyJ3xEkaMkZ4ONxVz3y6DoYenA74y6m/FFytw/qqaQH4TEpeOkjeBf/rNTFTczcL88bzlj4iIiPoXg1NERESPq8bjyB0zCpPWXpDfzt53C62trfKwapyUMh6rxPgt+elrTp9/Og/d9DaFG3VSMGsCfuF+S1+Py/PdjT0zER23AffePIlbV6Wnw32Bj389BDVblYBaV4a8+CpmoxGGej63z++GRCFrXz2+OXUUOz5KRxT7SSciIqJ+xuAUERHR4ypsOkqu3sLZtep7v2hGo0W8jAlBp5iEv5d3swLLM46jMakIRQs6nggY8jfpyM5U33QlJATSzWeGxu+V9926gYoFSqss34ZUVPxRnQURERER9RsGp4iIiMiJBQ3V4uWl4d20rvKPumNlOC5eo8aP9H1ZIc8p37ne0O0tioqRSN+ntMrybahE+ivqLIiIiIio3zA4RURERAHQiIa6OnksIqy/w2D9z9H3FoeBH4iIiOjxx+AUERERBUTLE/SkPUffWxwGfiAiIqLHH4NTRERET5jGY8sx9SOlVZLvfoawOPEirvnvKwk96t3ywjBSfRpg8w/eLsmVHNvShKHnZ8mxzykiIiKiRxmDU0RERE+aHxpgaO5ts6SheE6KGR1pgDddjcvcl2cxoGzzFlSca1YTPIua/i6ixKvhQh1cp2zBvbvqaFduNeCGeAkLea5zx+2dsM8pIiIiokcZg1NERESPuVeis+TOwc/X3UCL+O/KhfPIiu6Iqtx33PnU6k0LpTBEREkhoxu43UVP490vrxnHN09F7srlWPw/8nG8u/jUmCx8tHY8sCcH+Uc6Jmw4shyFHynjzXfvKSPuvm/AefHy+iiN8p6IiIiIHlsMThERET3mQqYVoHpjOjRHpiJyzEyUDatEwbQQ4NZ+zB00CC8tPCxPd3jhS0on0usvyO+78kpUAsJgwI0/qwluulye8ilenfEupv9NBMLCPseVb9Vkj4Zg/HvHUL9vPhr+YRRemjgVU+Om4v2bs5G9UpnC8E6kWOe52H9Lee/Q+M0VNGI6ol7p+aY+IiIiInq0/aS1tbVNHSciIiICWgzIf3Eqat4xwbRUakXVGw3YnzQXt9eY8O4YNclvmnE4YxjmNu7AN8fSEaGmEhEREdHjiS2niIiIyNUQHV5/Jwp1+/8Vve1WHXfrYLjwOmL8HpgS7hpwfE8YsjJff7QCU2pLtUGvvISXxOvcT7u4L/Jpc3kDRoj8GCHyRXrtTb40VqfKrf5eEvOQXjdcVD8gIiKiJwKDU0RERNRJVGYR3v1+Ocqc+oLyXgsufFSI22vnYbya4k91ewpRMa0AeTMesVv6RszDwdZW1L+tQYOa9ChpubgBU0eMQGTm4U7r17cnPPZg7CrcEvlSmdSA3obrwpIq0dr6DX476lHMWSIiIuorBqeIiIios2d1KDiwCv/+9gYYflDTvNRybgt+ZfkNSjL6oV3T1S14e+tIVH706N7O99ywR7MfrD8aymBobMSNnZ+jzj1K1KcnPHpH88psday3IvCLUeooERERPVEYnCIiIiKPhkwswMHNt7H47f0+tQQaMnEV6vfM83/w6IcL2JD1ORIOfYx5fEifz6Le/gIHt27Cjn8rxWzpcYtOGhv7v0XS0EHqSF/4Yx5ERET0yGFwioiIiLoU8WYl6rdOx/BWNSGQBr2CrNqzWDVuiJpAPnl2JGa//S7SJ7q37KrDv1Z2f0tfS/82qiIiIqKnHINTRERE1K0hISEY8ii0WBkSgpBn1fHHUWsjDB/lYubESZg6bRIix8zE8j116OjV6wI2DBqEQSNewksjxOt6AxpPb8HiaVMxdeJLGPTKJCz+qA6d4kTNN7B/5UwxPzHfiZGInLUcFUcqsHyG1Hn4S1hc3YDGT+eK8RFiGiltg1hSh4Z9H2LLVTGydpLc2bg0ODotv7BeeR8ZJX1vLvbfklIbsf9NJV0e3tzfqS+pxtNlyBXLHzFGrLtY/7lvl8Egf9dbzbhxZANSx4zASxOVeSxefxj/flf9mIiIiJ4oDE4RERER9TfplsRp0Ug1TUDJv53FFyfOov7LdzHk42iMWui4bXI8VrW24m75dDRI0Z7yVMTuGY7fnvgCX5yrx9FpF1DxzgxsOO0cnmpAxYJIpH7xKj4+J+Z77v/Bx1H/isVJFdB8cBAl4xpguPBHDHnzIFqbP4buD86379WhbOJLeEksXw4urT2LVrF8aTj4pnLf3/j3xPu7RzH9pvP3wjDvU5H+b6vEWGc39sxEdNwG3HvzJG5dFesu1v/jXw9BzdbD6hQ9aYZh5QxEJtVgZNl1fHNOmUdB9BV88pE6CRERET1RGJwiIiIi6lctuLD1beSfHomC9+YhwtEKbZgOq/7xXTTuS8VytaWSJOQ/qyGfxgRs2uzou2sIXh0vdSjeiIoLf5RTZBf3I/+EeJ2ZgPFyq7IhGD81QbxewIbDLcg614pvNk+HfCPfs8+5BZOixOff4Na+HjoqD3H/nuqvR2KCOtruZgWWZxxHY1IRihZ09DoW8jfpyM5U3/Sg5dQGpG6+gLC1m7HK6RbEsGlZyE5S3xAREdEThcEpIiIiov7Uch6fr5X6dJqAX7yoJDkMeeVVSKGhw3tqOnc6n6TDhGHquJPG1o6WU40NV5RWT863XQ5S+uRqvN7Q6Xa7/lZ3rAzHxWvU+JGeA1o9aobhyBZ5vV+PekVJIiIioiceg1NERERE/ekP5/GJPNJNR+6nDKjrRSQpJEwNAjl3WK8Gr8JeDFNaTA2YRjTUKR2rR4T1LjQFWHDliDIW9p8Hdu2JiIgocBicIiIiIupPrVLYpictaOnFExGHTH4d744TI0drcOEHKaUFF76oEa/j8e5cXXfhsH7R96f6iRkMdHMvIiIiCjgGp4iIiIj601+PxDx5xEPkxhGQCnsVI0eo474Qs2zBdKRPuIJfSU8BnPjf8au6v0Xl1WN4d4w6ja8ul2Hq0uM9x4ha7js9aVAShpFRSoup5h/uy6++02DkAmWs2dbnSBcRERE9JhicIiIiIupPYTrMz5SCNjUwXlWSHFpuXoH0DLvxSxMQpST55g81KLv4KtI/Oor6q9LT+upRf2QT5v1NH26Ja22G4ZZz2GmIFHfqpPn6BRjUcYeo6e/K22G4UOcWuGrBvbvqaLfCoJuVLo/9a51Tx++ye7jnOlMiIiJ6QjA4RURERORH9x2toVodrYdCMH1tJVaNq8OW4grckG+/E5ovYMs/bEHY5AJsznAKTTk6PBfzcW5/1DFf9VXyswhMwAYszcjHls1b1KECh09fwI27nVseKSmu6WGROoyXRi58JXfKfuOKAeMnRTnFo17BhIXSu2bcc1r3sqIKdfwe7jnWaUwWPlor5rYnB/lHOiJJDUeWo/AjZbz57j1lpAshs36LygVhqFu5BluuOta1GXVbl2PDKeVd4//HKBUREdGT5Cetra1t6jgRERER9dat/ZirSZVbQnWYjUrLQcyTbtlrvoHDHxWj7PhXQDDQePs56H71LlZl6hAmP23vAjYMmoR8adTJ7LUFwNp8t/kCBedasWpcM46vjMXMzTfUVGdh0L3zMSo3T4dl/SBMWqsmq2bvu4WDb0pBpxbc+DQfy9//BFek2+ompKNkczpGPqtMJ/uhDmXvvI3iE/8TmlHiO0NeRXqmBp/PyG1fr475NYv5bZDn98dnR0IzFIiYtgq65qlI3ahM65IvnrQ2wrA1H2t21uB/jpA6fR+CVzOyoKmeiVy1w3SRAzjbukoJrBEREdFjjcEpIiIiosdSCwzvvYipx+fj6O82YXpHUye03K3D4fVvI/UjCwrO3cIqqdP0/tDagpZBQwa843UiIiJ6svC2PiIiIqLHUh3Ob2wEZr7uEpiSDBkWhXnvZGM2GnGloR8ff8fAFBEREfkBg1NEREREj6XxSNiqQ9jONcg/4RaAuluHirXLcHhcAX4zwy1yRURERPSI4W19RERERI+x5j8cRsU/fYLPr9zG0OChgO0+7gf/AgkL05GeNF7tz4qIiIjo0cXgFBERERERERERBQxv6yMiIiIiIiIiooBhcIqIiIiIiIiIiAKGwSkiIiIiIiIiIgoYBqeIiIiIiIiIiChgGJwiIiIiIiIiIqKAYXCKiIiIiIiIiIgChsEpIiIiIiIiIiIKGAaniIiIiIiIiIgoYBicIiIiIiIiIiKigGFwioiIiIiIiIiIAobBKSIiIiIiIiIiChgGp4iIiIiIiIiIKGAYnCIiIiIiIiIiooBhcIqIiIiIiIiIiAKGwSkiIiIiIiIiIgoYBqeIiIiIiIiIiChgGJwiIiIiIiIiIqKAYXCKiIiIiIiIiIgChsEpIiIiIiIiIiIKGAaniIiIiIiIiIgoYBicIiIiIiIiIiKigGFwioiIiIiIiIiIAobBKSIiIiIiIiIiChgGp4iIiIjo6XbfBvtDdZyIiIgG3E9aW1vb1HEiIiIioqeH3Yii2DxUi9HgkGDYmoORWXkYi15WPiYiIqKBwZZTRERERPR0CorBktpTqNmQCFuzTSToEPlz5SMiIiIaOH4MTtWjZNw4jCutV98HyqOyHk+wO3rkiTzOO9akJvQTuwlFk8W+nJyH2jtq2lOo6Vgexo3Lg/4pzgMif6gvFfXJuBLxK+EFmxn6fQZ0V8vZLxUhVtSFsUtru52uX1wtEdsyAPWwl2zGEmQvzMbu63Y15XHWBH2eKCt5+j7tV5/KGyke2mA+VgXDAP/eBYUE44HNqrx5LRLaZ5RRIiIiGjhsOUWPLNvpalTfD0LShg8Q/7yaSETU75qgz09D4WWpFUVXbDAcqYZ9aBI+WBePUDX16WRB7Y4qmG6YcPc/1CSiXmg6no+0dSZxdA00G8yXTfKYNjICwfIYERERDSQGp+gRZUXtAQM0C8qwJCZITSMiekTcqsXBLzVI2bYEMUPVtIE0JhcXL15E8YxHICzWZMa5G9JIDEZrWV/TY+ihGfUnpZEgxPxCIycRERHRwGJwih5R4UjadREHciLFqSIR0SNmRBJ2XjyA3DGsoezmazBKIyMnQvt0NyGjx9W39TDII4kYzY7QiYiIAqJ3wakmE6rWZiBB7g8oAXm7TGjq5vG7TderUZSTjDipL6hxsUhYnI+qS+49Oah9PEh9Rd0xYfcKx/RxSF6xGyZP/Q/4uh6XqpC/OEHuI0SZbwlqv/W+fwzrl0XImBmLuJkZKDpmgfRNeZ45aUhLFvONT0b2Jj0s95Xp/eJhE0z78uXlSv2LjBPLWFla63EZtq9rUdKeb+MQl5yN/H3d54m7vuaRO7nPjTw9rFL/LZvUfSWXgSLov3ZruK/2oVJyVX3vpFPfHWq/VyVX7bCcLMHK5Dj5u7FO+8Ymyl37tsRnIP+QWU5355pvavm83FX5NCnlIF6MizK38pCyLHkKr8p5d1y3Je4tkUfd5b0PZcOd5bM08Z3Z2P21muDsVjUyxPxm/4tZTRB8XJZrnnZdjrzLe0Hqh8Qpb+R55nQxbRfs3zotS6ovSo2wPlT6qHPpt8eXcqjyeju6ouZvdqrj2JPKcpqHPO7oC8fyrR5F7eW7p3ohDclSmZXn3UXeOY6py1YYxLEqbUvszJWodtpvvtQP3pYBqW+n2tKV7esnHcO+1lt+mYeDnA8JKJSiLcZCJEjr79yHobfHQnf5KZexPOhvu84rLnkldqv7xXrGuV7LQ8kZtT8ch059TvXiN/S+FcZdK5Hmti1mb+6pemiXO4+WBtMlvZL2i1AEy2mey4QnXpWp9vpemn53Rz0grW8Pv/vu+nyseuJSJsQ8l4r87maWPv1WuJVtqYyUnOz43ZF03beVhz44/VH2VP7dd0r5TVgnH3gonNl5m/r+G6uyW5X6NjkZCTMT5ONDf+Ya5K2MHQ02/iMiIgoM34NTd2qRNycbJaeBaUuLsX3TEoyuW4lZH57w2EeA9VgeZomL7FpEI3PddmzfvAzTBhtRkjMLGeLit9Mp7J8qkPfGSphGpKCgdDsKcmIw+GI5st/Ih6FZnUbi03rYUb8jDbNySmAcPA3LNov1WLcIWutB5M9PlQMcPRIX7PmrmjC38gByX6hH9bo8ZC1ORvKRwUhZtxd7D9Sg5jcRMB0qROpmg3/6S7hfj/KFs5AtLqIHv7YMxVJ+pGphPZSP5IXipM3pYsh+vRwZqfnQ/zgRudL2lRZg0cs2GEqzRZ4YO+dzJ37Io67cM6AoIwPVNh2WbNqO4jVzEfHnahSmZngOjvigoXIFUj80Izy1QClbIWaxb1KxfmsRMt4+gWGJ76F482qk/LU4wRcXiOu/dN0z1uMrMVvk20GrFoucy2fWLHHR5+GE/GwR8jZZMPE3YjuWJkIXqZFbdvlczjuR8j8VyWuq0KBZpJT9BDuq38pCxVcevu1D2fBEE5OISHEqrj/vFIBSWYx6cUGgRcr/0CoJPi5LyosE5zwV5SjCIi5i3spAldP+9j7vRd7sykDaGj1sk3Ll5ctls9kgT1tk9CJ3xQVZ6nxxIVM3TByv4vurUhB8aYW4KKlAgzpNb/lchtw9NKNKzl8zgmMz8YG0fVKZjQLOiQuo1A0e6pOGKqwQ5a3+Zyl4T9ofbwyTL7aSF5aj3ik7bKcLlXW7p8VcUWa3S9Muj8cw6QI9K8vj8XduUx4Kv5uIZaXFWDZTh0iNVMJ9qx+8LQO4XYuVSWnIP2SFVjqGpWW+NhhGqd5aoYfVm6CDP+bhLCQa6aL+TBkpxkcqv0PbE9TbfHpx3HnOT0kTDB9mIa8W0OWI37B1mXKZLs9agaKteUj+yIrItzaK9FxM/KkRVUvzvKsvvf0NFdtSsnA28iqt0Mx03Za0jEIYbqvTdaHp+ArExcfJQ95+df8fWokEKW3WNph6PCx9/81pqBT17BqTUt+LfZT7y8E4t0Ps57Xe/eb2+Vj1qAm1K6QyYQCmSPlYjCUjTVg5pwgnnPNb5dNvxW098mY6l23xu65pQNWaVGTs61x3e6+vZa8/9l0wot8SZXCe9Lsjfn+kvClNhOMGu77/xirs31Zj5czZyD46DIt2HkDN0SN4b8QJFO6Q2/5B+0vtU95/HBERUQC1tra2eT/82HbhgwltY8fmtH3+nVv65pkifWzb2OIrHemWT9sWirQJ73ze9pcHTtM/uNf2+w3SfOa0ffyVI/37ts9zxPfHTmjLOfKXjmnFcK9mqTzvVbX31DQf1+Orj9vmiLSZmy+0/dg+rRge/EVZ5qT32y786JTuYfjDP4v5bvi9+L74zmJpPT1s1+UtyrLHbmm74vTd3g5/2DVHzGtm25aLP7p+9t3nbTnS8j/o2J4Lm5XlXnBeH5Efv98wue21eVvafn/POd3D4EseWZXl5xz5vmO6LoYrxUpezRH7w2W+9R+3zZSWt+sPHWlq/m257DSdOijzccpXdR3GTlrV9rvvnaa9+WnbfCl97MK2T286pf/4+7b3pfTfftF2z5F294u2VZNEWo7bfmwvR2IeFkeao3zObPu43nlaMfhUzrsY1Hl0yn91X8tl3dqR7kvZ8Dz8pe3TvxPznfFx2x9c0m+2fbpApP/dp21/UdN8Wtbd37UtldbXPU9tIv+lvF7+OyX/fcn7BxfatkjzFHnTMZ0YpHlOea1t/ubfd+xTj4O6raIM/97mlP7gZtu/SOli3i5l2Zdy6FMZ8jz8ePmjtvnTJ7QtrXHUb45BHL//IC0vx6mMO8ph52Pqx9+/3zZBpC884Kg//9L2u9/OaZss7WOXdROD+V/k42RCmVM96TimPE3vS/3gbRlovdf2xW891eNiWy5ukeuHjm3pavBtHp32X5eDms9iG753SvfpWOguPx2/FXNcP5P2oZzuXlbVes1TfdlRdnvzGzpHlHO3bRFlQ67PnOvK7obvf6dsp1sd1ePQi9+csZPc9/O9tt8tl5a9qu2Lnn7jelPfu+1/T8OPRuW4y6l2zXNH+XMpbz79Vji2zX2bpd91adqlbb+7q6R1Xa6vKHWn8/mQP8peP+6774/kiDS3suSP31hpsIqyKpUB9zwVx+/fS+sojh1P9T4HDhw4cODAYWAG31pO2U0wfGYH5szFtOFqmiwI0bNSoLazaGf+skpugbHk7USEOz+W95lgxLyxRHxiQcVp94boiZj7Wrg6rgiOjEG0eLXdV/825uN61NdWiCXFYNH8aNf+i54Jx7S5ScD9ahi6/TOvBaaTd5E0WXzfboH5spQW2Wm7bHfvKiNzojutg88e1qN2twWIWYSUsW5tzIdPw9w5Ihs+M7j9dboB5m+d/34chJjlp1BTmYuYHh490/c86o4Wc2e69R31ciR04sX6H72dpyphGnTOf+bUaOWygrGJiHHu0zRIA+1Y8fqDrf0vrE1n9ai9H4SUhW7ls70c1UNvFPvAhQ6Rbv1R9K6cu2pvrTTLLf/Vfe2iV2XDXTh0s2Pkv8wbnf8ibjFBf0OU7oQYMYXg47Kazp+AQWxBpzwdGoNpc4IR+p0Z9aKI9irv/2x2vd1IzHNZbQ32vhPT/ZOVLEbor4stXiTKhHPH1c9oMPfvk1zz20e9K0OugsZkYu/RM9j4mvtWBEH7qthHwoNOrX+SsOTvXY+poJi5WDJSHMuVtVDaVIQjft0BnDqyqPNj0X8+Wj5O7A+Uty4md36Mui/1g7dlAHcM0J+0I2hBOhJd6nGxLeL4lVou1R81iuV2wx/z8FZvjzsP+emgnaNz+SzoRa3IZWGWzrWsvqCR95d39aUXv6G2c9DLv6FLkOneZ9bP5yJd2paTom7w4o4p5/6mRvvwVNVe/eYkuP/mByPyl/KWiW1TUrrij2O1MztMp6vFv0mYm+Ca547y58yn34omI058KebTqWyL3/X4uQh+3grzV84Vom/6UvYGet/54zdW3leV62EUywp6I8V1XR7Y1dZb4vf9v8ojREREFAC+BacsZvkkNPpl5VYmF46gQLsmWOqlZvLR0LygpLhQp7ffaBBTOhk+DKHuMxcnI1KSpUkN/vi4Hg1/kk6SBsMmLrxNl1yHa7ftchPu+lvdNenXIOXAGSz7pVja19cg964xchqi3R7oYvlK6U4z5hfazusl9buQpVf6NPBGUwMapBO2oTY0uK2z6dI1WB/Kaw2rOsPRcYvEWhpRkhqn9LeyQ1xY3LDC7tUtLf7Io+5oEOreTv6Zwcrrnbte3Y7RpaHBnfNa8nK4ElxpJ5anLtLB2iCVogjg+87bbLLclQMeZovIQ3lq1chwDHO5sOllOXch9nG9FE7wNI8gaH+hBCja+Vg2uhI6aZo4FbdCf6bj9hDLJT3M4qIjMVbNPR+XZb0pH5nQuAUKJJE5HYFSn/L+mdHQvSUONmMJ0uKUfkbKjxlhFuXSG7Zvr8nBmpiXxPLcBHWqL3zTqzLUFakPn1tm8V0j9PvKUbQiDambpfl7EKP10C+KGoC9fU3UlUqKg90myulVsU4nq1G+VeprJQ9V6mfutOHD1DEH3+oHb8sAblvkejziobXTPE2XGnBXmkYcN9buMs8f8/BWL4+7zvnZIfSn0gp2Fq1xrb3a60tvePMb+mez3Pmzx9/Q9jpHHGO3lJTumC8r/U0FjdW234LVs9795oT/LLTT+g4eJG8ZmjzcQufMr8dquwaYpdlK294pI9XjsZ2PvxWiLpCPpAi3siAZk4tTR/cit6e/OnWj92VvoPedP35jhVt6lEsBWSFxwmiXdWm6cU4J6MdEY3Tvs5SIiIj6yLfg1H2bHFwJGuTdibLjr/2DXS7mexARiq5O5dv/cufTelilhhOCASU52ch2Hzbp5RMa8/fehUgsX6n9N0VpXE/EH9bDcEj6JBITo6RTMzciL9S194560YUvSzqvsxiKjshrDev/lCYSeTEqE5WHipE7PRLBtnrU7ipE3sLZiJ2ShkK1g/Cu+TePOhuGYV2d8Dm1ZOqNGE8n7pIeL+akE2zp1YyqNR62WepAWPr4tlvw7Lkg+SLGWa/KuQs7bD8oY17Nw8ey0aWQGOimiL1/VFyEyttggalGnKJPmQadowWEv5blwte8D0Lk4koc3pyL+DHBsF2txe51eUibFYvY1MLuO40X7KK+kAz+T52uHoHnI6TL1V7qZRnqxA7LsUKkTYlF3Jw08d08FFYaYBkag7kJXbTB/Otw+QKwK+0trZpM2J0Th9i4BCQvFuu0Zhv0l+3QvJEot1z0pPNFa//UD03fKb19mffnd55nzkrsviR9asXdbi5c/TEPr/XyWOgqCCCJeMHzXvT2N9Yjb35DH9rlerdPy5FJLYmVeSaO9aW9cO/KlCa0yy3rofWNv45Vd6LulvrmEtnoTU72/bfCf3pf9gZ63/kn35rqz0FpWxWP6Ejn3wI7zPXyBiE8iv1NERERBZJvwamhwXJrFHurp3tBOnOcSLRfKPmLT+sRCo3018vhmdh78SIudjXkRCqTd8vRwkWc3kS6nYhfN+CgdII1ahpiRihJzmzi5Ec++fXW80pT+vCsvZ7XVx1yxyiTS4JGxCBl7U7UfHkGNQd2oiAnHpGDzdCvS8W2S91dwPszj/qDuADo4eTVd6EI/2vpNR4bT3nYVsdQnNjjyWrfy3kQgp9VxryaRy/KhmfB0M1IEhdk6q19FuWWPt1kp9vk/LYsZ73J+yCEx6agYEcNzpypwYEdBXIgdvDXehS+1X3ny8H/hxLAfPC/PExkuwu1LYkX3Muhf8qQ7cv1SF2nR0N0JnYeOoUzRvGd2gPYvjYTuq6aovzZKl8AulPKTzCCpdtyHpqxOysb5ZdCkbTuAGpOnRHrI+qGyo1YNjO6x3LdoX/qh9DhSlgwfsMpz/OTh2IkdnOrmD/m4bV+ORYC5JkgueWIt7/lXbpzDedEnSEdA64X/D0Z6N8c/9X3rkTdLbUQFNnoTU722zlRV+w2r9bLNwN/vuCPfFNadAojRyPCJV6stn4TdKP63CEDERER9YFvwSmN0ieB6bK5818X7zS4PfVKnMBESheFBtR/q6S4sJjlYE3QyAgfTwYFn9ZjGIZJF3i3r8Hs4VHadmMRpEe2F532dKnnRlzs1Z+URrQY/XPnsxs7TKcOin8dffWI9x/GdjyK/44R5bsMwOUS5C1MQ9rCfNR6eqy3s9Bhcsssa53Zw0WoHcZNsUhILYJB/rAeVQuTEbdGfeqNuPAI1UQifkEBdm5KEafPdljvdPf3YD/mkR90DiJYYf1KHfWjYeHSiagon/Jf1N1YqpEWn4yM/eo+7JI/ynkwIuRgp+d5WBvcwpo+lY3uBUXrkDTUCv0ls3pLXzziJziVbR+XFR4hH5mweHjSl/VINuKS81Bt8THvr1chLTkO+Y4nLQaJPB8TLwdiixeIC+L7onx00zIm6P8XAekyyXjDw3P5blnUv6Z35k057HsZssF0ulbkZDSW/WYRIkcEI6i9dYA4bkX58eiKxcNT6Cyw1IkXx8XXt0bopS505i3Dstc0CA12Ch5YrV1ud2e+1Q/elgGEhouaVOTeV576+bGgemEckhdXiTLZDX/Mw1t+PO4C7q+1css5j7+hYlvMX0lX6zHQevhDizP7TeXWM4yNhlatNuzXdyN7Va04Wroz8L85/qnv3UVAKxX3yybX/vBkjtZaDj7+VgzXKOc5DR5y8rYe2WJ98w45l/sHsHWqsnw5zr010PvOz+eS7q3eLfXqkynj5f4k7ZfE+idXidqDiIiIBppvwamgaExbIE4STpZjt8ujgu2oP1ClnKQ60U5JkR9XX7HD7XHeD20wfrZNXDCEIz22F39d82k9ghAdnyKWZMTuT0ywuayHGVXbqmG/E47Rnm7Fc/etOImRXoeKk3bnsxtH57KOvnqaDaj+TIuUKeJk2FaP6iPnYJX/fJmIZbv2Yu+eAsT39Jd8xzYad6PqkttZ740qbDtkR9MLoxEtr7YW2kgrbCf1nR7/bf8P5ba54KHd/VXbj3nUF3+lXGi6BxHsV/U4KP913r80k5PEHrOjak+1W/lsQu0uUT6b7ZgYJa1R9/xRzpV18TAPcRFSId8u6sSnstGDoNHQzQyC1bAb5dItfXOmYaJz3NXHZSn9WNlxsNI9LywwHhVl68FoRL7gY96/rEXk9zbUHjO4Tiu+bxPTtbcU6sqIeKS8Jraxshx65+PjoRX6XRWdL6J9KId9L0ODMVjObxtsP8oJ7ewifysOSWNNsLt9hvsHUXHcdc1tZw5im1i/mCSdcvEVJPJF/kC5haudtG57pHIp3Pfmtlrf6gdvywA0OiSJq2/7vgpUu/Vt1HSyQmyLWLdxPTxcwh/z6I5zixh/HneBFjwRiW+I34ROv6HCt6JsSeVuyjTE9LAt5utKf1Ph47SifAjimDohjqmg2GjlfZcG/jfHX/W9K8d21KJ8T73LsWS/WoUqt5Min34rntdh2hQxn0MVrvWWYDmjh0ms7+hfKCciwT+TayyYXYI34nzo6EH/BGZdDMS+EznpNF9//MaGvyiF+gSXW/6d8kgN6psv6jHstWjXABYRERENCN+CU+KkJDKjACkaC6qWZCB/Xy1Ml2pRtSYDWYes4lM3I5JQsEacEJwpRNo7Rag+aYJJnFSVvDMbeeLkV/uWmJfb02y849t6SE/DKliggXV/Nma/UwL9GbEeJ6uQvzAD5ZYgxKzJRXyIOnE3mr69plzIJozu4mInAhGhNpgqK9CwYAkSpb86B0ciaXE6dD53bOPYRiuqcmYju1QP4yUTavflI+3X5XJ/NKtz4tXbr8TJ4vxliBlqROHCbJQcM8odk0rTZqwRFw+aTKRMdo44dOavPOoT9ULTuiMDGVul7TVCv0Nsw5JzCI/t9eVl155PxDJRPoOMRUhemI+q9vKZjPyTdmgWeFk+/VHO1XVR5qHkv/FYCbIXFsLUuUT7UDZ6IspO3FwE3TDAcCNIeSKl+onCx2WFxCPXbTuUcpSKousapPxjivKEKF/yPigaKUulaZ3mqR7vK46JYpOVAl23GxsMXdZ70A12Oj7kZaWh0CRtoRtfymGfy5DjQs+MklUrle+LbavelI2EhVUYNkWsiPisU59eQwHTujR1f4j1KxXH7dJqIHY1lk1XLwrV7cCxFciSt0MqU+ViX8zC+m8nIkZaLy/72PGpfvC2DCAUictXy/VW0YI0tR5XtiV5TS3smhQUzO/puPfHPDwJxjDpdq3LVag6JtZffgqqP4+7QBPlLqus4zdUXPS3b8tbJagP0cm3hfe0LcE/VUJQ4X8lpnzYBOPWPJQMfQ/LXus5MDHgvzn+qu/dOLbDsi9L/N5WoVbNx4wlB2F1D5r79FsRjPgcUbbh/Lsu1XtpSP2w3mV9HX/cKP91Rnv9Vi6dD50NV45zP+vPfafchm1C1Sd6sb0WpX7yw29s6OS5SJL2x5fnUC8FuB7aUP8vWcg71qT8Bvw0CEH3jThxKByJ7fV8E/R54zBuXB70PbV2JyIioj7zMTglDI1E7p4DKJgTCtNOqRPa9aj6PhLLdn2AueokzsJnFONIWa44cTKJk6VsZC8twTnxLrf0CPYudn0Uuk98Wg9xUZFzADWlYj0enEDRUrEea8phGqpDbtkRFM/o/m+8DrZmcRIzVIvMBLcL+GAdMjckITLkIPJmZaDqp8tQltWHbXOQtvGTGmzPicGDk0XIy8lG/k4TgibnYvuhYtfHSw9PRPFn25EZZcOJzXlyx6TrD1ihydiOmk88PEq+E//kUd+IC80NYp8uiIb1SKHY3hUoNwUjaVcl3pvsv7+gO5PKZ01lAeaGm7FbLp+F4iQ0GinrDqAyx/t96I9y3j6PH/UoFPmfV3oOwW9sR9k7Uk83bnwpGz0ZFY90afqhidBFeVhTH5el5OlqxIscKJHL0W6Yw+ei4JNK5Do9tt6XvJfzpjQT0c1q2ZSPdw0yS2tw4O+8CD4Mj8fG6r1YPeWBcnyIsn3thVwc2LVM7kfIlW/l0Jft8CRoTC52lmVCJ8pOifT95dtw4scYbDx6ChsXT5QD4dduurXvenUZKj/Jhaa+HCty8lB08gFicrbjyAfOj1pXtmP1HK26HWK/VVowLHUnavaI9f2FmOSKGQ09N50SfKsfvC0Dcr11dK+ox8NhrpTq8TwUHruLaHHhfWBPLiK7axHn4I95dCIusFM3ImlUE6rXifX/J6NyK58/j7tAa/8NDYflqLIt6w9YED6nAHurNyLei23RzCsW34/G3V0ZSF64Aid+tgwH1sW7Pu6/SwP/m9PXY9UzaTsqxXbPRWhdOfLlfLQicmklPpijTuJErsu8/a1Qy/bqKcC5Uul3PR+7vw7HXPf1fT4RH3xSgJRoKw6uU+o3U3ASKve8B91z6jR+1X/7LmhcCjbOiUTTZ4Vie7fBqN4d6FO+eTI0Bsv2FSNFa0BeQjKS54tztdZMHKipwc4cHTTfFiF51nrYVhRj0cvqd4iIiGhA/aS1tbVNHad+I/31LQGFxhRsN+Yi2qsTdyLqd3f0yJtZCKypERdU/RMA9S+1LsFq1PjceTMREREREdGjyfeWU9RnTcfykH3EQyenRERERERERERPGQanBoTafwlssNvFvz82Ifinj0fPJERERERERERE/YnBqQHh6L/EgBVLVqLquxTkTmFwioiIiIiIiIiIfU4REREREREREVHAsOUUEREREREREREFDINTREREREREREQUMAxOERERERERERFRwDA4RUREREREREREAcPgFBERERERERERBQyDU0REREREREREFDAMThERERERERERUcAwOEVERERERERERAHD4BQREREREREREQUMg1NERERERERERBQwDE4REREREREREVHAMDhFREREREREREQBw+AUEREREREREREFDINTREREREREREQUMAxOERERERERERFRwDA4RUREREREREREAcPgFBERERERERERBQyDU0REREREREREFDAMThERERERERERUcAwOEVERERERERERAHD4BQREREREREREQUMg1NERERERERERBQwDE4REREREREREVHAMDhFREREREREREQBw+AUEREREREREREFDINTREREREREREQUMAxOERERERERERFRwDA4RUREREREREREAcPgFBERERERERERBQyDU0REREREREREFDAMThERERERERERUcD8pLW1tU0d90p96Thk7JPGYrD6aDESn5eTqTt39MibWQij+tZVMDQjozFx/iIsmqJF8DNqMvmF9WQhDOGrkTJKTehKt/vIyYKduJgTqb4hIiIiIiIior5iy6mAs8Fyw4CqNWlIWKGH9aGaTH1z3wL9umTMXqNHE/OUiIiIiIiI6JHF4NQjxH6mEHm76mFX31PvNX25DYXHLOo7IiIiIiIiInpUMTg10KTbwi5e7BhO12DvmkRo1I8tu7ZBf0t9Q4Hhvo+cB97SR0RERERERORXfgtOSX1RjRsnDXnQ32qCaddKJMcraXFv5aP6uk2dUrhaglh52nFYedIpXfKwHiWT1XmtqoXzp02XqpC/OEH57uQEpK0oQe3Xbt9HE/R56vfHlcB4owrZ8nrEIXmrUZnfQ7F++/KRnRynTjcOsTPTsLK0Fpb78kxc2cyoLXXanuRs5O8z+ed2saGh0M5YjeLfxqgJ9dAbO7f4kbc9Jxlx8vrGIiF1JUpOmmHrYh3st4zYvSINCWpeetw+qZ8ldfvHldariYqmY3lKuhhKrqqJznkrprd/W4uSFeo6if2RsUmvzF/kl35Thrpske8rdsPUpMzBhbf56rKeJti+1qPIqRzklRqdbodU1jFhXUfvUVWLle92bIc/eFHOpKm8KrMqtVxmtOeH2MdnrLC274sSUTpU4hhS0sYh75hr5roci3fURIc7JlStdeybrsuRy/6/bIP5WBEyZsbK72Nn5snr5VFTPao3Zbfv03HxycheW9Wx/5trsVKdb+yHps6tBLurG4iIiIiIiOiJ1A8tpyyo+s0sZO8wwNKspNiu16LorTxUO1oEjYpH+nBl1HC640Jedt2Ag2oARTc5BsHKqHyBPitHXNhfbVIuaO83wXxaXPinZqDkalc3wh3Eil+XwCSvhw3hL2rF/GwwrBXrV1oLk6VjyfY7Zhj25SN1jVu/T/frUZKRhvx9TttjMaG2NBuz/NhHVPiURMSr42aL1emi3Y76HWnKtl+yqHllR9PXSj9Vs9fUdloHu7jAT52Th/LTZjSpeenYvuSFJaj3FIDz1dn1SJ2fj6rT6jqJ/VF/qFDkXyEKRX4VHqpXl22D5XQ5srN2w+yPfD1bhIzUQlQ7lQPjvjwkb/UQ6BgwnsqZj2X2oRX6FUq5rG/PD7GPlyYjr9JPtyfe1iPvjWyUHHfsm45ylFHW9e2k5zZlIG1dNervKFPY7xjl9Sq65PYNaf5zMlB0yNS+T9Fsgel4CbJFedTfFu9DdEico3xkP2rANbdZ1P/+oLoe8Yif4Dj6iYiIiIiI6EnWD8EpK6x/lY6dtRdx0XgK2xc4blhzahH0jBYxs8OV8S8NMDouZIWOi9MkJE5WL04t1chfZxTpQYj5zV6cMop5nzmA1bFB0oeoWrINJreLXIUdw2YVq9PXoGBKqLiANqD6pDJx+LztymfGMziwXGm5JPX7VH7aEbSyw1iahSpptTVJKD4qpr14EadKU+Tb8KRp84900YLEV8HDMEwdxe27ahBKLMO4DVm7zHKeaN4oxuEzSr7u/U2MyA3A9mU+8g85BS/sJmxbUiVyRdCkYLv7frBUYb3z9L1lEfMQ61Mj5d+p7UhRg432M3ro4ViuyPPp0loKlgoYbiijfcpX8Z3R6w7gjLTcQ6sRM1RJtn9mUMtAKBKLL6JmjaMlGpCyQ5l/7hg1oSf7MpRWP+6DW+uyDh7KmY9l1na6HEVn1HL5WgEOyPu5BsVvhIus9kMZe2hB9XuFMN4HgmKXYe8paf6i3P9WKUeWfVnY5h5sUlkwGgUHzsh5eFidXtrm6tPOAUFr+/wxNAar3ae/b0TRToMo10GInpykpulhqHNapii7Jw4p74PeSMRExqaIiIiIiIieCv0QnApHet4iRIaI0WeCEZ2UgmjlA5i/72ippJ2SAqX3HgMMl9T0h/UwtF+c6hCtXAXD/G9V6u1Mc5EyR4vgZ8RokAaJby+BVkq+Xw2Dx+iUFimzYtTpQxEsBTKarLgmfwbc/cqE+u+kVi1B0Mwpli+mpaFginpVbDvXfrEcPS8FMc/Lowj+ZSaWqK0/6o8alUBQv7BCv6taCQAMT8F7OTEIl/JE5Kv2jfewTI2/1JcdbA902M7oUa22jEpakolox35ITkf8mHjkrtuL4jccAcO+0CH9rRiESnkbHA3dFCVV0rHcUMTE6pREsRVWx/7vS75OSUfuaxoEScsdkSj2r5Is5dVdpyDnwOpcznwrszaYTteqgR4dMn8TD428n0X+5SxDkhqA65NvDai6rozOnZcErVTEnxHlftYSLBkppboHmzro3spFvLxC4uiemSK2SOUURMXXte3z12YtQWL79OlIf1mHlDXbUZmjk1uUBY2dhrnyNtmhP3OtfZn2OgP0ctkNQmLsaCWARURERERERE+8fghOaRAaqo5KxEW5x4vMETokqsEVw3ED5C5p2m/pc744bYK5ztFypArZMU4tWZKLYFY/sdy5q445i4bmBXXU4eVoJDpa21zdjbzkBMTGSP0iFaH6pNm1v6M/1aNWHTW9P9upFU0s8g6pH9yw4q6fbu3rxGbGNfWCHzHR0LpkZChGT5DDHHKrlHo1kmP51qCMIAbaF52+8Hw8CnYUIOU1rRLg6rNwhEsBqE60iHBaQPCw9vZgsN1XwxB9ydfh4e23ekoGS0GfgHMvZ76WWQvMZ9TRsTFKYNchKALaV9XxPmj6+hra1yjLaX3GJaPI0aLNcheejqLwnznl+DOD1RFXTd92zD9a6xT8fCYSiyo3IneGyCPHdom0+FSl5WRHizc7rp3RK4Gq4elIHOuXQkpERERERESPgX4ITnkrFLrpaqsaowHn7jjd0teLi1PTd5563PYQvAiKxpJdyxD/vPP8pX6RqlG0Jg0JCSuhtzjacnijAVbPi/aNzSkw8GywEpi7b+tomTJUTXMS/FNHFNAKm9paCg98Wff+EIqgn6qjfeKnfO2Nrp7W182T+noTJHMus3bH/hss/x8Yly1KkLg3fAzQamMToYSnqnFOik7Zr8FwVCm74TNjoH0kgo5EREREREQ0EAIYnAKCJ8SrnYAbYaoztN/S1/XFaQp2egoaSIMPj/gP+nkSCo6ewakD27E6Jwm6l0M7Aj/NBhRuO9HpIj1mTY3n5V4sRqJ6W1pf2M7Xtrcm0kZGKK2DhgZ3tBK6b2u//cnB9qNjLcOVWxYlgx1bIqburxZdftTf+Rp43pTZIASrfXbhgfx/v3L0wdV5yFVvte0F5+O1VX3tzsvxSBmljFafNcHWfkufFilT1BaBRERERERE9FQIaHAKwROR+IYSTKktK4FBvjgNR2Ks88VpKCJGOgIu12B2PPHPD4I10UhcsAwbK2tw5sxOLHIECIwW5RalEVo4utU2mRs6BYf84qEd1kvlyNvguB0vEokx6m1RwVqMVi/gYTTB7LICTbh2Xr1BbKgO0T9XRjU/d/TxJKZvcPrCQzN2v5WHkmNOT1JzvkXrz1aXgFzDTaM61g8GIl8DytcyGw6NIyp02QyXhnvNJhg97YpngtoDqiar44Y6iRUN7R3PdwjVaNunv3bTeXr/CP35aLUllFifb517C7Ohdl0G8vfVwnzbecPCEZOgbvQhPQqPqH2rjUqEo/gTERERERHR0yGwwSlxuTw6NlG5aL5tVQJCo1IQ/7I00iFycrr8FDegHtu26pWL94c2mEqT1X5zMlDtZdDKdnKl+p1Y5H1mhk1tXWS3NsDsCNq8FqksLzQGia8pl/T2z4pQrnbcbrfokTdZ6bMn9kPPnUh3yf1JcDGxmJ2zG/XqbV2at5YgcYQyLl3Ax8+PV/OnCutLjbCq227+bD2K1KBFZFYiItWWK8EiPx0daFdvK4dJ3Sbr0XJUXDeial02kjfVKrcLhoZD62hxdeYEDGoeNp0pQtF+Zbxf9Ee+dsP2H2JOD+2wD2BLMt/KbDAmzlSfYIdqbBP7We77zG6Bfv16OMKWLoZHtD9owF5jgEnKQrlciH13WUl3MVKHdDXoU19a1H7rqu1SCZLVsphxqA9BK6eWUOaybR3zv7wbFcfqUVuaj7RfV8HstA/Cp8yFEko1wPClPIKY2br2IBcRERERERE9HQIcnAKCxiYi3dFiSYhMiOl8cfpyCt5boFxZ288UIjlWCurEIXuf1EIjCNrFzgGd7gVPyVUf52+H8cM0xKmdVccmOz0GP0t5qpgUNNBlLUOMHMCxoConznXaEB3eS41Wgwp9FzylAMVvRbrML3jKeyhTt93yWR5mq9ue9qFRDt5oZmxEwRw16iCR+tTalqIERixVyI5Xtm/2+8r08vblxKvbFwndIsd3jSiao0ybsFQvZtyfIYL+z9fQlzta8uiXxspBwHJH5/IDwccyG/TLdLwnl0tlPydI5TI2GYWmcGicjo92TgE+KXCZHecoF1aEOxWHds9okbJKLRf3jShMFnki8jwup0p+KmLQy5lYMrMv+zwcSetXK/vUef5ZyvylByWk/GOK6+26ITEuT3mUnlQ4bZLz0xSIiIiIiIjoaRDw4JR00RzTflEsLrhjPV0gByEy5wBqSnMRP8bRP1QQQsfEI7f0CPa6BXS69Uw4Ej+owd51Ka59TYVoED09F9s/K0aiczBgeCKKj+5FwQJdx9PGxLS6BQXYW70R8X3tF2loKLS/FNux+QAOr4tHeKe+ttRt37EaKZM1alBJbPvLOmRuPozKNbpO3wkak4vKQ8XInKxFqNoyKuh5rVjn1dgp0p23T7ugDNsXO7atI0+LUz1FOPyov/P15RQUr0lqf/KdtP34X+3dyw8AX8tsKOI/OOK0L4KhmZwpl8eUCHkCN8HQrarE6jmR6j6Wpk9BQeVOLJskT9CJVC4OHN2O3OmO70j5Eon4nO04smcRIr0+iLog7dNDYvlznJ7Mpx5XxYcqkTvGfQFiG2YkqePCa/GIcXyPiIiIiIiInho/aW1tbVPHieiR0wR9XgIK5Vs4pc7V+9Bp+SPIbixCbF61PB6/4RQKprQ/AoCIiIiIiIieEoFvOUVETxdHv1M2E8q3KYEpDE1CYiwDU0RERERERE8jBqeIaGB9V420ceMwLi4bVeqD/SKz5iK6r7cVEhERERER0WOJwSkiGljBwQh37vNq+U4UO3fqT0RERERERE8V9jlFREREREREREQBw5ZTREREREREREQUMAxOERERERERERFRwDA4RUREREREREREAcPgFBERERERERERBQyDU0REREREREREFDAMThERERERERERUcAwOEVERERERERERAHD4BQREREREREREQUMg1NERERERERERBQwDE4REREREREREVHAMDhFREREREREREQBw+AUEREREREREREFDINTREREREREREQUMAxOERERERERERFRwDA4RUREREREREREAcPgFBERERERERERBQyDU0REREREREREFDAMThERERERERERUcAwOEVERET02GnGjdMX0NCsvn1SNDfgwukbYuuIiIjoacLgFBEREdFjpQH7F47Cr84Cw0PUpCdFyHDgQi7++8L9aGhV04iIiOiJ95PW1tY2dZyIiIiIHmlSYCoWy1CEM3vmIUJNfbK04ML6OCTdzH6Ct5GIiIicMThFRERE9FhQgjaTjifgbO0qjH9WTX4S/XABG+InoWb6WZx6bzyGqMlERET0ZGJwioiIiOgx0HJqOV6cZkTWxVNYNfYpCNdc3YJJY7fgvx25jpIZT9r9i0REROSMwSkiIiKiR93d48iNmglj5lmcfYpaEtVtnYTozf8NR+tKMH2YmkhERERPHHaITkRERPRIa4Fh869Qhiysy3y6bnGLyliHd8WW/2qzQeQCERERPanYcoqIiIjoUSbf3rYcz5V/g6MZT1/34A17ZuKljHvYdPks3h2jJhIREdEThS2niIiIiB5ZzThcuhwXkI70Wf4PTLVc3IKZE1/CSyMisbi6QSzuBvavnImpcVMx6ZURiFywBRfuqhMHSETSu3g37AKWv78fjWoaERERPVkYnCIiIiJ6VF2tQOEeIGzlvH7oc6kOZVnnMf/AGRRMuoGKN1/DS/9jA+6nVuKLU1/g7LEChH26HElbA3xL3bM6zH8nCqj+EJ9cVdOIiIjoicLgFBEREdEjqQWGg1tQhyi8O1fn/76mLtZgS+R86EY04vY3UsLPsGjHx0j/G/XJeIOGQhprvNmIZiWlk7qPpiJyxCAMGpSL411N5AdRU+eLXKjDloPse4qIiOhJxOAUERER0aOo5TyOb2wExszH3/ZHX0tjsnD9o9kIu/nvOC61SErKRvq4jhBY8/XzOCxew0ZFIExJ6iTq7S/wcab6pj+N+VvMF3nQuPE4zjM6RURE9MRhcIqIiIjoEdRy9ji2iNew2TGIUpL8a0gIQp4FGk3HYRBvdXHjnYJQLbhytky8hiF9Ur8s3UdRiJktrd0WHD7Vj020iIiIKCAYnCIiIiJ65LTg/CkpNAXMH9+fwaFmXDkrt4+CLtKpw/W7x7F/s3gNS4du/BDgh2Y0B7jFUtT4+fJr2dkrvLWPiIjoCcPgFBEREdEjpw7n90mvWdBF+723KSd/xPly6XU+JjjdOth46hNUiNeod16HbkgDKt6MQ4VZ+QyWw1g+aypSV27B8sxUFB5X0/vZkFETME8a2Xde5A4RERE9SRicIiIior77oQ5lGbk4fEt934OWi1uQuvI4GtT35ObmVzA0ite4KLyi9k/eL64aUSO9ZurwqlMMrLFR2TOvx0ah+Ugx3h+2Wu7zSWpRlTtpLm5MKsLHG9/FpvKPkfXf5Un7X1gEXpXWofFzGPnUPiIioicKg1NERERPjTpskJ6sNuIlvCS9vrkfUvzDRWsjDJsXY+rESYh8ZRBeerMMdT+on3XlhwvYED8D5+PyMHuEmtaDIeOykP1sIWIX7n9EAlRiGwY55c36C2p6YDTWGeR+oBAVgeFySv9ovm0RZSACWTMmyE/mc4hKWod3p0Vg9+JJmHEiCnqp43SR3niqAmWNUdBNjVKfHjgEzw2TRwbAK3h1qvRahyvfdCq5RERE9BhjcIqIiOgx13JxA6aOGIHIzMM9BHqisOpWK1r3zUODx2v7RhzOiMbUwxqs+91mzPsBaKjOxYcnugsEtMCwPgllr36M0jed+ixS1X00FcuPefr+EIx/7yO8+00qUrc+Cjdpjceq1lbcLZ/eRd4MrMabcmgKuhc1ahCof4RMK8Gt1m9QMs2tedaI6dh07Bt8c/UszpanY+SzSrLlptQ/VaAMgeZFnTxmuMngFBER0ZOEwSkiIqLH3B8NZTA0NuLGzs9R5801u2YkZqujLi5WIGdfI2b/eh7Gh4zHvD0FyMosQfbkjme4uZNuz1u2+VUUvDPdpeWNQ0uzAQ1dtryKQtY/vgvL0jWouKkmBVjIf+56WweO2JfqjhwZ9pz8+qjQvCiVnAfKmwB4Lmyk/NpYd6Nzqz8iIiJ6bDE4RURE9JiLevsLHNy6CTv+rRTy0/Z7Mkh9ddPYcEW54B80VH4fEbcKJR9lYXyXt2014nBxPuoWpuP1F9UkF82410MEYUjcfLw75jjy9xj4BLZ2jWg4q4yF/ef+7HDKd2Fx6cgKu4FPDI7Wbg1ouK6ODoD24OHZBganiIiIniAMThERET3unh2J2W+/i/SJAxzIuFmDT6qBedNc+ytqd9eAw/KT4LoThb9NjULjHgPOMzqlakGLHHmZjYj/Iic8OoZNx6ZTlfjbU6mYuTQfyxcW43O5ZVwZcv/PVFT8UZ6q//wsQmn119iMeywvRERETwwGp4iIiB5jjZ/OxaBBIxA55iXxugGduvFuNKDs7Zl4aUQkpk6biqlv5qLs9G31QwelM/ARC5T+hA4vGCHm1UWH6U4aTcdxHDroojw112rGhfIPUSHG2ucnhg0XlU+dvTLqb8XMKnD+EX8CW+PpMuTOmoRJcVMxaUwkZq6sQN1d9UMnjae3YPHESESK6SLHTMLizYdxeHMqIkeIPI4T+6inDuZvNeCGOvooGvLKPGw6Vo+jmwuwaU8JDh5rRWtrK745V4n0V9SJ+kt7q78GNHrIeyIiIno8MThFRET0GAt78yBamz+G7g8eukL/YwVmRk/Fhh/m46SlHl+c+AJflP8aQ05tgWu31kpn4Lf2KT1Rzd53Sw42tH46T35Cm2ctuFEnzWUCfuF+S1/jceSOGYVJa5VQWfv8xLBqnJzkYsiLr2I2GmGofzSe29dZCy5snIroBecxYetZnD31Bc5ePYN3B1UgOioV+y3qZELLqeWIjluOe7/Wo15MV/9/Z+PeyrmYa5kP/c4sqYMw/Puf1Ym70nIfzfJIBMIG7El4j4lhYSJXJM24z5ZTRERETwwGp4iIiB53zz7nIYjUgIqli3G8cTaK1s9DhKPFSchIpP86S33TF81olIIyY0I6P00ubDpKrt7C2bXq+56EhGC4eDE0fq+879YNVCyYqrQC82no/S1nUqfvb79nwMi1BZinURMRAt176/Bu436krnS0MGvE4Z1bxL+z8fok9cmFmvF4fZZ4La/AhVEluHXrC2T9jfJRl5oaoTyrLwRD+/NRfY+jIUPVW0gNaGySR4iIiOgJwOAUERHRk+jqYZSdEK9jJmDkCCXJvyxoqBYvLw3vpnWVl0LU4Np1bzq5Hon0fV8orcB8Gnp7y1kLzh/Oh9T994SRasDJYchIvJokXqsrUCM/bVDNE0n77WdD1fHDaPh/5QQiIiIicsPgFBER0ROo8ZsrckDFL8Gjp9ofcX6fMjaki6ccSq14DHVSWO1nCJumpKBVfcV9dXw6wkLlhH7j6NfrcRuIiIiIGJwiIiJ6ErWyQx7/EPnYc3MutMgBqAi8npmFMBzG52fV/rMsF/D5ESBMpL/u3jeXnzn69XrcBiIiIiIGp4iIiJ5AYS+9qrSYar4vtd3pBz9DWJx4aZXbBnml8dhyTP1Ibs/ViRxK04Sp/Ql1Z6D7nNJg5AJlTAlAOXO0igrDqy8p7dNaWu5BsyAdz/1TovK0vv9rO57b+AVMW6d7sW1ERERETycGp4iIiJ5EYxPw7hjxeuoC6tweud9yz4umQD0aiuekeMyRBnjTjbnshwYYmj206LrVgBviJSzkuc6dq3cy0H1OhUGXJLWGAmrOuwXWWiy4ckS8jnsXCWOlhEacP7Yfw+N+ix3n6pWn9V09ix1LdQjj3WtEREREXWJwioiI6AmghHycAz9RyCorwHhUIGftYTSrqbAcxvJ1Zcp48z3cc2oNdN8x3upNW6gwRERFidcbuN1FrOuVaCWoc77uhlizFly5cB5Z0R4iRN834Lx4eX1U+6PwAsdxO6RTvoTMKEDlyvGo2/ohKv7oyONmXNi8BlvCdCjYkiVyWxKG4S+G4fDKXCzfvAVb1KHs0+MwXG3w0PKqC/8lArPlka7z9qnVeFsOZELkUMR/kUeIiIjoCcDgFBER0WPswnqpU+lJ2CC/24BJgwZh7qdKRGPIuFU4drUS82/lY9QrkzA1biqmrm/A7JxV8uc4lYvIIWL6snLMFd97aeFhOfnwwpeUzqrXX5Dfd+WVqASEwYAbf1YT3IRMK0D1xnRojkxF5JiZKBtWiYJpnW9ukzpvb8R0RL0SyBvfLmCDtM3/Q8lJrJ8k58GGi9KbEOjWH0P9RyNx4e04TBL5OGlMLAob5+ML0xdYNa6jvdf4pFWY3ngcW1Yux3J1yF0wE1PHvoRnR81F2VUPLcfcDRqitiBr8T6g9bRolcKcEpFHbI1GRET0xPhJa2trmzpORERE5L0WA/JfnIqad0wwLVXaDvmuGYczhmFu4w58cywdEWrqY+lmBWa+shhDPqrHx5kjO/qYam1Bw9ktyF2Qj+OTKnHr03lyi7KuSYGySchHFDZdNim3Z5Li8gaMGJePRhTgbOsqjFeTiYiI6PHGllNERETUO0N0eP2dKNTt/1d47ubcC3cNOL4nDFmZrz/egSmh0XQcxzEbr09zCkxJBg1BxORVWJ0hxqsbYFFSu/EzRMySXuvQ/IOcQA4tLcrDE2dFiFwiIiKiJwWDU0RERNRrUZlFePf75Sg70t6rlU/q9hSiYloB8mY8/s+yC4tLR9aLh5G/vgI3XLKjBY0n8rF0fRjm7ZvnRWuf4Qh7URm78R07nXLW+J3S4xReDBO5RERERE8KBqeIiIio957VoeDAKvz72xtg8LWVz9UteHvrSFR+9JjfzucwbDpKrt/Cjkl/RHHSJLlvqqnTpmLSxJnIORaG1X+8jso3vdnSIdCMUrpEP3yz53ZWTxPLTaVfNN2LGi+e7EhERESPC/Y5RURERH3W8GkqXjuRgJN75nkXaPrhAjbELwW2nHLpUJxU5/KVztlnVeKbai/z9InXiP1vjkBqNbDq31pRMFFNJiIiosceW04RERFRn0W8WYn6rdMx3Nunyw16BVm1ZxmY6srfTECW9HrkCixePODvqdByA1eqpZEsTPgbOYWIiIieEAxOERERkV8MCQnx/vH+Q0IQ8qw6Tp2FvIIJcqfo/4orZjnFay0Xt2DmxJfw0ohILK5uAJpvYP/KmZgaNxWTXhmByAVbcOGuOvHjxHxF5IYwawJeefy7KCMiIiInDE4RERERPXIiMH6aTrzW4fj/06AkeaUOZVnnMf/AGRRMuoGKN1/DS/9jA+6nVuKLU1/g7LEChH26HElbDfDcIKsFzc3+barV0tzcxbJ803jjvPxUSN208bzNkYiI6AnD4BQRERHRIyhi8jxI4SnDqQvw+pl9F2uwJXI+dCMacfsbKeFnWLTjY6T/jdrUaNBQSGONNxvR+fmKDTicMRf5Z2+r7500HsfyiS9h0KBBiN4qhYh8YC7DzLgyObDUe40wHJE6Q9dh3mSGpoiIiJ40DE4RERERPYpe1GHeNPFabcB5b2/DG5OF6x/NRtjNf8fxq+J9UjbSnfr1ar5+HlKIJ2xUBMKUpHYNO3Px4bB3UTDDQ/AnbDo2HSiA8gzBrjUeW47UPTfUd4oh41ahaMYnmLGyq9ZaXrh7Hgapv6lp86B7UUkiIiKiJweDU0RERESPpAi8npEuXivwySkv206pfXk1mo7DIN7q4sY7BaFacOVsmXgNQ/qkKCXJ4e5hvJ8JpC/UyS2reut+4xXcaH6gvusQteA3SNi8DGVSwKwXms8eF7kg1i/jdd7SR0RE9ARicIqIiIjoERUybR5WhQGH99XA+56nmnHlrNw+CrpIp1DO3ePYv1m8hqVDN34I8EMzHN1LNRyrQMW02dC9orzvnToc3i2FxDwYpsPszDosP3pBTfBFAz7fWSHWexXmTWNP6ERERE8iBqeIiIiIHlVDdFi0djpwogz7L3p7U9wfcb5cep2PCWPkBFnjqU/k1kdR77wO3ZAGVLwZhwr5SYCNuHDiOKIm/ze3VknNqPtoMabOWoz8tblIXVrRdYDs5nEsnzUDyy8CdeVvY+q0qZi70/n2vhC8Mn42cNjoe99TVw+j7AQwfe0isd5qGhERET1RGJwiIiIieoRFLFiNgjF1yC8+7F3H6FeNqJFeM3V41SmY09iohJZej41C85FivD9sNebLwSsLGqrFcka49kJVt3UGoncPQdbWHShYW4LKtbPxnPpZJy9Ox6Yj1SiQxuNW4+CJL3AwY6T8kcPwsAixbhbc7twTezcasf/95agbU4DVC3hDHxER0ZOKwSkiIiKiR9mQ8Xj3g3cRVr0MW0713Hqq+bYFjYhA1owJLv1HRSWtw7vTIrB78STMOBEFvdRxuvTBrQZcES/Dn3VulnQBNZsvAK/qoNOoSc8+16f+qIYES9824saflffeaDm1Bcuqw5D1j1mQ7kQkIiKiJxODU0RERESPuCFxBahcCmz5hy248IOa2IWQaSW41foNStz7ZxoxHZuOfYNvrp7F2fJ0jHxWTfdEClhJzbSGBDAi9MMFeXuR+TEKZrCvKSIioicZg1NEREREj7wh0L0n3TaXj6VbL8Db3qe8Miys8xPwRkTgValZVUsvl3RrP+aO3eKhf6nhCPlP6mi3WnBh61KxtQWo3ji9Ty22iIiI6NHH4BQRERHR4+DZ8VhVVYmI8iTke3F7n9eGPIewMcC/W26rCZLxSFg6HthjwHm1j6iWP99w7RC9pQ4Vb8/F4j2Ojs+HYIjUh5UU0GoVr8ND8FdyuqLxOzFdWASGD1MTutFycQuWlkegsmoVxnfXwouIiIieCAxOERERET0uNPPw8aEsGBf+ChV/9FeA6hW8OhW4cNPi0iIr6p1jOLvxHpYnLUb+e7n41W6pZyqgbnMqpq41oKXlNuqOHEZFxj/huHyrYRTmF76L6Wc/ROpKA15dmuDSIqvxpgFhcTq82lMzKMt+/GpODRIOfYx5jv6uiIiI6In2k9bW1jZ1nIiIiIgeAy1Xt2Bu8h+RfnoHZrs+ZK9XWk7n48W4FlT+sAk6n7qZasD+N4sRUl6C6d0GneqwZewMXPmtCZVJ3axw43Esjt8CzY6jWDWOPaATERE9LRicIiIiInrqNaBixkuoy7yLEl86H79Zgbnrn0PpHvXJf11oubgBk94FPqrlbXpERETUGW/rIyIiInrqRSD9o0rcW7oBBq/vFmzE4c3HMSFvereBKanVVNnq85hf9i4DU0REROQRW04RERERkazlahlyj45EyXs6+Oumuhs7l+Ow5tdYFdfpmYBEREREMganiIiIiIiIiIgoYHhbHxERERERERERBQyDU0REREREREREFDAMThERERERERERUcAwOEVERERERERERAHD4BQREREREREREQUMg1NERERERERERBQwDE4REREREREREVHAMDhFREREREREREQBw+AUEREREREREREFDINTREREREREREQUMAxOERERERERERFRwDA4RUREREREREREAcPgFBERERERERERBQyDU0REREREREREFDAMThERERERERERUcAwOEVERERERERERAHD4BQREREREREREQUMg1NERERERERERBQwDE4REREREREREVHAMDhFREREREREREQBw+AUEREREREREREFDINTREREREREREQUMAxOERERERERERFRwDA4RUREREREREREAcPgFBERERERERERBQyDU0REREREREREFDB+DE7Vo2TcOIwrrVffB8qjsh5Pkybo80Se5+nFWH+yovotsZxxySi/blfTnmAPbTAfq4Lhjvq+N/o8D3/s24E/JpuO5Ylykgd9X/LuKdR0qRzV19U39FirL5XqyhJx9PUv66EMsZxxSN5Rj6egVu7CwNdxA7V/nzSs4x4DNjP0+wyu5xxXS+R6Ju9Y/55lPg58OvbvmFB+qPsp7ZeKECvyNnZpbT+fw3embMujc65mM5Yge2E2dj8N1xhEjyi2nKLHx41aVImTysjffIDMUUFq4pOr6Xg+0taZYFPf94Y/5kFPCXHyn5CzG9aH6nuinjw0o7ZSXPiMWoYP3orEk18r02ONddxjoAn6/DQUXuZZS9/Vo2RmNnZb1bce2WA4Ug370CR8sC4eoWrq08mC2h1VMN0w4e5/qElENOAYnKLHhB2mmgrcjV2NgjkaNY2IiALFflmPiuYYrF6fBM0zaiIRkb+NycXFixdRPOPpDp/43a1aHPxSg5RtSxAzVE0bQJE5F8V+LUbi82pCIDWZce6GNBKD0Vr+qYUoUBicosdEEKJ/cwZnNicinBdBREQBF/TLZThzWlxYDFcTiIjo8TEiCTsvHkDuGAZj7OZrMEojIydCyxgoUcD0LjjVZELV2gwkTB6HcZMTkLfLhKZumkk3Xa9GUU4y4qQ+GcbFImFxPqouud/ZrPZtI/XZcMeE3Ssc08checVumDzdj+zrelyqQv7iBPneamW+Jaj91vv7iq1fFiFjZiziZmag6JhF7l9DnmdOGtKSxXzjk5G9SQ/LfWX6/uL1doh8bM8f6X7ymWlYWVrr0/rZvq5FSfu+UPfd5T70PiTdX56nh1XqU2CTY92k+RZB/7VbM+47euSJ5XrqY6Bzn0Id5cf+rdM6i3KR4dgntnpUt+dHHDLWVsPsIS+83WbHtlhuVCFPlAt5nluNHffsN4nlbcpGcrw0Hyn/M5C/r/syqlC2JWGd9DNpROFM6fuu/Qv0fEz1MI+HTTDty0d2qqMc9a58dOLjMdn38mWH5WQJVibHydsQ95YoR90d077sEzWPpGO+y2nVfjBKrqrvnXTqF0ItzyVXXddZmq+jPrGJ/dp+bMeL5R0ye+zHx7t8875Oldd1cZU8XrVYmsatDwgf8s113cQ+Sc72qtwrx/Q4FBk9bLHNgHzx2exdZjWhC/fNqFoqlj1Z3UYpS0RdU1u6EmmpaWL9RV6lrsTuPtRhAaduj+/1ShfkMiz2922pfzrlN66jXJphc5mvWqY89UHnob5ur++d6wVH+ZMme2iFsX1bxL5ZWgLjbeW7LrzdZse2fCuVA+U4intLzNOxSvfF8naJsqBu4zjxmy3VeWZf7iAa4PMO13pIyiM177rCOk5M3491nNSPo9O2ycvK8fF3y+14kM5F6m3Wjm1x8CXvVX3/TXWfRzdl1ss8a68Hejrvk8tPAgrl05ZCJEjLd+SHmhedzge9rBu8Xgcn3h273pfBHvmzbpfzKwNyid+n9Avokndux76jLux0/tddner47LbrvOKSO35jrWec64E8lJxxvcdQKcfOx2Iv8rMv9fpDO2zNNnkwXdIrab8IRbCc5kM9TUR+43tw6k4t8uZko+Q0MG1pMbZvWoLRdSsx68MTHvu1sYoLjlnigrEW0chctx3bNy/DtMFGlOTMQsa/eDgp+VMF8t5YCdOIFBSUbkdBTgwGXyxH9hv5MDSr00h8Wg876nekYVaOqFAHT8OyzWI91i2C1noQ+fNT5ROpHt0SJ1SrmjC38gByXxA/yOvykLU4GclHBiNl3V7sPVCDmt9EwHSoEKmbDf3Ux48P2yHlzxvZKP82HCmrxHSlxVj2WrD8A5L8djUsXvzYWY+vxOzUfBy0arHIed9lzRI/ct3exN69ewYUZWSg2qbDkk3bUbxmLiL+XI3C1Azs/lqdprdE+VkhyptZLj9im+OHwSztkw9KxDKzcCIkEe9tKsbqeRqYj4sLsQ2u+8rnbW6owop3ajFs4QfyvtD9MlK5Z/+2OMmaI07IvwSiFxeo+T9YXIhlY9avd3sMinUIRvRbouzP04pxrShf0v5LhONmRu+OqW7m8VCcZCychexSM4JjM/GBOM62b16NlCjgnCgfqW554jVf64Y+ly/peEhF8poqNGgWKfVFgh3Vb2Wh4isPx7Qv++R+PUrmJ4g8MmLwa8tQLE07BTCIaZN7mz+qhsoVSP3QjPBUsQ7SNoeYRX2SivVbRXl8+wSGJb6HYml//LU4URUn0eu/dF2az/nmRZ2qSRDzeUcnj+vekcpKOqJD5Lc+5Zv9ejkyxLrpf5yIXKl+Ki3Aopdtcr7N+tDYub53EjppGqQ1qD5r6jSd7XytKO/hSIyRynNX7DCViXplZAFOfZgIy2mxjcszkJFUCHNULnbu2YsDNTsx12ZAeVYWqr5Vv/Y4uV2LlUlp4oLeCq1Ufpz3xQpx4dWbixhZEwwfirw6YIMuRxy7ovzN1VhEuUxDxr4eAoI9ker7rDzUPlTq+4LFWjTJ+6ZIvgDedisS6aIcF+RMRPCZKuS9I8qU83b4vM0WVK3KRm1ouqjbRPnTRSNSqpSlY3rhbORVWqGZKR3TYpmpWlgP5SMtoxAGT0ExdwN93iH2S+0Kqa42AFOUemjJSBNWzinCCefzIQfWcf1cx4l9uisDaWv0sE3KlcuQvE+bDfK6eQysu5OXJZUhOybKx1ouRjeJejOjCIZ76jS95I9zNun8IsF5HmL7IixVyH8rA1XO52e+lDWJN+d9IdFIF8dsykgxPlLZl9sTuunGwde6wetzz14cu95eu3TF33X7XyeKeeTKv6mYkivGtyN9bLD8kXTsl8vngI5jv6MuTF5Ygnr3fddVnSqTfjuykFcrjiupPK/LlI+H8qwVKNqah+SPrIh8a6NIz8XEnxpRtTTPu/N8b/Ozj/V60/EViIuPk4e8/ep+PbQSCVLarG0weVNNE5F/tba2tnk//Nh24YMJbWPH5rR9/p1b+uaZIn1s29jiKx3plk/bFoq0Ce983vaXB07TP7jX9vsN0nzmtH38lSP9+7bPc8T3x05oyznyl45pxXCvZqk871W199Q0H9fjq4/b5oi0mZsvtP3YPq0YHvxFWeak99su/OiU7mH4wz+L+W74vfi++M5iaT09bNflLcqyx25pu+L0Xb8NPmzHX6r/XqzH37vlT2vbzU8Wtk2ek9P26U3X9E7D3S/aVk0S88xx28b2PF7Y9qnFkabuOzHt9+3TeR6uFCt5N0fsH5dtqP+4baa0bbv+0JFm/bwtR6TlHPm+I00dvj+SI+Yj9r/VkdZRflbVOE9/s+3TBcoyF35y0yn9R1EGpfRVbV/cU9N82uaObVla4yiXjuEvbZ/+nfhsknv5FGXZ8H7bBGn7nbezi6HzNorBp2PK8zx+vPxR2/zpEzyst8iTf5C2Kaftd9870rzdtz4ekz7mtcdBzYtOx8N3Srlx3W7f9ol8vI+d2bbl4o8u00rHj5T+cb2aph7zWy53TOMYlPLhVBeo5XnspFVO+SuGm5+2zZfXV2yz83H54+/b3pfSf/tF2z1HWm+OS6/qVDF43Bbf8u3CZml5W9ouuK3b7zdMbntt3pa23zuONY/DvbbfLZe+/37b713qYzV9xsdtf3CZ3m24+7u2pWPnK3l40VEXzxHb47wPHXniuV55tId7bV/81tMxJo5psb1S/bnwQMd+7lT+uhocv1tzxLQ2p/QHf2j7eIZ7vndTH3ior9vr+392ru8cda+ox+TfVEe6dHzNF+ni+Gqvw3zb5vZtWf67jmNGHhz1k3t5EIP5X5Q61fk48zj4WMf54bzjR6NyjOVUux6/jm133b+s4zqm7ac67sGFti3S+op96jxdq01sx5TX2uZv/r2XZcgtH9p/v8W8ncuQL3nvj99UuQ71MA9p+6R5tx9XvpW19nrAm/O+ruoYNS866pfe1IderoNPx66PZdDj0E91e+sVpbw6lykx/GHXHPH9zse+49xpwgdO291lner02RzxG+FUXn78/ftKusin3zv/pqj1gHNeK9sittvDubz314J9qdfV4fvfeThv5MCBQyAG31pO2U0wfGYH5szFNJc+JoIQPSsF7n/TNn9ZhXqRuuRtt36CnglGzBtLxCcWVJx2b5SciLmvhavjiuDIGESLV9t9NYTt43rU11aIJcVg0fxo16cJPROOaXOTgPvVMHQbHrfAdPIukiaL79stMF+W0iI7bZft7l1lZE50p3Vw1vRlYUfz060mNbVnvm+HFWazaxNozRs7cepAMZJ66FO86awetfeDkLLQvY8nRx7XQ2+0qGm+0mLuTLcnO70cKf+Fx/of3e0HbyRi2mTnm8U10I6VXqORGOu80UHQvCyXKlGulJTebXM0YiLVv0Y5fK08VVCbtaRTXyzBsXOxZKQoUbsNnZrje6N3x5SroDGZ2Hv0DDa+5rbeYju1r8bIYw98/Sudj8ekP8qXxaiX8yJlltvxMHwa5s5Rxx182if1MFRagZhFSBnr2g+DZnIiYkKCcO2r3pZ9IWEadC5FVCvXbxgr5u1SRNWy+4OtvSVR7/LNizq1K70qyw0wf+vcEiIIMctPoaYyFzHuRc6FKMNT4sVrNc4512PNRhi+FDVuanyncuTMVifK4CglDy3fKvVq0JwlyHTpS+MumhqkVy0mjnLeCY+BOwboT9oRtCC9074IEmVHam1Qf9QoaoDe0c5JRKRzh7jPaBE5Wbze7ih/vSPq+ynOe07UM79Q6pm5U2Jcjl3Nz6VSaW2vk3u7zdG/jBSlyYntHPRy/eReHoSfz0W6qC/sJ/Udt/95MuDnHXaYTleLf5MwN8H1+HVsuwvWceq4ol/ruD+bXW8ZGhqDZbU12PtOjGu5c+coQ6+lIN45H6Tf7/lLxFll7/njN7Xp/AkYxPSd5iG2b9qcYIR+Z0a9tN29+l3w83lfr+oG79ahd8duH8pgP9ftLh7Wo3a3mJOHY99x7mT/zNCpxVCnOtWJdo4OWqfyEvSiVuSeMEvn2sn6Cxo5P7zb317kpz/qdZVzf1OjH4XO2YmeYr4Fpyxm+eCNflnjWmFLHCcf7ZpgqZeaEUdD84KS4kKd3n6jQUzpZPgwhLrPXFR6UpKlSQ3++LgeDX+SKrLBsFlMMF1yHa7dtsu3YdXf6q7JswYpB85g2S/F0r6+Bvmu5JHTEO18ciFYvjLIrzG/0HZeLyehU1Zj765lSuXtNd+2IzxGnAQOtaJ6RYJy//WmatRetbj1H9I1a4OUwxHA952XZbLclX+kzBZrLy9aNAh1vy58ZrDyeudun24nkPIn2GPmaxHu9oMzeJDrhL3bZg2GuW1L07fXxOWVKJ8/dysgMvVk/L4ZDb70RSDr5THVFele+1tmsX1G6PeVo2hFGlI3yz/PvvPpmPRH+bKhoV663chTXnRc/Dr4tE/uNCi3JPzXiM6PVX4+EcW1B1DclydGDg32XD+8HA7XUzFxTKiHhUOv8s2bOrULvpbl0XGLRKoRJalxSn8ZO8SJ4Q2xPl7WO8Gx08SluOutfbZLBnHBFIlp41xzx13w5NW4uCtJ5GETzJeUW9ESJ7ldXNwxi7pSvA6NhtbTMeRwS4/8FXr/XAx4YL+6W+6ryNv6WHbbIh9jEQ+tnff9pQbclXa+OPatvauUoelUKYviJ19w3MXdPlXKoQj6qTrqQhy77rt0kPrq0Mtt1jw/TB1T/dksylAX9VN7fWGE+ZaS4tGAn3eIekha4FgtNJ0XqBx7TljHqeMO/VHHPTMaurfEdMYSpMUp/TmVHxPlRuxPr6hlSBsZIW+HixFajFZHe8Mf52zWm3IJh8YtQCKJzOn4A0PvznH8fN7Xq7rBm3Xo5bHbhzLY33W7i6YGNEjH/lBxDtVpWWK/PpS3Dla3zetUpzoJ/Wmn0iyLdq/gHXntDW/y0x/1usp8WelvKkiqb+UxIgoU34JT923yD1LQIO8qGEfrC+UE10sRoeiqCmyPtvu0HlZYpFpfVGElOdnIdh82KR27mr/37qfR8pXab0qUxrUCe1gPwyHpk0hMjOp0uucHPm7H8/EoPrQTqxfoxHpaxLoVIX9xMuJi4pDdQweuyo+z9GpG1RoPy5I6JZQ+vt3bQNIwDPP8W+byF9ReidG4nfx26L4c9nabPQTDHHnrfqHlB706pjqxw3KsEGlTYhE3J01sXx4KKw2wDI3B3ITu2qZ0w6dj0h/lyw7bD8qYV3nRj/vEVzERXZTQHk/ceplv3tSpXfEx34JGZaLyUDFyp0ci2FaP2l2FyFs4G7FT0lCodojcraBo6N4QB9Shc+pfbptgOC5OP2MSoRshT9EzuxnXzkgj0dBGuB6cTZcM8kVA0MwYl7/0upD6UnnLhIm/6ejnzUWTAYXtDxIoganbutSzoDEpSP+xCGmlnfvX6krTd3KTL5j353fe9zkrsfuS9KkVd73p38SDYV1Wyh2tS3snAhEe/xIt9k0Px25vt3nwf3KrlB/a5Xz29tzFowE/7xB1nBRIFYvzaq1Zx3nk3zouCJGLK3F4cy7ixwTDdrUWu9flIW1WLGJTC7t/GIdELUOeL+bDofHtL5ZO+vuczU2vypp/z/t6Vzd4sw69PHb7UAb7u253oQbC8GWJh2Vlo+iIvHWw/k9pog6d6lQnES94vubpU33rTX76o16XSXfEKPNMHNvLc2Ai8hvfglNDg+ULf3vrA+V9DxwXjT7fItQTn9YjFBrprzjDM7H34kVc7GrI8aZBtaO1BhAf6VaBXTfgoHQCP2oaYry9iPJJL7YjNBKJORtxoPYizhzai+I1KYh5/gFMO7Kx4oh0itSVUIT/tfQaj42nPCzDMRQndv6r6wCx/Sj9gPqTH7fZccHVqr76kT+OKduX65G6To+G6EzsPHQKZ4xiu2oPYPvaTOh6+ycjH4/Jvud1EIKfVca8yot+3CeeiQvLPl3QexKA47IX+RY0IgYpa3ei5sszqDmwEwU58YgcbIZ+XSq2Xer+JF3ar6NjE8W/6q19d87BIM6kddN13m+T2joBw6OhdWkB0IRzX0qfBCExdrT415Mm1H5YhMHvLEF8V037Q3VYXVmJZV5eSEpPIyqRbwV3Ji5yswqQeDof5epJcU9Ch0fIr/EbTnne7/JQjMRA3ZLwo12+aPMnv23zM0Hy/vb23MWjAT/vEHWcVH7F4rxaa9ZxveNzvgUhPDYFBTtqcOZMDQ7sKJCD8YO/1qPwrR46UP6rcEhnjk0/egoROW459oZ73g9wvg14Weus/+pDf14zeGdA6/bnlVvrwrP2elhGx5A7Rpn8keaPel1y5xrO3ZBG4hEd2XUQjogGhm/BKY1yH7HpsrnzX1/uNMD1d1VU8JHSqZwB9Z6eiiQuIKS/5ASN9NCsvCc+rccwDJMuuG9fg9mlibHCbiyC9Aj9otNenFY/NKP+pDSixeifO//5xQ7TqYNyBD8yIUacwIr3H8Zi9r90POXI/q30aN40pC0tQsm6PKwsNfh4y4gv29EEw/tpSEjeDccaBI0QeTYjF8Xq7YT11u63d1i4dAol9p381zg3lmqkxScjY3/H9vWnzidydlhF+fE3f21z6M9HyxcxhuueplX7LBuq7aI1QXf8cUzZYDpdK3IwGst+swiRI4IR5DjR7Eu++nRM+iOvgxEhB4g954W1Qf47cTuf9kloBCKkfhL+5OH2yIcmlExOQNpWo8t2Pvhf7lckVli/Ukf9aKCPS9/Kcj2qFiYjbo36pC9x4hiqiUT8ggLs3JQiTiJF+brTqXR0IvWxkS4uyqVb+6x1RhjFCWP8hK7+3N2Z9SvxPWkkRqyXnKK6ZYBeik0NTYQuSpyA3qpGxrh8GJxWyX61CuWmRCS69FvXN10GT5/RIj41HFWlXt4+GKpc2Bo89gVkQfXCOCQvrmqv8/vVPXFxrI462K0N/l+2v7b5r7VyvzIe6ydRLs1fSQUjBtru/rA04OcdEdBKC7xs8vBIdEdLmQ6s43rHp3y7XoW05DjkO54uGCR+k8fEy8H44gWiTrkv8qS71i3hGrlfN3OdhzLULJbVxZPFvMl7f+RbeIRcwmHxsB7WI9mIS85DtTgU++8cxwf9Vh/68ZrBWwNZt4cOk1sEW0UZ7LwFdhg3xSIhtQgGP25ev/FHvS7Yb6p/0BobDa16qmG/vhvZq2qVcwkiGlC+BaeCojFtgfhJOlmO3S6PUrWj/kCVcnA70U5JQaQ4tCt2uD0G9aENxs+2iYo2HOmxvfjrg0/rEYTo+BSxJCN2f+LWx4f0SP1t1bDfCcdob27F+7Ze/PQLQ0VlJ9XuDo5O+UQlmBgr1qvZgOrPtEhxdAJ7W48Vb+Wj4ZcbsXfzMuSuKUbBLJfLJi/4sh2h0L4chCaLHrXuf5W32eQfpPD/vfu/DmgmJ4mtsaNqT7XbvmtC7S6x75rtmBilbl9/CRkmnwB1OpG7fQIHa9RxP/LbNr8sTlZHiR//3eXQu53k2c4cxLYbIv9TdV52fir2n9O69O6Ycp7HYAyWf3xtsP0oJ7Sz36hCxSFprAl2t8965GPd4I+8VubhIS/E8VYh32LrxJd98kykHDSAsQpVbo+Mtl+UWkg2IfwXaueg6l/CjTdcL03tV/U4KP8lzr8G5Lh0/mu4T2VZC22kFbaT+k6Pb7b/h3LLRPBQL/4q+YwWMTNF/tecQ5XIb8yZholex6Zs4sJICUzGRLr2/ac8TEAUVTG/aPGBuVac7L+R6DRvO66dOoi77p249oX0B43T6rgH4bGJiLlxEOc8BZvdaXRIEteO9n0VqHbrQ6PpZIXYFyKPx3X/MI6+C8YwqTXPDZMoa0qK7KEVJz5X+uzwK39tc/BEJEq3i3aqn4RvDyr13pRpiOnuNGDAzzsc86hF+Z56+fhxkIKoVe6VKus47/W2jntZi8jvbag9ZnBdN7G+NrFe0vER3F3dIcpQ4iJx8vhlRecyVFmhnF868yHv/ZFvoZOmiYt9Ow5Wup9fWGA8Ksrxg9GIlPrq8+l3oZd6ajHYb/WhH68ZvNXfdftDp5x01GPG3ai65BbSEeeA28S5U9MLoxHtx83rN/6o1wXzdeW3K3ycVr7mkH/PdlUgKDZaeU9EA8q34JSotCMzCpCisaBqSQby99XCdKkWVWsykHXI6nIhIBuRhII1osY9U4i0d4pQfdIE0xk9St6ZjTxRaWjfEvMaqU7rE9/WQ3o6WcECDaz7szH7nRLoz4j1OFmF/IUZKLcEIWZNLuJD1Im74egEEgmju/iRiEBEqA0mcZLRsGAJEuVovR2mT4pgvK/DtCkd1VzQC259VnnBl+0IT1gi8seKqt848scE47ESZGeVwDw0Hrn/Vw8/c88nYpnYd0HGIiQvzEdV+75LRv5JOzQLervvfOD4Ef0yHxkrqlArtqH2UBGyFxYB0aJc+ZvftjkcSetXixNFIwoXZqPokJT/RuhLxX5bWi1O7BahYH7PpxnB/4dUXkyo+kQvvm9RAnQ+HlOd5+E48TKjZNVKZRvFsVO9KRsJC6swbIqUr537G+iZj3WDP/JanYeSF8rxIJfxhYVii92X6Ns+0c533xZl2oQ8MW3sauROUSMa6kmldUcGMrbqYZSm2yHK65JzCI/t9alk1/rzuFQvhA7u3y22o17tfNWXfBNla/4yxAxVpi05ZhTTimN2n8iPNeLkT5OJlMneRZm0sYkIv1+N6mNBylNS1fSeWWCW+5vSYuJIz2ek0VJ/OLf0KP9Mg2UuT2Myw3RUXMD9wsN+u29BbelKpKXmoWhrIfJWbYPBvTmgu4c2mA+Vo0JcvB1cm4a0hWL4F9fnV+F5LUYPt8B0w5s/U4cicbnYFyJ/ixakuZTL5DW1sGtSvKpX+sZRfxiQ//dq/XGyGkXvpKEI0aKc+Ju/tlmsd1ZZxzEtddSvls20t0pQH6KTbz/tvnQO/HmHYx6WfVniGFJ/A6XjaclBWDsFQVjH9aivdZw4J0lZKq1bx2+OowysOCayKisFuh6qOO0b72HRy+LczJvfSV/y3h/5FiLODd1+U5Uym4qi6xqk/GOK2leff85xPFMD4JerUHVMLN/lya/O+q8+9Nc1g/f6a1uCES7t8yNV2C22oV7uuN9Rj4kymDMb2aVOdeGvy+W+R1f3WBc+KvxRr4tc+qlybRb+V2LKh00wbs1DydD3sOw113MI6RZ96SnrJVfVBCLqFz4Gp4ShkcjdcwAFc0Jh2il13rceVd9HYtmuDzBXncRZ+IxiHCnLFT9iJpRLHTUuLcE58S639Aj2LnZ7pKsvfFoPURnnHEBNqViPBydQtFSsx5pymIbqkFt2BMUzlIqpJ7bmJgQN1SIzwe1iKViHzA1JiAw5iLxZGaj66TKUZTm2TbngkX7MQ/tc2/uwHVL+7NyL1QnBMFcqnSzmlZ5D8IwC7D1aAJ0XP6zSvqupLMDccDN2y/uuEPo74uRs3QFU5vRh33lNbG/WTmyXflzqSpAvddb4WROiN4htTfW15Zl3/LbNwxNRfGg7cicAJnEyKXU6XnIWiMnZjiN7Ml0f2d6FoHEp2DgnEk2fFYrvb2t/HK4vx5SneQSNycXOskzoxPdLpO8v34YTP8Zg49FT2Lh4onzyfu1mLxoz96Ju6Gtet+fFj3oUiuNBLuNvbEfZO+7PBxR82SfStnxSg+2p4bAcWC9PW3TygTLtB86P2RYnlRvENi+IhvVIIfJyVqDcFIykXZV4z4+3hjnrt+NSkyhOSmMQbCoX25EF/ddqui/5Jk372XZkRtlwYnOemDYb6w9YocnYjppPFnXdCbm7l3XKhdTQuZjm/rjr7kgtQweLKnmKuEh0i/5r39iI3FhRNkuTkfwPZujKPnB9bLf8BLMghP/MraJ+aIV+TSry/xSNjXuKseyd1Shek+h6y6AH1jNVMHyltBgb/dZG7N2zF3v/zr0twTCEvwgYb/YU6VJJ+Xt0rzjGwtV6PQ+Fx+4iWlx4HtiT61W90ldK/SEuzp5V648PD6IpaqM4LtJ7zJNe8dc2t9dP4pg+WiTKuFQ2LQifI34Tqzci3rksdGXAzzukeVTiwLq5CK0rl38DpeMpcmklPpijTuKMdVz3/FDHyb85pZmIblb3qVwGNMgsrcGBv/MigCDyPXPPETnflfJcBL1dJ5Zf7KEM+Zb3/vpNralcjXhxVlEil9ndMIfPRcEnlch1fly/L2XNJ0GISd2IpFFNqF4nlv9PRg+3n6n6rT70zzWDT/plWzRIXCG2IVicK4ptyDqq3hjoOPbFsfDgpFIX5u80IWhyLraLcujyu/io80O9rplXLL4fjbu7MpC8cAVO/GyZqHPjnepAIhpIP2ltbW1Tx6lf1KN8cgZ230/BdmMuoh2V3R098mYWwjhvOy56upAmInpqiYurWWnQz9yLw2/19i/wPrpejti36rHsyHaXk3P7pSJMyanGxHWnsPE1R+CqCfq8BBQa3ep1d1dLMG5xFaJ/exjbZ3m+oJH+Gpvxp9Wo8Wcnz0T0mKlHybgMVC3Y6dfOtomIiB4nvrecIh9poI2VXq1o6qp1MhERtbNfroX+diRS4gcoMCV5qDyW2p25Ti+nh/e96WvXeupfhYiIiIjoCcfgVL8Lhi41ExoYoP+y41Yp6yUD5G57XTrVJCJ6Wllh3FWO8q35yPhNFe6+loL4Hp6yQ0RERERETwYGpwbCy4uwc9cyhNbmIWNNCYrWrsTum8FK/xyf5SEhVXmKFBHR02swHliqsXu/AXejc7FzlW5gO2V9XoNo3O30FEvNz6WHVQNWL5q+Nt0wod7S1XTSbTslMLk/5eu+eBk+DMOUBCIiIiKipxKDUwMkeFQSCnYcwM51uVi2diNWv1OAvRcv4uLFM6ipTOnbI3eJiB57odCtO6XUiZtToO11Z7a99GywWAMLrG697wZPTkGmBjAcqe14vPrtczBckUacbsa7VY0VC7ORkVyIWsc81KeD3b1vB+w2PBge7BZwu4u7FiA8PLT3nTwT0RMgErnSOSH7myIioqfYM/n5+WvVcSIioqfT4MFounAAp56birmRTo8z/d+G4dVp4/HctSpsqTLh9k0DDl+046dt9fj27lc4dfQMBo+ejdERIRj2058CPx7G/Zd+hXFS/+chL+IXQ83Qf3wYpm/vQ7tkEXRhg5X5Suz10Bca8MKCJZj4Ah8NRERERERPLz6tj4iISLAeysDsLxNxuCwRvXtYuA2GNSvR9PfbkeRNf1lXSxC75AE+OL4MMQPdUoyIiIiI6BHC2/qIiIiE8CkpiP+qGoZv1QRf3TZAb9Uherj6vlt2GGsPIjw1kYEpIiIiInrqMThFREQkCdEhc2koynfVoufuz91ZUP0PBuj+MQkab+7Q+7oK2y7PxbI3pF6piIiIiIiebrytj4iIqJ0d9aWpqHihGMWzendzX4/u16NkcQU07xcj0Zvb/4iIiIiInnAMThEREbmxN9uA4GAE9Uc/5XYbbA+DEczb+YiIiIiIZAxOERERERERERFRwLDPKSIiIiIiIiIiChgGp4iIiIiIiIiIKGAYnCIiIiIiIiIiooBhcIqIiIiIiIiIiAKGwSkiIiIiIiIiIgoYBqeIiIiIiIiIiChgGJwiIiIiIiIiIqKAYXCKiIiIiIiIiIgChsEpIiIiIiIiIiIKGAaniIiIiIiIiIgoYBicIiIiIiIiIiKigGFwioiIiIiIiIiIAobBKSIiIiIiIiIiChgGp4iIiIiIiIiIKGAYnCIiIiIiIiIiooBhcIqIiIiIiIiIiAKGwSkiIiIiIiIiIgoYBqeIiIiIiIiIiChgGJwiIiIiIiIiIqKAYXCKiIiIiIiIiIgChsEpIiIiIiIiIiIKGAaniIiIiIiIiIgoYBicIiIiIiIiIiKigGFwioiIiIiIiIiIAobBKSIiIiIiIiIiChifg1NNx/Iwbtw4L4YS1Kvf6S3b9SqUnGxS3/lTE/R5Xaxncy1WqtuQ/KERTQ/VdF89tKL2/SrXed/RI8+RP6V9zR0/8bSeEpFuLM1DwmR1feOTsfK4Vf3QM+eyUXJVTexWPUoc+ZGnF3vFSS+WT0RERERERESPn0ez5dTDJph2ZCDhrRI02NW0AWL98iAM4jUodjWK34lB6DNKui/s3+pROH828o/0R2DNf7pbz/qyZOTtM6LpvprQbEFQULD6pv8FevlERERERERENDAezeDU9Spk76rHAMelALsJVVKLJk0KytYlIrwXgSmpVdaJjwqht6hvnT2fiOKLF3FRGnIi1cRA6WY9xWcNf3Lkvljn08o6F0zuPjgUOqNY2TYx5I5RE3uld8snIiIiIiIiosdPn4JTKTvUQIvHIReBDr/4LCgay6RAyAGx7kPVtKeSFdYr6mhMJLSOvOhVsK43Ar18IiIiIiIiIhooA9dySrpVb18+spPj2vslip2ZhpWltbA4bt0S6kvFZ4ur1HeAcV2CPG3esY5bz5ouVSE/Jxlx6nzGTU5A2ordMN1RJ3AmLXfXSiTHS9PGImFpCYy3Hqgfuuu6DyT7t7UoWZHW0QfSuDgk5+Sj6rLTVHKfUgkoNKrvUYUMeVq1X6tu+5yyw3pmN1amJiBWnkasa+pKlJy0eG5B5p6fch6UoPZrmzpBN7pbz6sl4jUDux37xFiIBOkz9z6hPOi2zymbGfpNGWr+xSFjbTXqbR72Qx+WT0RERERERESPnwEKTtlgWDsL2aW1MFk6gif2O2YY9uUjdY0eVi87Hm86nodZOSWovWQRc1Xdb4L5dDmy38hDrXOA6qEV+hViuTsMsDRLCXY0nalC3oI8VDXIU3jn691InZ+PqtPmjj6QxNItl2pRkpWFkqt9vQHRjvrSVMxeWg7D101qMEqs69cGVK1JRmqp2y2O9+tRvtAtP+U8qEJ+6uxHr+Nwsb4lGWkoPFSv5p8N9ceLkJFRhHPyBERERERERET0tOpTcKpqsdJKxtPg3NIJtw2oPqmEV8Lnbccp40VcNJ7BgeUxcpr9TCHKTytBlsgc8dmOFHlcErOmRr5NsHhGKPCwHlUfGOVAjWZBx3z2vqPeQHjfiBNOLZlsX5ag8IyyXM2MAhyWp69B8UzAcltO9oqpphxK10wxWHZIzEO6bbG2GCnDpTQLqv6hCmZpVO5Tqgarlc0SUrDTi1sc7Ze2IWufsoT27Tq1HSkaOQmWfetx8FtlXApaGUuzsPtrOReQtPkwzkjT1+7FstggkSYFAvNR7bEvKVV36zkmV7zuFCmqmNWokT4rToTYA71i/iQfVfL6BCEya6e6fWJ9X7Cq+eqkH5ZPRERERERERI+ugWk51WTFNXX07lcm1H8ntQ4KgmZORwfaBVO86Oz6mUjkqp1jH8iJRrDUB9EzQdD+YrTyuaS9BVYTjCel5+5JdEjPiVc6OH8mFDE5y5DkdZ9STWi6pY7CCvPFelil1j8hMcg9oqzLxSOLoFUm6AUbzh2tVltGJWHJ36vbFRyNlIXxiJyei4I9xZirBqpwS4+KQ2qgb8F7WBIbjiBp+hAtkpYvgxJvqse2QybX1lYBUw9DpdqSa3g6li2IVLdPrO87Sx6/fsmIiIiIiIiIyK8GJjj1cjQS1WCQ/epu5CUnIDYmDskrilB90owmL2/pc2a3WWG+VIvqrfnIeO+gmurMigaTOjo2BpEh6rgkKALaV9XxHoUicoIjhGKR+02aPVnqLysD+Tv0Lrcp9o4F5jPqaIwWWqnxkyp0egF2rk1B/Eg1ACXYzNeU/quEmLFaOE0OPD8aE0cqo/Yz9fDlzkVvOfcr1T501x9Uk9hPjlshJ0dCq26HbIQWTmFFIiIiIiIiInoK9Sk41d3T+uTb8ByCorFk1zLEP+8cSrHBcroaRWvSkJCwEnqLd+18mi7vRt7MWMTGzUZaTj6K9tei/o7n79odQZHB8v+9Fj7rAxRLLX7U9xL7nXrU7ipEdnIC0raaxNb0Xvt6esF+v2NJg/+TS2hKCEbQc+robduj0XLqoVOn58/0ZS8QERERERER0ZNogDpEB4J+noSCo2dw6sB2rM5Jgu7l0I5WP80GFG470fPT2G5VY0VWOYxSMCokGknLC7DzQA3OlHb0UeUsyHHr3gP5/96TbwXciVNnDmPvumVImR4NTXtLLDvM+/Ow2/3pdD7wZT2DhnaEyB78L/fwkw32e+ro8GDXVlWB4hyQcg5UEREREREREREJAxaccgjWRCNxwTJsrKzBmTM7sUjuVFwwWtDTM+aa6s6139KWsmE7ls2JR6QmtP2WN1caaGPV0ctG1MtP61PZzTAb1XFfBIVD+1oSctdux4Hai6hZo1M/sKPhux5Da11wXk8zXBqQ3diNjKUl0EtPJlRvfQzWjm7vp8kopncJT925hnM3lNGgKdF96Aera6EzOvoJax+666w8VIPRjn18uh5m51s4LWY47rwkIiIiIiIioqdTn4JT3T2tTxpK1NZEtpMr1bRY5H1mbg+02K0NMDuCRq9FwtHnt7Mmmw14aIddisI4BaGu1dUr82mux+5/9tTnVDCiJ8errYcMqNhlVPq2etgEY+k2VMvpXnhoxu5Z6jYlF8F4Ww0HPbShocHRq1M4Rr/sKTxjg026Ze++ewsnZ8GYODNJXc9qbPtnk7JdD63Q76pA/ZkqFOYko/BL9Xa+EfFIeU2Z2rpvPbadscIu54MZ1ZvE+smfRGLJTF+6GvdmPXtLi5jZ6p69XYHyQ+r+t4n1/Wib8pRDIiIiIiIiInpqDUjLqeApuVgdKwVU7DB+mIa4GCXYE5tcCKMUFBkag9VZuo4+nf5rJOLVUfPWZIyLicWKk00InZCIePUWuPodGcp84jNQ/nU4NGrrHOPNjm7AgydnYpm8XMDyWR4SpOljEpB3FO3T9+gZLVL+MUUJnFmqkTcrVglUxcQhe59FnkSzoAApL8ujQii0UeHquB55k8W0k8vbW3x5EvTLJShboARwLPuyle2KmY3CM0qwKCh2NXKnOHInGLpVZUhRVgjVS2cjVs6HNBTJ02uQuKEASZ4ifS58X8/e0r7xnrq+Tvs/Tqzvd2K/yVMQERERERER0dNqYG7reyYciR/UYO+6FNe+pkI0iJ6ei+2fFSPROVgUrMOSskzEODpQF9PhgU286vDergKkxKrzGBqKSPn7lXhvijrtEQNMjgZA8nKPYPtindpHVDA0k1NQsOsDpETIU3glaEwuDhzdjlyXvqaCEPqyDinr9mJnVmTHNgnaN4qxeo6jA3VpOkBqANa1IETmVOLw5kyn/FHnv2YnjnyQiHDnWxeHRiL3kxrsXCPyU6MGrUReaCdnovhQJVZPcQSduuf7evaStL57DsjLCpWCi479VrYME5UpiIiIiIiIiOgp9ZPW1tY2dZyIiIiIiIiIiGhADXiH6ERERERERERERA4MThERERERERERUcAwOEVERERERERERAHD4BQREREREREREQUMg1NERERERERERBQwDE4RERERERER/f/b+x/oqKo83/v/zJIVYZ7OHbxwHciiV4fb0pEeIzhkGoywhoxB/gzkQgMiQhjANE2DQUID0iC5ThBUQNCgXEYRaCEiTTA8gQaj2OEZMIITh9CxG2PjpKblhuCPLHKf+AhmxZXfPn8qqapUkqqkklJ5v/RQVadOqs7Ze599zv7WPvsAiBqCUwAAAAAAAIgaglMAAAAAAACIGoJTAAAAAAAAiBqCUwAAAAAAAIgaglMAAAAAAACIGoJTAAAAAAAAiBqCUwAAAAAAAIgaglMAAAAAAACIGoJTAAAAAAAAiBqCUwAAAAAAAIgaglMAAAAAAACIGoJTAAAAAAAAiBqCUwAAAAAAAIgaglMAAAAAAACIGoJTAAAAAAAAiBqCUwAAAAAAAIgaglMAAAAAAACIGoJTAAAAAAAAiBqCUwAA3OQqj65U+vNndMN9HT3VKnh0gbafj/6adCvPca2cvUVnor7ZN2n6W8LKgxs683y6Vh6tdF8DAIDOIjgFAEBXa6hW8eYFGnPfSCXe2UODHtqusi/c9zrjww0a0KOHBtw5yH6c/ka1+4aPdr678o10jXq6txZnjFBPd17XqlbB3B7q0WOQBpn16dFjg86470j9NGV5it7/x1RtOPstDJBUF2tLxhiNvC9Rg8z2TX+xrP2An2e/0keuV+/MRRrRPRmg6vx0k+6mLJhyYz1uOOu+8U1P/1DKe7fkQU+NyFis3k+PUvobBKgAAIgEglMAAHRKmbaPW6njQdrJjmoVZCRpTEG81v12s2Z+IVXmL9Fzb7X6B7pxdoPGDBigxIUFarPpO2y1LjU0aO+0SvMtwbTz3Rd3acnsSi3bvlojvufMalJ9XCvHbTdbF2n9NGVPgxou/kpDL7qzfMXP1LYdf6vtU02aXnXnfRO0lx6XCpSeNEZvxq/T0S0zdd3kXMHS59ooF5ZK7Xo0XZXLX9Tq4QFRkS5Lf5MD0/aqoeFP+tVdQUpXt6f/DZ15ZowGDEjUgvx2Aj3tlfdI50Fb+/b3Rmj19mWqnJ2uLefdeQAAoMMITgEA0Ck3VHuiUrUN7stAZ3cpc1+1pvxipkb0HqGZe3K0aGGuFo/u5y7Q0sfF21VcXa0LO99UWZsNa0f8nVPcZwHa/O5q7X9igc4tX6dFQ5zF/TTUqvJEbfu9Tjoq/sca7D4N1HtilnKGbtfPni/uuu8PVzvpcWZPpvZXT9Hi2SPUe/hM7X1ykRY9v1gprWezqt9YqQVly7QuY6g7x0dXp78G6sd3uU8DdG/6f6zfvVis6uoL2nW0rJUgq7/WynvE88BsfZv79pBFWrfco5VrdrUdRAYAAO0iOAUAQGfUXmuzQV1dec55v0cv+/XA1NXKfXGRRvS1XwY19NF3dPD5jXr5/9mmKW00rL169XCfBGjru2+c3aXn8odq2cyU4Jfz1Vzu8gZ361dQDdRPM+ar+pktej1Y76poaDM9qlX5kVsK7LwYqJQncpX76Aj1tmcGceOMdm0q0NClDyslsNeapRvS31nXYLoz/U0ZPHFQuc+8rNObpyiE4t5Kee+CPGhn37ZKcMrMZRr6VrZ2n/zGhFEBAPhWIjgFAEAn1J4s0Hb3ecR8b7CmPLpM8+9rtVndSTf0/pHtKuv3U/1DsF5TRtk7r3fJJWWh6j16ihbpuApOfzP6pEQ6PW6cOabt5/vppynBeuzcXOnf807zXcvntxmw7Qrt5UFI+/aQf9DDQ6q168T73dDLDACA7y6CUwAAdFTtGW3ftMs8KVB6vDW4t+8A32e0wRq8eXaB/apg9gDn/Yf2t9kbo/qN6Wa5AUocYg1W7TtYuKP65HYtmThIA4aM0ZhxYzT90e0qvuS+2aS97y7T+3vMs9n36k77dQDPfj33vBUaydZIe5vaX+821V5QwVPpShwwSCPNOo8Zt0AbDv9725/X+04NTZWOv3Wm498bKW2lx9kNdn6l51svmstB0MG6fZSd3mX+/mHd+zfuDF+RTn/V6sLhDUofMkCD7nPKzYKnCvTvbY0p1cH0r30r23x+to7XujPaVK39D5ltG5BoD9bf46nA0h5iee+KPGhz3/Z1p+4ZY9Zzz/tRDSYCAPBtR3AKAIAOqD66RIl3jVS2faezKdrraVBDgzWt1gh7iRFabV5f2ueMjzNl3yXn/TdmtnnpUr+HDqqh9hWl/KFlj5ULeyYpKXWDrj30ti6df0fvvPWOXvlFTx173glCNWvnuy/+UcWm3T7lrvgWl9aVvThSg+5I1367XZ+j0/Y2tb/erbparJX/mKjpxwfrlY/+pNNmnd85mqN7Sl9vp1fKQP3YSsj8c7oQxS4p7abH8NXm9SXtnWa9aC4HBx9qK7Uq9cfT5gMn36P4gAyIePqrVsWrJipx2jEN3v6R/vSeU25yks7p9RfdRYLqWPrf+KJSxScqdSOkv+mnmW806IudKboQ5PLBkMt7hPOg/X3bV0/F32X2s+pi/fGbcgkqAADfQgSnAADogH4Tc1V+6bRy3NcR9b3bWgYiLu7Syozjqp62SZtmD3RnSr3/Zr4WL3RfhKqmWsXmoX/v25zXPoY+elp/8uw1TfJIuKHizenacrafcraYhr33KsUe/TR+4eJ2v6Nnb+tyq0pVh3DXuBsnrB47Tu+asKYn2x70O7Lp4XVF1SfMQ7/eCsyBSH/fjRMblL75jPo9uVmrfS4T7TdukRbbwZzWhZr+F14cqR53Ttf2D2vV7/vWMPeD1b9frcpenK5BPUZq+x+c5VrT87YgQaRIlvegWs+DcPft23r3N/8Wq7rGeQ0AAMJHcAoAgG+BsqPbddw8Dh0xuIM9aJpZA6Vb+v23rhrTylVbrILNVhegn+qeBGdWOPr1s4ISBar8387rtvRMzbF71oQ9PdnKgPBd6VKl7Bzod1vrg3VHRK2KD2+xL8v76dCgF3C2KdT0Hzz7Fe2dfENbh9+lSU+/b+a8r/WT71LSizc0ZeeLejjYZXPtiGR5DyqCedD7vzlreK7S7u4GAAA6gOAUAADdqlLHN2/RlhbTcfNOa6pVWeaMaDOwX5c01bvGp+f0pv2kn27r4jgYgvHo3GHnWZcGInsP1sxnjuhP1Xt17zUrpHRc1+7aq0sfHdHGuUM7EPz5lpZ3AADQYQSnAADoVld0btVKrWwxnTPvtC60MXy+YRqsMAOixxSa7siAhlqVHd6g6SPHaPcVq7fVQF3JH6NRk1dq//mQRkZv4VtZ3gEAQIcRnAIAIGKqdXz5GG3/0H0ZlDNYuTPAsu8UbLBlr34aPNTpQVL7xXX7sTN693XG8LnRYD+EoEzbx63U8XADHT8YrJn2k1pd70Cw4bq9finq18d+2aauGnMquA6mh1fffrJzoKvTX/EaPNt5VlsX/laGmv5lz/+dkqbt1m2ryvVvr84zc+Zp75ly/apfgdKH/Z22tLk/BBPZ8h5U2HnQxr7d4KTtwL50DwQAoKMITgEAEEG1l4pVG3KDN3RDxy+TNTx18Zky+fdFuaFrIQwY7qvnbb3tcXwufBZqtOOGak9U+mzXDZXt26ItLxbowhfurGD6peinc60nv9O5CntOsy+uBWxHS1c81l3Z+um27zmv29K9Y04FpkeYet6m3lYGfFwZYsemDqa/SbuUyfPtZ78r+9h+bHZN19rJgFDTf+jScl2t/ZNenjvYfKy1RdXm0wdr/s4/6Yur5Vo2zFkuHJEs70GFnQet79vVn10w//ZT79u6ffQyAAC+MwhOAQDQYXfqnketFu77OvfxDemLc3r/9CK/wb+d3idGQ3g9QJy+GD69XYYs0otPjpD2ZCr7cHNzvfLwSq1/0Xlee/Wa88TV6nf/8B791Dy872mlWT5gqFKGW0/ed26P//G/q3h4ioYOsOYZ57crY+5KrVw6Xek7nbGBguutKU/s1cx+ZVq5ZovKvIGU2jJtWbXBvmOgHcgIGiSp1mXru4fco4FOJ5roaS89ZNK3Ka3dxzbF657J5uF0K4GRiKW/yYHJv9Le2f1Utmqttpz3lqdalT2/Uhusu9UZ1f+/YBkQRvr36KnebgDrxg2rDF5ruiyvZ+8QAjZuzyO/tAu7vEc4D0LYt72qPdYg8D/VPT90XgMAgPARnAIAoMN6a/wT+do4N14F4xKVOHm7+u3J0Xjr6p5L+zW9Rw8Nmmv1PpEK5g5SD/O6x1Nn7NetOfOUWabHSG2wX23QSPM309+wms89NeKJoyrf97Aq/+ddGnTfGI1JHaOnL07R4lX2wipemmj+drr2/1s73937Tg0dZxrVZRdaaZgP1vxX92rZRI+yRydq5KNlmvnqfDPXlfAPmj93hAb366eysnZ6nsTP1N7Sd7Sx35uafmeicynd3NfVP2O1ptgLbNekvsHSxaMLJ6R+4+9R+PeZi7TW06P6jekmbQcp3R54vEDpd1j510MbzlqvW9NbdyaNN398ThcuubP8RDD9NVAzd5bqnWf6680ZdyjRlJkxqel6vd8irbaCM8b2yX3NOm+Qfw50LP37Tdurhoa9mhJSQPGMNljl8u+d0q6nRjrl106T0Mv7ju1dkQdt7Nt+qnWhzOTAuKG6k6v6AADosL9oaGhodJ8DAICbROWeSRqU0V8Hq1/WlL7uzHC9l60e++/V1RfHm6Z8hJ3foqRhWzThxEXljP4OXi51cZcm3blA/fOv6uXJHUw90r9zIpEHVwu0oN90Xd75Jx2Z64zlBgAAwkfPKQAAbkIDJ87XfO3S8dNBr6kLSdn7xzRl5D2RD4wYZe+8rrLhy/TT72pg5I6fav5cadfR4nbH3moN6d9JEciD2tPHtavfIi2aSGAKAIDOoOcUAAA3qcqdkzTof6Wo9ENn8OmwePZr+shzWvTxRqWEMGB5WOzeKJnq/dZFbUz9DgdH7J4725XyYamWDXHnhYr0j4zO5IHKtGVYkop/8ScdySA4BQBAZxCcAgDgplWp/Q8N0uup4Tauq83fTVNl1gmtHh7p4EWtjj96l9b3y9eJJ0Z04E563y6V+6Zr0Bvj9aej8xV6DpD+kdSxPJDKnh+piWWLdWrPzLD+DgAAtERwCgCAm9kXZ7Rh7HJpS1cEOsJX+Ua6Hnhrgt6+aRr8N3TmqVQt1+ZvRDDo5kt/S/h5cOPsBqUukzYXrdaISPdcAwDgJkRwCgCAm13DDdV+IfUO5bb/XexGba21IjdFjx1f35TtvlnT3xLOttvLfs8s28OdAQAAOoXgFAAAAAAAAKKGu/UBAAAAAAAgaghOAQAAAAAAIGoITgEAAAAAACBqCE4BAAAAAAAgaghOAQAAAAAAIGoITgEAAAAAACBqCE4BAAAAAAAgaghOAQAAAAAAIGoITgEAAAAAACBqCE4BAAAAAAAgaghOAQAAAAAAIGoITgEAAAAAACBqCE4BAAAAAAAgaghOAQAAAAAAIGoITgEAAAAAACBqCE4BAAAAAAAgaghOAQAAAAAAIGoITgEAAAAAACBqCE4BAAAAAAAgaghOAQAAAAAAIGoITgEAAAAAACBqCE4BAAAAAAAgaghOAQAAAAAAIGoITgEAAAAAACBqCE4BAAAAAAAgaghOAQAAAAAAIGoITgEAAAAAACBqCE4BAAAAAAAgaghOAQAAAAAAIGoITgEAAAAAACBqCE4BAAAAAAAgaghOAQAAAAAAIGoITgEAAAAAACBqCE4BAAAAAAAgaghOAQAAAAAAIGoITgEAAAAAACBqCE4BAAAAAAAgaghOAQAAAAAAIGoITgEAAAAAACBqCE4BAAAAAAAgaghOAQAAAAAAIGoITgEAAAAAACBqCE4BAAAAAAAgaghOAQAAAAAAIGoITgEAAAAAACBqCE4BAAAAAAAgaghOAQAAAAAAIGoITgEAAAAAACBqCE4BAAAAAAAgaghOAQAAAAAAIGoITgEAAAAAACBqCE4BAAAAAAAgaghOAQAAAAAAIGoITgEAAAAAACBqCE4BAAAAAAAgaghOAQAAAAAAIGoITgEAAAAAACBqCE4BAAAAAAAgaghOAQAAAAAAIGoITgEAAAAAACBqCE4BAAAAAAAgaghOAQAAAAAAIGoITgEAAAAAACBqCE4BAAAAAAAgaghOAQAAAAAAIGoITgEAAAAAACBqCE4BAAAAAAAgaghOAQAAAAAAIGoITgEAAAAAACBqCE4BAAAAAAAgaghOAQAAAAAAIGoITgEAAAAAACBqCE4BAAAAAAAgaghOAQAAAAAAIGoITgEAAAAAACBqCE4BAAAAAAAgaghOAQAAAAAAIGoITgEAAAAAACBqCE4BAAAAAAAgaghOAQAAAAAAIGoITgEAAAAAACBqCE4BAAAAAAAgaghOAQAAAAAAIGoITgEAAAAAACBqCE4BAAAAAAAgaghOAQAAAAAAIGoITgEAAAAAACBqCE4BAAAAAAAgaghOAQAAAAAAIGoITgEAAAAAACBqCE4BAAAAAAAgaghOAQAAAAAAIGoITgEAAAAAACBqCE4BAAAAAAAgaghOAQAAAAAAIGoITgEAAAAAACBqCE4BAAAAAAAgaghOAQAAAAAAIGoITgEAAAAAACBqCE4BAAAAAAAgaghOAQAAAAAAIGoITgEAAAAAACBqCE4BAAAAAAAgaghOAQAAAAAAIGoITgEAAAAAACBqCE4BAAAAAAAgaghOAQAAAAAAIGoITgEAAAAAACBqwg5O1RzN0vDhw0OYclXu/k2XOJ9rf0/ueff1t0qV8h+x0miGdnxU787rmJoPdij/I/eFrUaFWd2Q/ug6btnOOlrjzjC+rlPF0TwVf+6+vlmEs59/XqiswHTDt1tH8/TbeHxwt3X4toCa+/NS7ThEbd6dnPOcLBXebPUtOqx828113tWd21v3SaE2LZigUVb9OHqCMjYWqqLOfRNdyG1PZBWaZ/juCKGdWF+qTaOt/S1LRRwHI8apN0M7t4j2eUhn6/jO/H2He07FjZqmeY/Ma2NKVB93WQS4UKS8j6TEXz6rhXfFuDM7wDTAJmTuVtXX7mt8Z9Ucz9acdaXifAy4mZQrd9Ji7a5yXwLATaTenOdmpK9X0a3jtGLzS9q6fJx0bL3mZJhGz3V3IQARVXcyX/nXYzRtw7Mae7s7E+gmHQ5OxY+er4ULFrYxpSjOXRa+6lV6bJeujlqjnKnx7rxI6qO0rWd19uwSJbpz8C0zZInJv7PaOpHwLnDTuD1NW81+fzaTmhsAVF+uHf8zT57kNXrt+SVKG5Wk5IlLtHP/GiV78pT9eoW7IIDQtddOrFLRgWLFz96ux5I70YECLSRmWum+VWkE/NrEmFPdLkZJvzylU5vTFHeLOwsAAACArb7sLR28LE2bPs7/fLn/OE2faprQewtV2rmRMQC0EKdpr57VgcxE02IFul83Bafc61utsTQ+L9Xux2co1bp2fHiqZjy+W6URvJ6y5oM8ZWfO0QTrWln3+vQ5j+eq6NMOHMG845Z8WKPSV1dpxljrM0dpwoJs5Zl5ftzxQnI/rFLxxgx7+0ZNWqV87/d+bT5jX7YWp7vXzdvvz9GqbUXyBOuaXFehom3e7xyu1BmrlPu2R96tsK/lXJBnP89bYC3jvS619WuJ7bTxvW7/yTyVBl5IHu56dkjzdeyeT33GEhg7o9XvqfukSLmPz2lKD7vsZAbJBzvPTFp8WqG85c7npj6SqxJ3sZA/JxwBeTVqUoay95WqxudyS89v5pj3pmj3J+4MX5fylWH+bsqv3V8B3XLnjLPjpNWEdSXmeYnWT7K+wydvQ84v7z5Yqqp3NynDWldTBlYdai5TbQsvz+zyaS17IU9Zk0aZ9UpVxvMl5lNc16tUYvapOfZ7zZ/T6jgSDc522uvd2j7YBr+yb9c7QeoE7z58vl6et3O1akaqm54Z2nTUSae6j/KbP2esyedDFS3Tzy0Pc9y/t6bUGYtblAmbm38Z3nToTH1lCfi8YGXRUa+qU7u1qqncuGnySUAGNKWJlYZmee82Wfn1arDPDVHgdrex70dUTbnyNy5uc19t8nWdyg81r6NVB+/+oEZVwcYBiMR+GDjmlF0PZMiu5fdl2J/pHXvLu39V1ZQq78kM93jnHk+tRb42+1dTnWT2l+WmDjSNvBbCSY8QtXuccbcz2DhirY2xEOpxvSldzD5YaI7DzvJWfbFJhYFl2+a/r6c+YpZra9+LdHqFWlc0pZlHnqOm3PiUSd/zAl+ROmaGu6+GdJ5hOOvnPRdsrU737i8ROnesL9Em6+/XFge5RL5epc9Z25itYu+bIe/Xrasxx4xNmQHbaeoRf+0fn0NLL8Man9KnTLea76Hyy3+rLnHrmNaEcD4UqsoLJWb7k5QwMLCJHKOEHyeb84gSlXvcWZ1lyldzXdp2PoecF6EKdR+LxDlKOO2aNoR0TmWJwD7kq/VxbMqVa32+75iN3rrtsjVma3O96aRXheqClMlQjzXt8uRrjvn7pvN6P+64w5N3y/fd8OrEVuqKkMqx+xkt0jHE88JI18s+Qjt+hLuerZ9vtdpmN0Iu40bVqcD90ZSvD919zWfsU6f8Bp7jhHceErEy6hXFOr413dtz6j92KevBVSodMEs5215STmaybj27Q4sfNCcDte4ynVCxb44mZ+aq4i+TtXDdS3pp21ateThJOmsy8pGnOvwd721cpMW/qdN9mVv10ubHdN/1YuUumqys4y1z772NWVr/2X1aYb57xaQUJcabg+rX5qRv7mQt3lah2FEL9azZ9pc2r9GsoWZ5UyDSNwScKF02O42pULIPVSkhPcdsR47mxVcqb226MvY5VVn8BPMZS1Ps5ylLrW2dr6Te9ssg6s0OMUMTTNqU+F63fzJXix9e35wu4a5nZ1Xm6XGzE5b/9Sw9YZWHB/vaO8iMuTtU7rOP1Z1crynp2Tp4LUHTf2ltq1l25Vj1tSryRYuCBHw8ylu9WEV95pttMGmXkqTEPh35nBBcLtKqab55ZfL9gVtNw3CxJj9uGknuzhqfnKZEc0AqfL/lgcpTUmgOEAma9fcJ7hxfsUp6xKznTOs9s4xdrtNkXxDakfw6vUlZGz26z2z/1uVpSkmMD++XkRDzzGYtu7RIfec+q5fWzVPKT9xx6K6bk4i5U5S1t0rxk1Zoq/U56QmqOpStORmmPAZpRNv74N4ae73b2wf9mbL/slMveMu+tS4JVQeV/XC6fZIXqHLv40p/rkJxVn5uXqFxvSuUvy5dTz1vDm6PvqW+aU9oq5XOPzAVtDmoPfWuTyrXFmu9XR6uKuHBFXYZe2ndCo293arMF2uRu/86alT0uMm/nR7FzXjCXtbaL2PLTH318CLlh3vSbaXrwxNMeSjRrQ9Y6WrK4v1SsfneGX5lwaoP0jVl+S5Vxaf5p0l6hta/23KAo8q9WZq8ttRJE7NPLfnJrXrvZVPGn+xAnWDWc4ddbr3r2Zz/M+Z24TgiVr061Zw0vCslLQjYV39hThIDTt6K1k5RxsZi1Q9daB+vVkyS3so0ZW5vQMZ01X74gzSzjktk1/L3L7HLx/xhsfZbtmvF2rQoS0Vfp+ixjSYNFySo5qQ5nq7cZJ/gvnApUfNNfZGTeZ9iT+Upa6nZRt+Th7DSIxQhHmfCFPZx3UqXjAzl1znpsnXtdA38z3ytN2Xbv4636oZ0zVibp8r4ec45yYR602hYpF1/DHKSF+n0CquucHisumlzuVtf5GjW7aYhsnaG0l8uN1vTLFLHzPD21dDzv+r4Kmf9qhI0z8pTq569tcSp048GGWAtUueOMUlKedDsaW8XqzRwp6wvVfFvTCpOHaf7rN0sAudDViB7sjleFinJKbve7TT1SIZptLYoZa3UC6Gnl8mDVzM0Z22h6kYusfPLrttNWbOW3VQSpFy3yT1GbSs2dZBzTHlscKlWTd2kt4Kle4jnQ6GpV80Va9sSFBfkEpg+/Qeaf6tU+VnYR6CWPi8y5Wuxdnwap1mrTZrZ6x3rnNs8mi+Pz3qHXXbb04HjYafOUVzhtGv8WfVmiOdU3d2mCKpGxc9lKONAnVLsbV2j6fEek15zmtpTXhFtQ8YnK+0uU14KSvwCUDZPiQo/MiX74RRTuh1hl6tgdUUY5bglq/4O77wwsm36UI8fHVjPNs63grbZwynj1rKvztGM5XkqvT1Na8yyz/78blVsNuVr43vuMm2xviv085DIxzmiWce3oaGhoTGc6crhzMZhw4a1O2350PfvrjS+mWnNv7cx8/CffeY3NF47ttxefnXRNb/57U4fbvH/ni/PNb4484HGe1f+tvFawLJfFv+zvWzmkSt+89ud3O8YNjKz8c3PfOZ/dbHxjX+y5j/deOZLd17Vm42Z1rITX2n8w1c+y5rpyw9fbHx4/L2Ny48FbuOXjf/6P610yWz87RXvvGuNv13pzPP7TmvZDfea+csbf3vVnReYBvbkTestjee888pfaZxklpu0+Uzjl03LmeniG41zrfn/8gf7dXjr2ZnJu47DGqduPee3Tl/+69ON95r5cw94y8mfG3/7q6mNo4Oka0PFrxsfNsveu/1c8zxvnrUoB2F+TkjTtcZ3fmXlSWBeme04u8VOc9/tsMuM9f0+yzU0mLI028z/pzca/+yd525D5uHm8ursd+Z7qrx/F25+edN8UuMr5b7LhjqFk2cNjee2OssGW7czz1ppNtWU2y/93zP5YJXHe3/1TnPeefNz4pbGM3U+y7axD/qmW8MfX2mcaua1KPtf/dnZnmD78MjV/uXc7CdW+Rg2bG7jGxd95n/5r41PW/N91vfPR1Y3Tr0/SBqb9f21lc8jX2zeLz97s/Hn5u9/nu9fJ9r75f1TGzMPXPSf3870h3+ZZNZxUuOWs/7pevH1ufZ87zp9WeLkV2A+2utop+nqxne8dUxTmgSWcW89ZZa95ju//ekPr04Nup5Weljfde+zPnkVLE9DmVrUje7+12I7zDGo2E2PV5160Jq8aZQZkDdfms+1ypPvvhix/dCb1iZfmuefa9zSYl7z/jXVrbudyTpGOPPv3fCvfnl78fWHne/8o3deeOkR0hTicaatPG1Rz4V5XG9Kl8Cy7V03323yuOsVuL5uOfSvbyOfXmHVFd6y0aLe9J4XmLrJ450XqWNmmPtqqPl/9Z3G1SPN92W+2fhnv/Uzx4bNVh3muy3e/SVy547efTvw76zjmPU9T5c42xru+ZBT9nzOu9zyde/SgO386pqbZ1N99sc26oVw0uurM059YfKgeTkz1Zlj1f0PND68+V9b5HFbU6v1oHt+47e9YZ0PhTJ508T3O3ymIOdJHZ3+nP9z81k/b7He1rFz9NTM5uN+WGU3tKkjx8POnKM07e+htGu8eWC294p3uTDOqbqiTdFiP2uaghwrvds61Szvd/74h8ZXJpr5vufjXdCG/PMB99yraT93Jud47FNWOlQntqwrQi7HQfatsM4Lm/4+gm36UNupHVrPIPWqd18KdpwMp93Q1nmElafmPd82ulN+fc4twjkP6YIy2pV1fOv7avtTh3tOtXe3PvtXtxbSNP0B/2HSYxOTlWQe666H+4tOgJhELdx7TKc2jJXPb8u2mIREJVtPOhjRS1j0mNL6uy8st8Qr7ZFp0vV8FZ4KiPuPTlRCwFhSMUMW6rUjp/TMAy3WTAn32Gumr7zrVlOit94178ye7/+dZtnksdMVe3uVKv4Y3m8N5ad2qcqkwLyHk/x/nY9PUVpyrGI+KpfVFyCs9YyIaXrs5/7XNMckT9djg8067y1yf22I09h1B3Ti8LwW6aof3m2XnfqvnJe+kn6SGFAOOvY5bfq8WIVv1wfJK7Mdw9I0y9qOIyV22lrfnzLFpOHlQpX4/mrtKVXhBSlxQnLYNxDoWH6lKPFH7tMOCSXPvJKUnBiwbnXvqdD+dfoxLRziVxpNPkzX/KkmH942aRTw411i+jQl9XJfWHz2weI2Bp0oL9pl0j9I2b8lTuOmt/L3E8Ypxbf+ik+wy4dMnib73sMgJl4Jw8zjF3XyfkLc+BwdKCrQPJMefsz63m0tG6Seq/qkwr87bPw07Sw6oK1h3TChXMV7q6TkeZo1zD9d40eb9e4do9//0SqJdXrvSL5Z35b5aK3jdDtNi1T4fkAGTJiucX5lPFaJP7FrblN3O3NC8nW5inab9Qiynt5xROp/Uxz5cUQ+ce6Q2qIuN2JHOeXXs7vY7eLenEbTJ/jvlTFD5mn+/e4LV3T2Q0uCpt/v29vSvdTFmH5/sl/exv/Qyquq5rwKKz1CE+pxJiwdOq6bdJkUULZ/lGj3QKv6f5sLVlOP1ckB6+uWQz9dkF4dqSta1pvmvODBx8xWlCvvXW/tG6FjZpj7aqj5X3O6UEXXYzRrbuC4mzFKmjzL3pbCksCSErlzx5hhZt3NsaTopO/db+tVejpf6pWmlKHO2nf2fKji3Ty7fD32aMB23hLr5plHu04GlpiW9UKH0us/K/wvke+VrBVFx/Ta0uQW+1HrTJqcbKUedM9v/IR1PvRNZM6tK/yPe/EP7tSJA1s1zT0Ud6zstqGjx8NOnKN4hdWu8RHOOVX3tymCS5iapkS/88cEJY42j5d90qUL2pBxo0x+mHLlf8WER6XHzOu7xil5gDOnY+WqtXOI9stxSx08L4xgvRza8aOj69nG+VaQNns4Zdxbz7c8j0jTwvT2W3VhnYdEvIx+c+v4Dgen2rtbX4q70/np31d9/FLfMIXCmuWpueq8joD6WrNzflCqkqN52rFxleY8sknWiD0dlZTQco+OuSPBLgjFn/pnQ0JcX/dZEF/Xq+5ShUo/KFHhvh3a9PgcpW8OWDPzvjUnaWCQQj1kiU4ceU1LzI4auhpVXrB2ooEa2KJrtHXHhhM6sHWac5mYVyjrGQnJCUoILA9mTeyD6eXfmzLhzPGqr6uR53ypSt/O147ns7V4RpYzHksQ8be3ng/hfE6bLnvsvBr4dZVJK/N5flOlrlrZdKFSVW4d3WekOaGwDlSnmg9Ung8KVWFKUtqo9iuxVoWTX4Pj1DegIg5LWHkWr76BQWpz0lxsHpJ+FOxyQm/jukQVl5w5Xnff0TJ9YgY6J2Qlf6p0ZrRgyv5/WIl/q+o8gflTqt9frrcvMyy/FNANuJc5ELpP/fwoLiCAeKv9f1D1darxlJvvKVL+y7nKzpyhrH3ue1797zP5HqOqQ6s0Idm6nn2T8t82B+Cwu+Uan1c6lxX994HOpZO+rLvANQW7PKo4ZR6GJcjuvRzAW6+VXPRPk7i/7tMiTW7tYc3xqCac9a2pVKW1nr3qVBmQH6Uf/F5VX9s5oqogPbM7o+ZT89nmMemHwc7O3PJ7vUKV9jgAbhoFLeuxph3Qyr7anfuhzeTJX7pP/SQpPnAVe7iPrvDSIxQdOM6EKfTjerz6BO4Et7g76udX3YCEKX/lVj1s0ur79gwfzUE+r8inl49Q6gpX8o8TWtZNbsO0qtzsi86cJp06Zoa1r4ae/1WV9lFTuhL4mWbyXLVPuis8Vc2NRkskzx1vSdRYq9HwdpFKvHVXfaneO2Q+b+o4JQV+T4fOh0y6l9slJkj5Mtw8qzfnB355FqReCCu9brlbKY+YVC7J1ZxUZ8yaHUfN8dQc68JnjinWVwc9Vrhl3leY50PfJHHJaUruVaX8xyc44z1tzFfRedMUDmjodajstqWjx8MInKOE065p1sFzqu5qU7QivsUBwWyBvZ9d1dUgcbiItSFvT9G4+025sS7t85Yl9wfp5CnNd7TvULkKUleEWo5b6th5YeTq5VCPHx1czzbOt1q22cMp4831fJDdSXHx7d15ObzzEF+RKaPf3Dq+e8ecGthHrYUMfH/R7Kj6Twu1Pn2URo2dojmZi5W1breKP4tR8rQ0BRvNJzSm0AS53t0r8BfIPn9p5U6genmOrtec+0cpdeocLc7M0vq9xfL0Stb0CR1fs8jr5vX8QZy9k7em6ReVmlLtzkzVqNQJmrFgsRavfUGFH9Yr/sE0+9fwYG79v4LUXB34nLbUfOYERSr2m5N+U978J2vwZOvdKl31ngD3TlaKdaA64j1Qub+g3D9OKW2UsdZ1IL9ui7EPdB0Wap7ZblVsYDaYkxRrT4/p0VpUJwzuQbD1uqPKurTfKFZui/wx08ZCu2FQccX/7CQ5WGDY4m3gtsUaWPDVxUodlaoJMzLM92TrhSOlqv/+dKUF9LixDrpjnz2snWtnKcUc2Dwn87VpbYY9yGBqZjsDEnZCvXUy3Po5a1DxfVqtucPrOeUe3PRubsv8MNOmw3aOqOr/WAtFkLdcBgRpWmOnUSv69gk8C4nCfmgLdiJnMXtFKydiTcJMj2gK/7jeV31bS9ymHgSmsfSF/cRtpLSjK9IrrLrCMbB/G7Xv1z4nI5E4ZnbJvmqd+FuPFcpb2/IzF1uD6VpvX/YGEV0RPndMMI24OHNcKP7A+Zb60veUb+bMT/VtTHTufMh7LAypfHm1qBfCTa8YJS7Yq4LNSzR2SKzqzhdp97oszZls9p/09W0P9t+C2Ues8R9DPFaEfT7Urlj1dX+dD9q7psF5iPuvna9JdftYbT20U2tmp9gN4OJDm5S9YIZSk1O1uOnGHx0su23p4D7WqXMUW3jtmmbhnlN9M9o+fVs9IPj3/I58GzJWyaNNjetzxYTzg3SKxo301uUdLFfBziFCKsfBdeS8sKvb9MF0aD3bON9q2WYPr4y31fMvtm9rqeMV5nmIEdkyGu06vnXdG5zqSrXFeuoRc/D9LEkLXy7QiZNndfbsCR3YlqOFf28NnNhRpfIE+zXUFEhr14v7L0GCIAHq3n1K6esKVZm0UDsPndCpErNuRQf00pML7UbpN0W3r+d/Vtk7eSBnZ49VrNUN9+sK7V60WDs+6KNp6w7o2IlTJl9P6djeZ7RiUlKbgRI/kfocH86AnNLYDSfMZ1nlLdi0VWlNJwGxSpk4rflA5f6CkjI6udWKsy1RKVeh5FlbbomxA0r1DeFeQxnEl/X2uiT8dauHHcVbkf/+C/Va0Lxxp8z2ft0IXcW+RVr8cqn6PJijA0ecPDl15DU9szIt+A0LbumjxIlL9MwBU4ZOFug1a7DQUX301QfWwNb5ppqPvBgrj0zyRyAHwnd7vN1jIG7Ra8Hzwp2WDHEWjxjvgd9t0LTHTqNW1H3pvwd8W+p3P2GmR3cJTNuuO66bk9XvOc/aOrls0gXpFXZdYVReDlL7eoNS33N7U0TqWNcl+2ofxf3AehyrZ04E/zx72prWoWNyyAan2JcgFJ8sMQ0+95K+/mlK9rn0o7P7tbexEVL5alVH0itGcaNmKeflYzp16pgOvJyjJeMTdesnplHzyAthXDJt9hErOBTisSL886H2xKjPX1tBmEpVBSn2NZethlKc+vZt/xw8JH0SlZb5jA4Umf3w0GvaunaWkm//SqUvL9bjh60jcReU3WgdDzvcrgnvnKpbj431dZ07p+miY03s6DRNM2dyhSVWDxnvD9IpSm6q4yNcrtotx8FF9bwwDF2/nuGV8baCSvX/X3trGeZ5SMTLaLTr+NZ9Z4JTdR8Wq+i6lLR0heYNifNrJNdXVcqqFjqq8rOWR8b6ygo7mp08qL0CUafSk0Wmwk/Sil/OU+IAcwLZVJjrVeUJWLP+8Xa3xNLKIJXI5UItHjtDWYfCuaKzjwb+d+tAUxn0koPS50dpQnquSurCXM9IOOcJMrK/R54y8zD4bg20Yg6flqjQ2tyZK7TigXj18e2KU1WlkMf4iNTn+OoTZ0eqi+2xfAJ5lD83VTMW5PmVvZikFE3rZQ5UH1S4v6CM1dh7OxSa6v78soSSZ235QYL9y33phxX+vwLZ6lXxR+sni2QlBFwWHGwfrPuk1E7bxAGt/Ipo9aCwToAu/14VQcp+fckm+za7m04GOfPtkAqVFFhlYZZWLB2r+Nt986RKVX90n7pq3l2vOZNmNN85q5cpT6PStGTzXq2wKoGPggcCg+ozUAOtOu8/Ai4TsXxdqlzrVrPPWw2xePMdZt6HJu2C/Lxbf9G5rDg5yGWUEdGnr1kDkxplFUG2rV4lG636aJOKI5Ulrj4/vNvuQl/8UbD9wqOKD81DrwS3J5KbRuZksqJFQ65OFWbdm0VpP+yk8NIjFKEeZ9wZRs2XgQWwZXp13XE9VgMT7dpb5Z86c3xVVdq/VTeJfHqFV1d4BT0v+Mw0eMxDQuJA50eOSB3rwtpXQ8//vnFuutu9BQJYt1835zgZ+7t6vzHnWZNM4+Ld91T6uXNJX9wUc9xpyoPO7temgZNol5ig5Uvm7608ixkc5DLsAGGl10d5mjMjVdneu7PFmPUYMlazntyprbNN/lw3ZSvkX7UHKsE6DgU9Vnh7e/jowPlQewYOtsbOK1HFxcCK2D1X6JWsxE4HOWpU/PQcTZixu2ndYgYkKHniEm19dYV9Pl7uRsciXnajdDy0dKxdE845VVceG79SXWCR6Oh5vKvLjjXuHULtKybcH6TH3u//g3RkylXo5bilKJ8Xhnz86I71DKeMe+t5sz5Bqr3KC9batCW885DIl9Ho1/Gt+c4Ep27t5ezqLQZhu16hvFfz7actT4ZDU7I3z/92rl97dND6zP6zNK7FAAWBbtWt9qrVqe5Le0aT+gt52mVOiqxCUO9973bnGuX6Q7tUGHBLfc+pQpXW1uvuHwccjdv5NTcxdb45sS5R3gH/203reomKD9er5vsJSowNcz0j4fpB7Truf7Jdd+qgXrCux55mdUs1YmKdStwcifzW/esaFe15wdkJrrcc7LGFSH2Or/gUTTM7dv2+XcoPGCOp5u1dZjvM5w1P8u9qGXO3UiaZA1Xxbu2wfkHx3rY6JGbtmgJDUcgvSyh51pbY+5Rm38p7h3b73Y7V+NR8trXe949TcsAZe4t98Hq5dr9a3M4+GKOksbPssr/79VL/6+6tWxy/kK/6z+N099CQf+dsx62KtX8NM/kesGlOebCeNZ9U9UlIUMznHhUeKw0okyZPr5nH/uZkzpnTPu84KiV5ygtI1/qzxTp4vUZxP7YGPI7VfZOmmc8t0o49AfWBt16zupzfG6k0CWBO1MbNttZzt/LcS2qamHL7wiGrPrpbSZH++h+ZBpp1W+fdO1rUq97yG5eeIue3MG8a5evgMf+yXn9+t3a9676wddN+6HvJViSElR6hCe04Y1737msHeqwgn18JuPyWSW/3uasrj+vxo6eZE/Yq7Xo54PbHlwtNvgV8X8TTK7y6wqvFeYGpK0p+Yx2/kjVttFv7RuyYGd6+Gmr+O+ler7w9+f7pbq3fq2b9zDnOfUP9jppdIm74OJNfRSp6vtDs6Qma9fe+39n5/Trh/lnm84OUr6Y8i9P8Ue2XmLDS60cmja/UqehoccCPSPWqM8tZdVu7vZubeI+fLY8V9efNcSaw3dWR86F2xAwdp+n9pfyDb/lvj8faR619Lq3lGGFh66OEH8Woxnxm0YcBe0Vdncll8z1uT6KIl91oHQ+NjrVrwjmn6ppjY+xfW+lbogq/xny9yo8cdOq2Duq6Y02M7h6VppjLxdpt6oIKTdO4Uc53eUWmXIVejluK8nmhEdrxozvWM7x2g1PPm/mHA87jzXnEDusmRe0I5zwk8mU0+nV8azocnPKc3KUdL+9ocyoOWPmuFJM0TrPMQazi+ce1al+RPUBX0aFNWjx5jvL+OsVkvnkvYGyZUMVcOahFC7KV93apSt/OU/bcdOV+FK9Z/7xQie0eGL2ZX6Hc1aucz7AGPt24WBPm5qnv/faa+VxTHquxmWvM+pZo/dzFyj1aYi+ft3aO0p8rV/zsnOYR9P/KiWIe3L9bJR+Utz4I2eBZypkdL8++RcpYm6cikzYlR3NN2mSZk7Jkrcm0Rv4Pdz2N87kaPny4hm/r4O8V5iSpdN0cLd5WaNa/RIXbFmvKcrODjVqjFePdysXdGXT0cS0yJ5El9rrvMHkwWU99ep+SrbQI5Rr/SH2Onz5KW2nyqleJNs2eo2y73DnbMWNtkerjTbo/HLibmnROna6YC8UqvhBjGhQBd2hoRex/tZpzpcp7vdB8h3XPig7kVySEkmdtMuu9aLtmxXuU91iGsk2FbOVF0b5szXkkV+W9U5Rjl0d/LfbBBYuU52l/H7TuFmOV/ar9Zj2X5qrwlHcfztAOT4yS1y7R2FYuoQlfvFLsQlaoxx9zv+uUOUCZfXfyBo/uG2WVBZ/rsQek6TF73bKa9ktr+dylGco1ZWNs5rSwKvmEh03d4E1Xn7I4IcvJnyX3O6ka85PHtL2pPjCN7aY0seq1WKU8Gck0CRSjxAxrPauUlznFLUdu/v9ihz0WhVMfRVqcpj3VXK9uOtScPnb5/dE8v3015ifz9cSoGJU8PUNz3Lyx1jHjsYOq8mvcdfV+GKs4q246nKfdJp/KOzSwcTDhpUdIQjrOGN4G2bsmPR9309Y6Vs/dJCVZ6dWsK4/r1o0CVqw1n3Bqvea4dYO9vnPXm5o2sFKJdHqFWVe4YsyaNZ0X2HXFFGWZRl7y2hXNXekjdqwLc18NNf/ddI8p2aQZc9063d6WGcp+u97/HKcrDbDuAiUVv1ss3RVwl7NI7NcDpimnqXxZN7vwbqeTZwmPhLid4aSX2bdmLbeWbS7Tzvljhh4/aorGollKCaNy9R4/ffM0eD1o6cj5UDusu1P98yzFm+2Z8YvmfTTD1BXlQT6vfJs5HzXnpLnn3RkhipvwmFPOf+k9drpld1GuKnqN1ZL/4X5PxMtutI6H5ps72K4J/Zyqa46N3sb8jl+Y8yS3Htxhyvei03FO3dZBXdqGtO8QWmHqmgrFPJjSMqAaoXIVcjkOIrrnhUaIx4/uWM+w2g3WefwjzrITMpvrqODnEUGEcR7SFWU06nV8axoaGhrDma4czmwcNmxYSNOWD71/d6XxzUwzL/PNxisBn9dQ9WZjprX81nP+89ubPtwS8B1munKm8ZVfTm0cbX//vY0PzF/d+OuSK+a9i41vzDbz/umNxj/7fkZ7k/c7zl5pPPMvyxun3m997ujGqb/c0vjbii/9l3W3I/Ow9X0+893pytlXGpdPHW1/3rCRDzTOfeLXjWeqzHsX32h82Mybe+DP/n9z7Q+Nb274ufudwxpHT13euOXYxcYvfZdp+LLxD3syGx8Y6Wzvi2XWPDeth21pPOe3rFmHErMOMx9ovNd3Ha4ELBPOerrpE3be+ZSHixVvNj4931mne8fPbVy950zjla8Clq+7aNJirrud3rT4Q+O1r75s/NcN1no+3XjmS3fZYOWiI58TzmTy6rdbveXDTPdPbVy+9beNF+uCLGtNX/2h8ZWJbXyfuw1+ZemrPze+Y9bdKduZjb918y30/GpjHwxpCi/Pzm211rNlGWyaTF5Yafbw+Hvtdb93/MN2mv3hWsByQfdBs28vDW8fvFLy68bV7jo31Q3mM/2Wa/XvzzVusf6uRTkPlqZfNl48/HTjXHe7vGXB2q4v//Vp+7ufLvFZ76+uNf7BLP9zbx5665c/XmteJpzpKyedmtO1lX3KWs9jW/zqg4eDfW9baeoeC4Lua+1N1nruWd2cTq3UR+3Vq61OrdUD5hjx6yd869Wft5I+ZgpYR6u+eMUcT87YZfvpxn/12Xcjsh+62xpYzr4s/3Vjpjc/tzvvtbZ/OXmS2fim9d2+70UiPUKcQjnONKWtz/HtFWt/tNczYP3DOK63Xu+4+3CQdL9y1tQN/+TmnbW//suZxnP5raRjRNMrjLqiaT+46PM3rdRj1hSpY6Y1hbqvulNI+W+ma3/8beOWpnz1rmPgOU74+0s407Vjy+3vbnH+5U7hnA+1uk9a5esX3u009fsvvOXXd7n2j8+hpZcz+eWB3z7Tctn2J+dY0VQHmWPK06Yc/mtr+1q450MhTNfK3mg+flv5sOHNlucKZnLyoIPHpIBzbt/9MXDZcPIipKnTx8MwzlGCnlO10q5po1yGdE5lLRdu2yeE6csKk/5L/cvDxTp3XX3ToI26zSkrHT/WhDv94V8m2Z/pd/4XMHW6TrSmkMqx+xkt9t8QzwvbWodO1suhHT8it55tnVuGWsab1sct504d+YfGP9jnEQ83vnGxedmg5c5MIZ+HdEkZ7Zo6vvXzsfanv7D+ceNUCGT1DFqQp1kvd8WAhN8Nde9ma86lWSr4p3CipTUqzJqg9VqjY1098CkihDwDrMsHSjaOUtaxedp5cmFYl70BHfZ5obImrZfWHtPWidS+QHB1Kl47R570As3zGdwePmjXAN3C85s5mvFcH+Uc26qxHLbD8t25Wx+639dVKj5eouTBHb+TBQB805S/nOoMRBs4eHDte3rrmBQzKTLX1QMAIuRSsQo/iMQg6QDQvprjWUqdsVh53hsbeX1doeJDFdJd9ymRwFTYCE6h4z4tVnGfNZo1LITragHgWyIheZpiP8lXdma2dtjj/rnX9s9YpSIla8XDoY0VBwDoHhUni9V35awIDJIOAO3rM2ycEq+UKjfTOxalNWaUNcajNT5VvGYtSZM1YjDCQ3AKHfejWdr6qxTFNd0eFgC+/WLuWqide3M0Pc6jws1ZWmxOPLJfLlXsxBy9dmSr0vq7CwIAvhESZm/VmvtpCgLoJreP1dbfvKQl90qlL2fb54pZmwtV9cOFeunIAS0ZQqS8IxhzCgAAAAAAAFFDzykAAAAAAABEDcEpAAAAAAAARA3BKQAAAAAAAEQNwSkAAAAAAABEDcEpAAAAAAAARA3BKQAAAAAAAEQNwSkAAAAAAABEzXcqOFV1dJVSZ+xWeb07IxT15do9I1Wrjla5MwAAAAAAANBduiE4Va7c4cM1fHiqZsxINY9ZKvzcfStQXYWKXs7WYmu50ROUsbFQnuvue+2oOpqlGZv7KGfnPCXGuDNDEZOoec8v0VebZyiLABUAAAAAAEC3Cj84ZfU0esQJHmW/XePObEuiFhad0LGtaar31LnzgrhcqKxJc/TUJ3dryXNrlKYalR9ar6zfVLgLtOGT3cpaV6q0DY8pOdad56Pu01KVftrGd/dP07Mb0lS6Lks7Pgqn2xUAAAAAAAA6I/zg1CfvaddHddL1GhW9XapQwlMxvWPV5454xbuvW6pR4cb1Krkep/mPTFNC/zjFf9/q/hSrpB/EOYu05muP8p/dIU/yCs1PDt5lynNssRYf87ivgotJnq8VyR7tXpeniq/dmR1UczRLw+3eYu1NuSp3/yYsX9ep4mieilvrgfatYPI8y6RBVmFIZejbz93eNvO8SvmPWMvM6KIgaSjr0MU+L1SWKftZR7+7uV7zwQ7lf+S+iCi3F+q2qOVe1/i6RqWHNmlV+gSNcuvG1BlztGpbkSra+E2hfeXaMdp83tpieT+m6vBi8/lzlN/24cBkYpFdTqf82ufHkbDqXXNcmuvsa6WdPJ4AAAAAN4Pwg1OD05QzNUkJg1O05JEU9XFnd0pNqYpLrCeJih9gHm5J0Ky9p3T27AmtGR2kK5SPupO79MJHMZo2c1wr61KvupAuDeyjcTOnKcazQ7vf7VSLqEncqGma98i8NqbEDqVfzfFszVlX2tTgwnfEhSLlfWT2gl8+q4V3hXNtKr4xzudqQuZuVRGQCM31cuU+PEGLN+ar+JMaU1s76jwVKt5n6rlJWSq87M4M1+VKlZu6P+6OODlHkXp5Pik1j0mK/749o3Xm+61DUuIA748j9SrdNkVzNtep7+3urLbUVer3F8xjcrwG3uLMAgAAANC68INTt8QpZeVLem3PM5o1OEIN6K+/cp/0Vd+2Y1EBqlT0epHqe03XuGGtrUulKuzAV/tiho3T9F5S8YEi88mdFz96vhYuWNjGlKJ2+oXhO6OP0rae1dmzS5TozvFnGr/HdunqqDXKmdp6H8POaW8dgO5V8Xq28jwxSpiZowPHrB8krPJ5VqeOHdDWRxIVc71E65/I71h93D9NL5nPKvinBHeGeywYFq+49gJGw5bY65Fzv/eAVKnyk3VS0sDQ6uz/rFCxeYgZPLBDP0AAAAAAN5tuGBC9C10q0VvW5TMTkpTQSmOjvqRQu0L95f2WBCVNMI8fvaWSS84soHvEKOmXp3Rqc1r7DWfgO6FGFR9VSYMfU87SsYrv0/wDQ0yfeCUv2K6tM+NMfVyokvYuwwtFXZUqzbEgZmiIASZfNR793vxtXGJ8SMGmms8q7F5gKT/sqkAzAAAA8N0SXnDKHS9m1KQ5mjF2eKvjBdV8kK9Nj5tlJk3QnAUZmvN4rgrLqpou2WjmjoEzab19CYWUpwx3zJFQxlWpKXvPHjsn6UfxpmnfUt0n+Xp8db7zvfsynM+1plbHOYpR/I+SzGO53iuPwpg4n5cq78kMTbDGSXHT2Rp3pfmOhU56TVhnpVaJ1k+ylvMZP8gau2Vfthb7jN3S8jPaV/dJkXIfn6FU+zNGacKCbOV9GCQ93O/LmDTKSdfRJr9NXhd92onxkqw7Nm5bpTn2nR2dbUidsVjZ+0pV096lUp58zTHL+40T08Qdz2nybvm+G9q2uuV0W6mq3t2kDKvsm21ddcjjlK2Q0qH18Z5qPjL7S2bAOnzQ2jqYvzblZHfTOqdqxuO7VRrSODhB1sHdp3PP18vzdq5Wuek+alKGNh11tq/OrF/2ArdMjc1Q9iGn4d3kfK79N7km3UpfXeXUDW2Vm1bUfJDX/D32dgUpS5FYX1d4ed9+updvM/MX5NnP8xZYy/jfmdTevsw5Tft3m/tLjU9dYJbLerWN8t+ZfcZHpNMjZLV1+iroesZoYGKyxs5MVp8e7ixbvapO+ZQVkz4t7+xap+K11ns7msu625sp6fs+oamv61S6bYa9vXNeLnfLSYV2TzZ/u7zIbK2pVn4zR8MnZNvHqKrt5vnwKdr9ib1gqyrtLloJuvuHoXUF9k/7Vsq+lze/feqbjCfzVNpiV3PHvdpYovrrHhU+PcdOrymvmhrwcqEWm+fZ79b5f7fZXza9y11rAQAA0P3CC071GaecomN69v46eWrdeb5MI73kuRmakPmCKn68QjsPH9NrL+/Ua79KVtVec/LsLtasj8blnNCJvStkhYSssUBW7DWvi8yU0f6FR5UXnZBWgm9jw1W+b44WbyhU1a3ujAe3Op9rTTmtjU8lxX3fuQSk5GI3n6B/XqSsBxdrx6dxmrX6Jb20batWPBBrBz1mPJovj914i1XSIy8pZ6a1jgmatc5aLs0ZaP7rCuXNnazF2yoUO2qhnt1m3tu8RrOGSu+Zz0jf0DwocFuqjq/SlPRsHaxK0Dzr8zev0LhbS5S7aLKyjvqmSY2KHjfft9OjuBlPmPV4SVuXj1NsmWk0Pryo/QGHg6kt1vppc5R96KoSHlxhf+ZL61Zo7O1WY2yxFu1r586N8clKu8tsQ0GJXwDK5ilR4Ucm1R5OMSnnCH1bXac3KWujR/f90trWNKUkWkHRzqVD1dEsTX5kk4pM2V/ouw6Zk5Xx6yBBlf/YZcrJKpUOmKUc8105mcm69ewOLX4wW8XB9skQVe59XOnPVSguPcdZh94Vyl+Xrqee36SMR99S37QntNUqTz8webExQ08FGZftvY2LtPg3dbovc6v5jMd03/ViJy2Ptxegqlf5y3M0OTNXJbeO04rNVr7PU0LVQZOG6XYgKlBn1zfsvA8h3eMnmM9ZmmI/T1lqnm+br6Te9ktVmPrI2r6Kv0x28tns32seNrXeWVNOHnnKP++sumDqYuWelMYtN2m58THdXbZKk597q+U+3Nl9xtUV6dG+PrrvgWTFXDZ/t3S3SoLczbXP/SuUs3ShUqyxCC1fV6nY5POU5bkqOu+OUXXdubNrcz1p8ajilHnwuQzP6c0Up7t/6Nb+VmBqe4YW76tS4qKd2rkg0fmRw+0lFfOjOPs4cbUqMA0TFd/ffRqUR54y6zGEsa0Mqw6YYNI+76THzV9zfD1p1R/pLW+MYI3RlWHye1+xKj5337O2/3iuFk8NSHt33KsEsw5vrU3X+sPO9qclJ6i+ssI+HlfsWez/3bXlyl+drXx6DgMAAKCbhRecuiVGsb37KOGO4Jcq1Lz9lB7/jWmN328ahv+UqFjv5Um9TcN7ozcA5S8mNtZ8Zozb88k89rZem6mXPaMNNar6T+sxTuYjWkic/Zpe2/OanpjozohxP9eaYlsbn8owH2Y3Zv6j0v7VvDNK1k1wftluZco97y5oVJUUquR6klZszNGsB5KU9JNkpWW+pJ2/NOn4xXsq/cxaKkZxd5n37rCaTH0UP9RaLt4e7Lf+o2IVmYZJyrqdemZBmpJ/Yt4blWYawjv1rEmD+rfN57e3Qaahu+PZYtUlr9GBPe56mM9Ysu2YXprZ12yPT6Pl8nsqPFWvpKXPKGf2WLMeSUqeuEQv/csKJfau03sfhh+dqnq/WL83qb/wf+3UmqnOZyY9ME0rnt+pJYNNk293cYteR/7ilDwh0e4VUBLQs8HzQaEqTKMyLdktu+Fsq5enXuOef0nzzLLJExdq7I/MvM6kw6V8ZVu94Eat0WvPr9A07zo8X6CtU6Xy7abRGNhDo8Q0KZe/ppcynTweOztHL61OMQ3UIhV/2LJxH6qS0lg98fpLWjIx2azDNK1Z95hME1ZF+ys0fY9Jf3u+WbcXn9U0a/7JlgPye67Eac0en8/Ys1cr7qpXybO7VNoyvtTskzw99WqF+s58Sce2LVHaKCvfZylnzwGtSfYo77EXWvx9p9a3I3kfQrrH/tB8zo+dUEjcj83znyQqzqpq6stVXHTV1Is52vnsQmf7rP17gXm9Ls3+jML3vTtnvUr3PmXqgmSt2e9ux0/Gap5Zt60xJSp0l/Lq/D5jdFF6hKLP+Ge1c1Givvpgh7JmpCo1M1eF51uvqKqObNKqox7FDJmnlw67Y1SdMuVklEnoj17QwQ/dguIdDN3nMjynN1OyEqwqwCcwlfyrA9r5TwnuMchwB0P3XpKXtPSsdj5ivTtWz5ywxsTKUUpbHaLCGAy9/iOz3VYdYLZn64FjOlXijLl1Ys8KJffyaPfrvj8qmLKxfZHyriSa8lDQtOzZkhN6bWlyy7S/7HHyvmiH8v7qCR04ZS1foHmmXFT+yflhx/PJVxq3cqcK7PfOqmCl+RzzV++VdfboBwAAAIQncmNOfV2uvGdLzOmzOSdPTnLvjuTDnKS3ERLqgKuqqbQeTePD7Z0QEb37OD2RrtW3aHyHq7279SW26L5VpYoK/0ZB/IM7deLAVk0LHg9sEjNkoV47ckrPPBCY8jFKuMdqcKiVS2ea1ZwuVNH1GM2aGzjuUYySJs8yjf9yFQYM/lL1SYX/pUPx07Sz6IC2dmBQ77jxOTpQ5DSe/NwSr7uHmcfrbUU4HHGmUZ1s0rHwfd/eDh6VHjOv7xqnZLcHRke21TRXlWgFpILoSDpUvJtnviVBjz0asA63xCr5QSvY4tGuk4GhhTRNf8C/p2BsYrId+K0LIX1aNWGcUnzLY3yCE0weZtLTdxNi4pVg5cUXdfa+7ith0WNK8+1RYvIt7ZFpJt/yVXiq9b2pvGiX2dJkzXs4yb+OuCVO46Y7f18cGJ3qxPp2LO87ke4xiVq495hObRjbol6MSUg0W254y059qYp/Yz5v6nSN8+ud4103f5HYZ7o9PfyY+umfdurdwy9pyQMJ+uqDPK23LteblKXdgZe2mrTJe75E6j9LW19YqKT+bmkxeZz2qBOcrPrcLWdVZp83D8mDBjqvTZ1QZQV6Bw9UXEy9yu3AVI1SnjT76GT/7aj6zKo7fC/Jq1JlmdmmYUlKaCso5RXyYOimntq6Wx53e5Lj+yjGTf/YwdM0f6p58u7vVd6UnCY/fnlKZ0/u1MKfxDUta9UXA3/gbENsL29XYZOvn/7efINU2Xeatq4eq/imnatGnnLrnRglr92qNVPdIKoRd4ebXn7lAAAAAOh6kQtOmRP6UnfMj4Hfb/uUPDLqVdfRW4yH4kJVp4NT7d2tr+lSFSMu2TSqe1Up//EJGj52hlZtzFfReY/q2gkotfC1SZdLJi8+KFHhvh322F/pm51fydtTVWktZxonV0rN3wdMnqt2w7rC444d1v8+pY2KUdWhVZqQbI2Rskn5b5cHv9wzXPV1qvGUm+8tUv7LucrOnKGsfe577bk9RePuN9tiXdrnTTtPqQovmIbqlOa7I4a1rV6D49Q3sNHW4XTwNhBbufTHDbbUXwjowde/r3zGjXaYdbJmeWquOq87oles/Rkt/CiuKc0cpvHb3P71k2R3SfEXc0eCHXwp/rS1HmQ1qvwPK5VvVZ3Jp8C8+P3leruBX34p4NKyTqxvh/I+QuleX1ulCvM9JUfztGPjKs15ZJM73p7L7bUTdBw9bwAumE7sM9FMD6+Y/kmate41nbICuguSFVtXoh2Zk33GgTIumDrNHGOSM2YpKbBnbfw0vXb2rLZOdI49nk+t0FSSEga6K1nvUcWH5nFoH13dlq6MfaY8jl6hFeP9S4tZUJ5PnL9t2i/dv40bnhBQtoILeTB091JjXc7TYu84ZD5Thp1/VbrqW5fUV6ncKjsvb9KquXM0x5pmpGpUVr55M0ax/6U5U5yeYnGa/0hA0PHrSueSx/7m+BSw/TVV1i8+Ppc+AgAAAN0kcsGp/2MaXe5TdMDtY7X10E6tmZ2ieHlUfGiTshfMUGpyqha3NRhyE9OoOrpec+4fpdSpc7Q4M0vr9xbL0ytZ0ycE9rcIxgoSWI8Vylu72Px9wGQNdmy9ffmqG7Tro7HPHtbOtbOUYtpgnpP52rQ2wx4MOzXTLNuRq0KsgcVfXazUUamaMCPDfG+2XjhSqvrvT1fa/e4y7YpV8ugUs57Nl/Y5l/SlaNxIb4Mr3G113WYaf+7TZh1PB29PtlsDA15tGdhHfd2ngar+X7/wQViSB7bS7L6llUhUC6Yxf7v7NIj6r9wnLVRZbXSjWLmB+WBNG52bF1Rc8Q8Vd3x9O5j3nUz3+k8LtT59lEaNnaI55nuy1u1W8WcxSp6W5t8b6nqd3dslpkeI6d7pfSY66dGq3vFKfmSrjh3ZqYVDzFq9+oIK3UsKPRVmu0xq3XdXe4GTOlWWm6NRr0QN9PY+c4N+MYeztfjQrUoaYsrPyYMqDrxcUZWyYzqjEpovyXP/trkXVttCHQy97tPfm1Rvz0DFeTf3cpFWTZqijHW52v1qvoovVKjCmq7EuL2HU5TwA3tJwx33arCplwJ71X3m9CqLm5Lc4i63fpc+AgAAAN0ocsGpXu5YTd3GfF/gSXdI6uT5oLT9ni39W+mZ0ZX6JCot8xkdKDqrU4de09a1s5R8+1cqfXmxHj8c0HMkQN27Tyl9XaEqkxZq56ETzngkRQf00pML7aBJ+/oozm7YeMdVaWXamtZ8qcotfZQ4cYmeOXBCZ08W6DVrAOpRfezxYxavzLcb2eGo2LdIi18uVZ8Hc3TgiLMNp468pmdWpjUNLB2K2NFpmma+vbDEavq5l/Tdn6Lkps/owLa2pYPp4A1KtXe55beD2aeC3anNbJsVqojz6dHhr4/ircvP+i+0e74EzQdrymz/BgmhiXDeh6K2WE89sl6FnyVp4csFOnHS+o4TOrAtRwv/PiDg4daj9Q2tRvP8dH6fiUJ6GPadDYfnqrS1sh+bqHk/n26eNN85te6KtT/3Ucxf2i/b0HIw9LrPKu39sF5JWvHqTr2UlWbeK1feuwHhoYDB0O1Z9uVxY5WUGMoRIfTB0OuvO+G+WS8HSe+maYmS7HqiTsU7rYHzY5W0IEevmTreurmHXc+f3K75VhBu8N0a6I2HueNexSQnOJep+6ivqrSDYil3Bf5o4a77MPM33X7wAwAAwM0ucsGp+EQlu5daVFZ1pNtMuGIVc5v16FFNWJeSeVSYuViF9mDqQdTWmCWMNnoGRF6Nip+eowkzdjf9kh4zIMEeWHvrqyvsy6LK20zTOpWeLHIaXr+cp8QBJm2afhGvV5UnoAHWir5xVmOlWOV2T4oAnnzNGTtDGfudz6p5d73mTJrRfEv1XnFKsAZR3rxXK6wV/qjK7vESugqVFFgpP0srlo5V/O2+21Clqj+6T0MRk6SUB2NUdaREFe4lfWPvT/br9RTOtral4+nQx+wyVtPZrMOnzhw/Js+s3g3tj1vzzVH5Wcst9d4VrPVeJ33V12o9X/69KoIEt+pLNmnUpDnadDJydUqk8j5UdR8Wq+i6lLR0heYNifO72YM3UNAk3rkMsvTDCv+eSpbPK2UPs9ckMvtMd6eHpc/3rQsUi1USeDc6H1WfOVsb91funnurFTExywcGtC4XKmv4cE151V3HIIOhez61RoFK0JJXt2raD83nDE7RrMHmO3wv/7W4vaR8L8mzexP5Bn7aEsZg6DG9nA/86v9rmQae32Ro+PAp2m19ls2j8qNmuWFLtOaRsUowdbx1cw8rv+s/LFSetdyPfS5pdQdDT2sRgDLbYw+GHqR3lDegNbQ5qAcAAAB0l8gFp2KSlDbPOdstOdXyTl71n3mcoE/E9NHA/249VqmuRSuuWcx/cU+zv3Z7ItiP/g1EP+bD7J4uP2j+5bzr9VHCj2JU4ylUkfduU15mfaxmecueJ76NtFt1q93OqVPdl/aMJvUX8rTrkPWsRvUB7wWKHz3NNFnqlbcnX1W+Dbava1T06guqqK3XfUOdxk6fhATFfO5R4THrUhsfX5t1uGYew+55dqtpbFmPdaoPSIKat3fpBbuR9pXqAt4LLkZ3j0pTzOVi7X7ZuqRvmsaN8m9ZhrOtbelMOiTcP0uJprTtMuvovw51KvmNWQdTTuePilSPoa5XsjfPDgo0+dqjg6/mmzSYpXFJraVCjJLGzjJbWqLdr5t6wy8dKpT3Qr7qP4/T3UMjtzdGKu/b1OA+Gre6QYgWA4VfN9tnpY9R86VbiZl6dNxsU2e9vUO7z/suX6/yA3l24KRZZPaZbkmPAHFJKXbZz3tskXac8qjGt9xcr1L5ofXKetpsrU/Zif9hivm3VLu3F1k3zrTVXSjU+qXrTboka94kdx1bDIZeo8oL5g96JevuH7qzFK/kSdadPXep0KfObTkYutubKL5PaMeDkAdDtzqHJZm1lvJf2KQi7waZbS99OUPpz5Ur5oElmtbUOzhGsVbvqD8Wq9S7rKknPKd2aNEv8+xjVkJ8XFNd4/T2StBA70jnTdyx7vrfbW2Sv0/KVWQe2h0rCwAAAOgC4QWnrMG2a+tUVev2YrhmPTeNcPdcOWH2VueW3u8+pWyfy9DqLuTrcfcE2mpcVPyxxnyO80f11t9/7gRgrBNn67n1HaEEIeLusE7tpYrPmr8rUMJPrMs3jMPFKjHtv7qSYh2MT1NyUyPFn9M4MQ0b712LXM5lKMOVe96dEQLPyV3a8fKONifvmCdxEx7TrHjTWPtlhrL3FdmDEZcczdXiRbmq6DVWS/5Hc+Mw9r9aW1SqvNcLzXIe0zT1NvArlLt6lfLetgYzLlL+xsWaMDdPfe+30qlCVf/H/vPW3Z6mFWuTFVOySTPmZjufc6pQuUtnKPvtesXPzrF7G9gGpOmx2fGq2p+ljLV5KrIGT7aXzVDuhRiNzZxmmkbhiFfKNGs9C/X4Y7kqPOV83o61czR5g0f3jbI+LWBw4DbEDBun6b1MQ/HdCsU8mKIWsZFwtrUtnUmHAdOUY9ZBp9ZrzlJrIHXv305R1iFTdh8JcR2+IWKuHNSiBW5avp2n7Lnpyv0oXrP+eaHauiLKutNkjp2GizVlqZv39t9naIfHuqPYEo0N47LOdkUq74P5qzg7vw/u362SD8pVZeqxmKRxmtXf7IHPP65V7r5ddGiTFk+eo7y/TrEDFM1jasUoMcN8f7xHeY9564Ii5a3N0KJDVU3BB0eE9pmuTI/WmP3miZXmO6+Xa/fyGZrgOyD46CnK2Fhoj5e34rnmshM7epYWxpstejtbM0Y5y6bOXa9CT6xSnlyhNHfMsxaDoX9d6YxrZtLDN+wSd/90pahe+Se9geUgg6Gb2rXKCvIdX6XU4aO06u22e/B5B0Ovf9Xq+eSzTb7T2mLzqcbt4zT/EbNGnkJlzxjlvGe2ffGr5dKP5mn76hSf3p4JSnk4UbpeovXeZa0bMCzfrYpbnQB4n79sXtoZOyrIpYXewdAT453jog8n3QLHyqpRYZa13lkqDHbZLgAAABAh4QWnPtqh1LGpytjmXj5xIVcZ5nW294T9ljil2YNDT9eth7PMsjOUsSBDqw58pVkvOJenWQ0A6450qWN3qNz8t8P8feojuXI+sUK5j5jXvp/Zhj6D77MbgqWfeNzGRRCDZ2nr2mlKjC1UVupwTdkj5Tw/r8VAsA5v4yRR90Wgp0bVqXztfnV3m5M7nIqswXuX7HxNaybEqmJvtj0Ycda29xQ7MUevHclRik/jPGb4LD0zNVE1v1lvlntBJeYzYoYs0c7tC01jq1S51sDGK1/QW18m65kjJ/TMAiedfn+x9SCeV9zErTq2N0fT4yq02/qc5abx97l1J60D2puZ6NM4No3oRTv12to0xX6yW9nW4MnLc/XeX6YpZ+8x5dzv28AJTZ+Jz+qAyauEywe1frn5vKfy5Ll9lnYeeU05P7V6EJWqwttroD23JGpsutX8ilHaqLsDGvWO0Le1LZ1LB2sdDm9fYvaNUu2w18H8rXm1ZNthvbYg1HX4Zpj+3GFtHV2vwufMdqw1jea46cp5fa+WDGlvK0waZh7QsW0mHb56S5usvF+7Q6W9UrRku/nMiYHN6M6LTN4HEZ+mNZnJii3doazMRSq0LveMMfv2qy9p4WhTgrdZ+3aWXiiqU/K6YzqxYaHuswI/ZRVu8N6w6oI9B5QztY9Kd1rLP6W8K4la8eqzskZh8hWpfabL0qNVMYqfar7zwFYtGZ+khNu93xCjPj9K0tjMrTpwxL0Ez+uWBM0z6bLG1H197J6vZtkh07Rmb4GeabrrXJDB0N0BwBMSB/rf0KB3slKsQeMPFarYDuAFGQzd1JxjlyY739crVglNo5MH5wSF2ta8HqbcL9irA+usmym4c2439VbmSzq8Z6ESA3r3Wum1MzNF8e6xIDbeSidr2SWyLpJsvkui29vLbztcraVFU7qZvGhnrCwAAACgK/xFQ0NDo/u8W1g9pRTrOzZKZ1Qp/5Ep2vSpaYy9u0SJnf3Mr8uVe3+G8u5Zo2MRHgAY+M46n6vhC/LsgZ2XDHHnAQAAAAAQosiNORWiGHcQ18iI09gZKdL1g3orcKymDqj/8C0dvB6jsRNTCEwBAAAAAAB0g24PTkVa7P3ztDC+Xvn733LHreqoGr21P1/1dz2m+aPbvhQLAAAAAAAAkfGtD05Z45DMWjtP8SWbtKuk472n6kt2aVNJvBY+Pk3xEevZBQAAAAAAgLZ0+5hTXaXqaJZmbI7Ts0dWKDncjk+XC5U1c5O0/ECXDL4MAAAAAACA4L79Padc1t2mDiyvUXbGDpWH04Gqvly7l+bqVgJTAAAAAAAA3e4703MKAAAAAAAA3z7fmZ5TAAAAAAAA+PYhOAUAAAAAAICoITgFAAAAAACAqCE4BQAAAAAAgKghOAUAAAAAAICoITgFAAAAAACAqCE4BQAAAAAAgKghOAUAAAAAAICoITgFAAAAAACAqCE4BQAAAAAAgKghOAUAAAAAAICoITgFAAAAAACAqCE4BQAAAAAAgKghOAUAAAAAAICoITgFAAAAAACAqCE4BQAAAAAAgKghOAUAABAN1WW6cNV9DgAAcBMjOAUAANCNblRf0PEXF2hMUpKyT1S7cwEAAG5eBKcAAAC6w9kN6tFjgP5udra279+l4gjFpWovXlB1g/sCAADgW4jgFAAAQHcYvloNDZdUfuKg1ox353VatY4/kahdH7ovAQAAvoUITgEAAAAAACBqCE4BAAAAAAAgaghOAQAA3KQq8xdo5JBBGnDnJG05e0OqLtaWjDEakzpGiQMGadKq/brwhbswAABAFyE4BQAAcDO6WqCnn47X5rN7tejica2cmqhBs4s1+Kl39M6Jd/Rve6bo+OZ0rcyvdP8AAACgaxCcAgAAuAlVn3hdx6ZP0Igb1+TcOHCEcnbmaHw/+4V69uppPx6/dMV+DOrD7Rpz3yD16NFDk/YQxAIAAB3zFw0NDY3ucwAAAHSDM0/10MgnpSn7LungQ240qC0f71L60v1uEMlf9UfFuvGDFMXHujN8jVitI0+myAkzBfiiVrU9eqvn6ZX63rgt6vfkaV16YoT7plT2fJKSlpe1v47vZavH3x9TznuntXp40G8CAABoE8EpAACAbhZ2cKpV1dr/0ABVZjVo9XB3VpjOPDXArEu1lr31hTameoNLldo1bpAWnBivlz8+ovl3uLODsINYm5N15KNcje/tzgQAAAgDl/UBAADctMpUUmD1x5qie+706fV0vkDbT5jHcVOUcod0o7ZWNxqct/xVq7KsTBp5r+4hMAUAADqI4BQAADeVGyp7cYGW5Ae7QCyISwVakrFdZdyx7bvJc0HvnzePqeM1YoAzy3LmyBaVmcf5GT/VwBvF2nDXSh2vdd7T1TP2Hf0WrFqpSUNGaeU+acSIwepM/y8AAHBzIzgFAMA3Tpk2DOihHgMGaZD1+FCwsYZqdeGNlZp+30glDhmgAakrddzjvtWqGzrzVKomlqYoa1qIoYQBU5SV+r4mjt2gM9+IANUZbejhkzZPnXHnf7tcv+E+uXHdfRIdtR+9rwLzOHTc32qgM8uo1bVqpzdVSlJPle3Yot89ukjj+5pZX5j0/x8jVXznJuU+s1F7/zlFlRqq5KHx9l9+21Wfv2C2HgAAdDeCUwAAdBdPgRbc2UODJm5pJ9AzVKsvNahh30xVBu3gdENlz0xU4vLL+mneXuXcU63qk1v0szesvi6tu3EiW9N2/K1e2TzTJxDhKHtxjFYeDd6bauBD2/TKPds1bdXxb0DDfYRWNzTo6o7xraTNN9jZDfZd7axpzDPOrIIM5053PXpM1/5LzrzudNnz71K/FM1PGerOsfRWys9yNfNvyrThH1O19otlOrpqqHpawc3nH1X22Sl6+CHrtXTti2vm34G6545v8TV9DTdU/fFxbV84RknDsnU8CvkAAMDNjuAUAADdpLr0Te26KFW+tUW/q3BntiV+sKa4T/1cKtD6J85IGYs1M36gxme9rEULc/TKtDvdBYK4cUZbHt+ie57McnrABLhRW6zKVgNmvTV+aY7u2fEzbTnp7fITXb3/27fwIrLhq9XQ0NDKdFAzfS6r6y6DHz2thkvvaNEQd4ar55BF2nv+Tyo/f1pHnkgxJcBSpt/tKJPGeS8BrNXHZwrMdqVoaBTW3av24gVVBx0Pq33WwPQ94v9O6U9u1+s7i4PeDREAAHQ9glMAAHSTftO26fTOjcrNf0fLhrkz29LDfQz0vyvtS7G87/ccMl+5L67W+Dtav41/9eHnlH1+vuZPDuwzZbEu43KftuaOn2r+3Gpt2Py6Kt1Z+CborRGz9+offui+7EqXKnXOlJOhI36s/vaMj3XusHk9/m/V8+T2EC4r7QrVOv5EonZ96L4M04gnGtRwqVzvvLFGE9x5AACg+xGcAgCg2/TWiLnLtGjyYPuSqO5TqWP7CqTZ43VvkF5Tulqsgh3u81b1VsrkRdJbBSq+6M7CN0BPDZw4UyOC5WukDRioe/pJX/XsaZffyjde0vZq6W/vkoo3v68brQVTAQAA2kFwCgCA7uCONzRoSKIGBBtfqLpY2x+dpEEDEjVm3BiNeWiJtp+87L7pVa39D/VQj/uynZdPjnTHK9qgNocFv3RGx9+SUkYODXJHtVqd2fGcdplnBbMHuJ/XQxvOOu/66n3nUKXouI6XfrMvfqr9Q4E2ZIzUyPtMOpr0HpmxRcc9LS9HrP3Dfq2cnKhEs9xIs9ykVbtUsGelJt1p0uDOBSqISk+gb7IRWnZoo+L3rtXKVQv09MUULZs7UMdW/UzHU3+p8VG8tA8AAHy7EZwCAKA72OMNlSur/4WW49p8vEuTksZowxcP621Pud556x29s+MX6nlii3P5XpN+mvlGgxrey3FePnnaHa9otUY4c4K68fE5+3PuHRxwSV/1cS0ZcpdGPumEtqbsu+R+XoNWD7dn+bvjx7rXPBSUXdA3Y+SplirzF+jvhjwnzTuq0++ZdDz/b3plxDn97I5UbTjrs9YXdyl9SLp+N/QV/ZtZ7vR7r+iedxZo+u54bTyQqxEXi/X+x9y3LVDP4ct05PwRbXzmZb38xHwt2/knXfq4XAeXOgOkAwAAdATBKQAAus1tuq3FTc0qtWv5Ah2vnqJNT83UQO+lUb0Ha/4vFrkvOqf2qjVK1FD1/p7zukm/8co9f0mnn3Rft6unelsDZ3uqQ7hr3w0VPznG6QUW5pR9ooOhr0v7tfKhXapcvk7L7vMmdE8NzshRTuoZZS/aojPuR595I1vHzeOEMSOcoMr3RmjCJPP43gYV3Fik0w1/0sZx3+I70AEAAHyLEJwCACCazhdo+1vmcci9GtxFl0V5Llr9pgaqfx/ndcf1U/9B5iG/Uu1f8dZTKU++4/QCC3PKSe1YH5zKt3bZPcSm3BUf0ItnoH480jycz9abp63oVLUqP3L6r/X0HSfJfl6tc5Xf7MsWAQAAvmsITgEAEEXVfzqnMuvJoP5BxoNC6KpVdrrYedqjl/MYxOulH5t/e6vfHU5q32iwHxz2834a3K/9HlPesbmYIjO16+NdSg/Sy27MuHRtOC3tXhbsPTM9WfyNvQQVAAA0IzgFAEA0NdB0jpQbISRltZ3ePZUyfZk9Ttexd844wYsvzujYEfM4fJl+Orr9nlvesbmYIjO168752hukl907b+3V6pHSvC3B3jPTkykBvegAAMA3EcEpAACiqN+ge5weU7XXdd2eE3l/3S/FeRJCDMBSfXSlxrxo9+cKYNbQ+ozUfvprZ0YbunvMqX4aPNTte9YQJCXdbZ95Z7z9eMMKUo2br+Syn+nvrLv13fcznRuzV+W/Xaah9hIAAADoLgSnAACIpmETtMwaZPzEGZVddWZ53bgWmbGPevW2gjYFqrzivG7XF5Uqrg0WILqiysPmod9tav3COa/uH3Nq6HinN1TBybKAAdsr9UfrhoT9Funh0U4A6+N3tutM0nzlHi5XuXW3vvPlOvLMTA1mDHQAAIBuR3AKAIBu4/Y8sjT1YhqqRdtzNEK7lPlkQXNQxVOgleu2O89rr+mab68n76WAvvPaYPXOsnoDXfgseLDrzqRFdu+t98su6Ib579yZ97Uo6U7nTV/Vl3XBPAwdOjD642MFS4Mhi7R350z12/OctpxoDk9V7stW9omBmv98lsb3deb1i79Xemq5Fjy5RVs2u9OeAhWfvaCgcTl8tzVcbxqb6nqI+xUAAIicv2hoaGh0nwMAgC5S/cZ0DZht3UvOx5On1fCE1ddHqv3Dfm1Ys0Gvf/xXGjyglxQ/XqtTazVm9gb7fcuUff+37pn9P5Ttvm4yba8uvTGz9YDRjWJl3zFGuxae1iX3+/zV6szmlVq+c5eu3JqiO6ev1t4nUtSiE9HZDRpw33bNP3FROSGMy9Q1zmhDj5Et0iDnvQatHu48rz65XRt2vK5//6yXen1Rret/N1O/zFqkKX/js0VXj2vl6EnaYo2PHqhfipbt3KuN46IegkO7qrX/oQGqzGrO/3CceaqHRj7pvgjU3n4FAAAihuAUAADfeTdU/MQdGnN8mUo/7PiYSmWbk5T0/AS9czFHKd/mUabdYN2x2Ud09Knx6td0s7gbqj1foOxF6dr+nzk6fWm1fZlg2KrLdKHHUA12e2mhK3UuOAUAAL4ZuKwPAIDvPOfudEPPv67fnXdnha1Mv9tfphHLf/rtDkxZzr+vDdXShEm+gSlLT/UeMlNZv5giVZ9T5SV3dohuVF/Q8RcXaExSkrJPRGa8MLSnt0bM3qt/+KH7EgAAfCsRnAIA4GYwZJE2La/Wym0+41qFofbwdq28skzrMr4D97IbPkG5o/tp1//M1vGAGFLt+V3KXlWgEU/+UlMGuDPbc3aDevQYoL+bna3t+3epOEJxqdqLF1TN+Eft6KmBE2dqBL3UAAD4VuOyPgAAbhZfnFH230/TjWcvamM4d8S7elxLhq5Xv0MntHr4t73blFetLhzepf/1xpvO2FSx0vW66+o1eILm/2y+Zg7v2EhD3jGMpuy7pIMPdWa0Ii5XAwAANw+CUwAA3Ew8+5U+7pgmvLVXM+PdeW2q1P65D+jYuLe196GB7jy0huAUAABA+LisDwCAm0n8TO0t26bxoV4G1dBf458vJzAFAACALkNwCgCAm03P3ur9Pfd5e3r0VO/e35VL+QAAAPBNRHAKAADgO6Yyf4FGDhmkAXdO0pazN6TqYm3JGKMxqWOUOGCQJq3arwtfuAsHarih2tbe66AbtbUyawEAABAUwSkAAIDvkqsFevrpeG0+u1eLLh7XyqmJGjS7WIOfekfvnHhH/7Znio5vTtfK/Er3D3x8cUYbJqdr16ctQ0nVR1dq5J091KNHkracd2eGqmK7JqVuV5n7EgAAwBfBKQAAgGj5eJfSx43RmBZTujaclnYvC/aemZ4sbrUnUvWJ13Vs+gSNuHFN1facEcrZmaPx7vjsPXs5l2kev3TFfmx2Q8VPpev9aTlaNqTlpZz9Jm5U/pNT3Fets4JY6XsuuK8cPYev1qaJr2viqtbXGwAA3Ly4Wx8AAECEfCPu1vdFrWp79FbP0yv1vXFb1O/J07r0xAj3Tans+SQlLS9ruY7ntyhpfrU2FW1USisD5le/MV0DZldq44elWtoDWmwAAARWSURBVDbEnRmgcucYTf9ik0qXDnXnuK4WaEG/9bqzjb8FAAA3J3pOAQAAfJd8r7esMezLzrxuv3x4hG+QqFL//pZ1cd14jU/yDZ7dUPHBLdKY8bon1Ds5BlWmgt3F7vMAfVM0ZWGZVh45484AAABwEJwCAAD4zilTSYF1Ud8U3XOnzyV65wu0/YR5HDdFKXe4A5U3WG+U6f091frbEfeot/XSq7ZM2zPGaNLCbGUvTVfmziDjVHlZ41tNnqiVZ82n7XjUvvxw+k7fy/t6684RU6SCEsaeAgAAfghOAQAARMh174BKN667T6LEc0HvW4OWp47XiAHOLMuZI1vswND8jJ9q4I1ibbhrpY7XmhmXKnWueqji+/uONVWmLf+YpF09Fyl3R45ynt+rnGm3ue8Fccd4bTycrxzreeoaHXzrHR3MGGy/5dW/30DpvEeXre8EAABwEZwCAADojLMb1KOHdRe7HhrzjDOrIGOQO2+69l9y5nWn2o/eV4F5HDrubzXQmWXU6lq105sqJamnynZs0e8eXaTx1mV8/7vSXr5nT5/g1Nlj2nJW+tvUlKbPuK23X7+qsPWMtf6+RBf+03kNAABgITgFAADQGcNXq6GhoZXpoGb69FzqLpc9/y71S9H8FN/xpnor5We5mvk3Zdrwj6la+8UyHV01VC3vy+eorjxn3+2vZw/nNQAAQFchOAUAAPCN01sjZu/VP/zQfRmmwY+eVsOld7Qo4K54PYcs0t7zf1L5+dM68kRK8/hSffopxX3q1W/gPbKGTHfGpOqAS/s1fZhzGaG//ur9f7lPAQAADIJTAAAA3zg9NXDiTI3o1J3zwtC3vwarTJ7L3kGzjOETtGy4tOvE+3KGiLohz8cBA6JfKtaGjOnacNI7iFRP9bQCYjfM51hBrf699Vf2fEf1ZxesqJf6d9d2AQCAbwWCUwAAADe73ndqaKr07xd9g09Dtez/Pq2NtSs1PSNb2Y/+TLvsblBl2jJnjLJP3JD+zwUd21Og7DWvy7kv31A9vH6Zxp9+TumrinXP8gk+Y15J1ReL1S81Rfd0bugqAADwHfMXDQ0Nje5zAAAA3KQq90zSoPwp+tPR+X4BpfadUfZ9/66Z7y2S/735ApVpy7CJOverUu2dZl0wCAAA4KDnFAAAADRw2jItK9uugvPujBDdOHlM709KbjegdePsMb3ec5EWjyMwBQAA/BGcAgAAgPS9FOUc+qneXLNLASNLta6hTNt31GrZQ63f9c9hllvzvh7evkwjvufOAgAAcHFZHwAAAJpUHl2prbW/UO7s8C7ua8uFnStVEP8LrU6N3GcCAIDvDoJTAAAAAAAAiBou6wMAAAAAAEDUEJwCAAAAAABA1BCcAgAAAAAAQNQQnAIAAAAAAEDUEJwCAAAAAABA1BCcAgAAAAAAQNQQnAIAAAAAAEDUEJwCAAAAAABA1BCcAgAAAAAAQNQQnAIAAAAAAECUSP9/3CjbWrdI0xcAAAAASUVORK5CYII=)"
      ],
      "metadata": {
        "id": "n2U-3WzMCUJQ"
      }
    },
    {
      "cell_type": "markdown",
      "source": [
        "Se explicará cómo calcular el valor `tf-idf`. No obstante, en la práctica, resulta más conveniente utilizar herramientas implementadas, como el `TfidfVectorizer` de `Scikit Learn`."
      ],
      "metadata": {
        "id": "eQGWEPqgCYUV"
      }
    },
    {
      "cell_type": "code",
      "source": [
        "# Cálculo term-frecuency (tf)\n",
        "\n",
        "tf = tweets_tidy.copy()\n",
        "# Número de veces que aparece cada término en cada tweet\n",
        "tf = tf.groupby([\"id\", \"token\"])[\"token\"].agg([\"count\"]).reset_index()\n",
        "# Se añade una columna con el total de términos por tweet\n",
        "tf['total_count'] = tf.groupby('id')['count'].transform(sum)\n",
        "# Se calcula el tf\n",
        "tf['tf'] = tf[\"count\"] / tf[\"total_count\"]\n",
        "tf.sort_values(by = \"tf\").head(3)"
      ],
      "metadata": {
        "colab": {
          "base_uri": "https://localhost:8080/",
          "height": 143
        },
        "id": "EwbwcdSaCuxu",
        "outputId": "2305eb0b-1bbf-4f6a-fc07-af61b46f1cc7"
      },
      "execution_count": 57,
      "outputs": [
        {
          "output_type": "execute_result",
          "data": {
            "text/plain": [
              "                id  token  count  total_count    tf\n",
              "8158  3.546906e+17    bar      1           20  0.05\n",
              "8164  3.546906e+17   says      1           20  0.05\n",
              "8166  3.546906e+17  walks      1           20  0.05"
            ],
            "text/html": [
              "\n",
              "  <div id=\"df-b34732a6-2644-4c3e-a0ce-97e69e5bc239\">\n",
              "    <div class=\"colab-df-container\">\n",
              "      <div>\n",
              "<style scoped>\n",
              "    .dataframe tbody tr th:only-of-type {\n",
              "        vertical-align: middle;\n",
              "    }\n",
              "\n",
              "    .dataframe tbody tr th {\n",
              "        vertical-align: top;\n",
              "    }\n",
              "\n",
              "    .dataframe thead th {\n",
              "        text-align: right;\n",
              "    }\n",
              "</style>\n",
              "<table border=\"1\" class=\"dataframe\">\n",
              "  <thead>\n",
              "    <tr style=\"text-align: right;\">\n",
              "      <th></th>\n",
              "      <th>id</th>\n",
              "      <th>token</th>\n",
              "      <th>count</th>\n",
              "      <th>total_count</th>\n",
              "      <th>tf</th>\n",
              "    </tr>\n",
              "  </thead>\n",
              "  <tbody>\n",
              "    <tr>\n",
              "      <th>8158</th>\n",
              "      <td>3.546906e+17</td>\n",
              "      <td>bar</td>\n",
              "      <td>1</td>\n",
              "      <td>20</td>\n",
              "      <td>0.05</td>\n",
              "    </tr>\n",
              "    <tr>\n",
              "      <th>8164</th>\n",
              "      <td>3.546906e+17</td>\n",
              "      <td>says</td>\n",
              "      <td>1</td>\n",
              "      <td>20</td>\n",
              "      <td>0.05</td>\n",
              "    </tr>\n",
              "    <tr>\n",
              "      <th>8166</th>\n",
              "      <td>3.546906e+17</td>\n",
              "      <td>walks</td>\n",
              "      <td>1</td>\n",
              "      <td>20</td>\n",
              "      <td>0.05</td>\n",
              "    </tr>\n",
              "  </tbody>\n",
              "</table>\n",
              "</div>\n",
              "      <button class=\"colab-df-convert\" onclick=\"convertToInteractive('df-b34732a6-2644-4c3e-a0ce-97e69e5bc239')\"\n",
              "              title=\"Convert this dataframe to an interactive table.\"\n",
              "              style=\"display:none;\">\n",
              "        \n",
              "  <svg xmlns=\"http://www.w3.org/2000/svg\" height=\"24px\"viewBox=\"0 0 24 24\"\n",
              "       width=\"24px\">\n",
              "    <path d=\"M0 0h24v24H0V0z\" fill=\"none\"/>\n",
              "    <path d=\"M18.56 5.44l.94 2.06.94-2.06 2.06-.94-2.06-.94-.94-2.06-.94 2.06-2.06.94zm-11 1L8.5 8.5l.94-2.06 2.06-.94-2.06-.94L8.5 2.5l-.94 2.06-2.06.94zm10 10l.94 2.06.94-2.06 2.06-.94-2.06-.94-.94-2.06-.94 2.06-2.06.94z\"/><path d=\"M17.41 7.96l-1.37-1.37c-.4-.4-.92-.59-1.43-.59-.52 0-1.04.2-1.43.59L10.3 9.45l-7.72 7.72c-.78.78-.78 2.05 0 2.83L4 21.41c.39.39.9.59 1.41.59.51 0 1.02-.2 1.41-.59l7.78-7.78 2.81-2.81c.8-.78.8-2.07 0-2.86zM5.41 20L4 18.59l7.72-7.72 1.47 1.35L5.41 20z\"/>\n",
              "  </svg>\n",
              "      </button>\n",
              "      \n",
              "  <style>\n",
              "    .colab-df-container {\n",
              "      display:flex;\n",
              "      flex-wrap:wrap;\n",
              "      gap: 12px;\n",
              "    }\n",
              "\n",
              "    .colab-df-convert {\n",
              "      background-color: #E8F0FE;\n",
              "      border: none;\n",
              "      border-radius: 50%;\n",
              "      cursor: pointer;\n",
              "      display: none;\n",
              "      fill: #1967D2;\n",
              "      height: 32px;\n",
              "      padding: 0 0 0 0;\n",
              "      width: 32px;\n",
              "    }\n",
              "\n",
              "    .colab-df-convert:hover {\n",
              "      background-color: #E2EBFA;\n",
              "      box-shadow: 0px 1px 2px rgba(60, 64, 67, 0.3), 0px 1px 3px 1px rgba(60, 64, 67, 0.15);\n",
              "      fill: #174EA6;\n",
              "    }\n",
              "\n",
              "    [theme=dark] .colab-df-convert {\n",
              "      background-color: #3B4455;\n",
              "      fill: #D2E3FC;\n",
              "    }\n",
              "\n",
              "    [theme=dark] .colab-df-convert:hover {\n",
              "      background-color: #434B5C;\n",
              "      box-shadow: 0px 1px 3px 1px rgba(0, 0, 0, 0.15);\n",
              "      filter: drop-shadow(0px 1px 2px rgba(0, 0, 0, 0.3));\n",
              "      fill: #FFFFFF;\n",
              "    }\n",
              "  </style>\n",
              "\n",
              "      <script>\n",
              "        const buttonEl =\n",
              "          document.querySelector('#df-b34732a6-2644-4c3e-a0ce-97e69e5bc239 button.colab-df-convert');\n",
              "        buttonEl.style.display =\n",
              "          google.colab.kernel.accessAllowed ? 'block' : 'none';\n",
              "\n",
              "        async function convertToInteractive(key) {\n",
              "          const element = document.querySelector('#df-b34732a6-2644-4c3e-a0ce-97e69e5bc239');\n",
              "          const dataTable =\n",
              "            await google.colab.kernel.invokeFunction('convertToInteractive',\n",
              "                                                     [key], {});\n",
              "          if (!dataTable) return;\n",
              "\n",
              "          const docLinkHtml = 'Like what you see? Visit the ' +\n",
              "            '<a target=\"_blank\" href=https://colab.research.google.com/notebooks/data_table.ipynb>data table notebook</a>'\n",
              "            + ' to learn more about interactive tables.';\n",
              "          element.innerHTML = '';\n",
              "          dataTable['output_type'] = 'display_data';\n",
              "          await google.colab.output.renderOutput(dataTable, element);\n",
              "          const docLink = document.createElement('div');\n",
              "          docLink.innerHTML = docLinkHtml;\n",
              "          element.appendChild(docLink);\n",
              "        }\n",
              "      </script>\n",
              "    </div>\n",
              "  </div>\n",
              "  "
            ]
          },
          "metadata": {},
          "execution_count": 57
        }
      ]
    },
    {
      "cell_type": "code",
      "source": [
        "# Inverse document frequency\n",
        "\n",
        "idf = tweets_tidy.copy()\n",
        "total_documents = idf[\"id\"].drop_duplicates().count()\n",
        "# Número de documentos (tweets) en los que aparece cada término\n",
        "idf = idf.groupby([\"token\", \"id\"])[\"token\"].agg([\"count\"]).reset_index()\n",
        "idf['n_documentos'] = idf.groupby('token')['count'].transform(sum)\n",
        "# Cálculo del idf\n",
        "idf['idf'] = np.log(total_documents / idf['n_documentos'])\n",
        "idf = idf[[\"token\",\"n_documentos\", \"idf\"]].drop_duplicates()\n",
        "idf.sort_values(by=\"idf\").head(3)"
      ],
      "metadata": {
        "colab": {
          "base_uri": "https://localhost:8080/",
          "height": 143
        },
        "id": "1PU--eBvCzoy",
        "outputId": "6bda633d-67c1-4663-8807-37759f64294d"
      },
      "execution_count": 58,
      "outputs": [
        {
          "output_type": "execute_result",
          "data": {
            "text/plain": [
              "       token  n_documentos       idf\n",
              "50468     sf           914  2.061781\n",
              "8724    city           355  3.007494\n",
              "22820  great           327  3.089651"
            ],
            "text/html": [
              "\n",
              "  <div id=\"df-f17cec82-1172-427e-a160-8e0b1167a550\">\n",
              "    <div class=\"colab-df-container\">\n",
              "      <div>\n",
              "<style scoped>\n",
              "    .dataframe tbody tr th:only-of-type {\n",
              "        vertical-align: middle;\n",
              "    }\n",
              "\n",
              "    .dataframe tbody tr th {\n",
              "        vertical-align: top;\n",
              "    }\n",
              "\n",
              "    .dataframe thead th {\n",
              "        text-align: right;\n",
              "    }\n",
              "</style>\n",
              "<table border=\"1\" class=\"dataframe\">\n",
              "  <thead>\n",
              "    <tr style=\"text-align: right;\">\n",
              "      <th></th>\n",
              "      <th>token</th>\n",
              "      <th>n_documentos</th>\n",
              "      <th>idf</th>\n",
              "    </tr>\n",
              "  </thead>\n",
              "  <tbody>\n",
              "    <tr>\n",
              "      <th>50468</th>\n",
              "      <td>sf</td>\n",
              "      <td>914</td>\n",
              "      <td>2.061781</td>\n",
              "    </tr>\n",
              "    <tr>\n",
              "      <th>8724</th>\n",
              "      <td>city</td>\n",
              "      <td>355</td>\n",
              "      <td>3.007494</td>\n",
              "    </tr>\n",
              "    <tr>\n",
              "      <th>22820</th>\n",
              "      <td>great</td>\n",
              "      <td>327</td>\n",
              "      <td>3.089651</td>\n",
              "    </tr>\n",
              "  </tbody>\n",
              "</table>\n",
              "</div>\n",
              "      <button class=\"colab-df-convert\" onclick=\"convertToInteractive('df-f17cec82-1172-427e-a160-8e0b1167a550')\"\n",
              "              title=\"Convert this dataframe to an interactive table.\"\n",
              "              style=\"display:none;\">\n",
              "        \n",
              "  <svg xmlns=\"http://www.w3.org/2000/svg\" height=\"24px\"viewBox=\"0 0 24 24\"\n",
              "       width=\"24px\">\n",
              "    <path d=\"M0 0h24v24H0V0z\" fill=\"none\"/>\n",
              "    <path d=\"M18.56 5.44l.94 2.06.94-2.06 2.06-.94-2.06-.94-.94-2.06-.94 2.06-2.06.94zm-11 1L8.5 8.5l.94-2.06 2.06-.94-2.06-.94L8.5 2.5l-.94 2.06-2.06.94zm10 10l.94 2.06.94-2.06 2.06-.94-2.06-.94-.94-2.06-.94 2.06-2.06.94z\"/><path d=\"M17.41 7.96l-1.37-1.37c-.4-.4-.92-.59-1.43-.59-.52 0-1.04.2-1.43.59L10.3 9.45l-7.72 7.72c-.78.78-.78 2.05 0 2.83L4 21.41c.39.39.9.59 1.41.59.51 0 1.02-.2 1.41-.59l7.78-7.78 2.81-2.81c.8-.78.8-2.07 0-2.86zM5.41 20L4 18.59l7.72-7.72 1.47 1.35L5.41 20z\"/>\n",
              "  </svg>\n",
              "      </button>\n",
              "      \n",
              "  <style>\n",
              "    .colab-df-container {\n",
              "      display:flex;\n",
              "      flex-wrap:wrap;\n",
              "      gap: 12px;\n",
              "    }\n",
              "\n",
              "    .colab-df-convert {\n",
              "      background-color: #E8F0FE;\n",
              "      border: none;\n",
              "      border-radius: 50%;\n",
              "      cursor: pointer;\n",
              "      display: none;\n",
              "      fill: #1967D2;\n",
              "      height: 32px;\n",
              "      padding: 0 0 0 0;\n",
              "      width: 32px;\n",
              "    }\n",
              "\n",
              "    .colab-df-convert:hover {\n",
              "      background-color: #E2EBFA;\n",
              "      box-shadow: 0px 1px 2px rgba(60, 64, 67, 0.3), 0px 1px 3px 1px rgba(60, 64, 67, 0.15);\n",
              "      fill: #174EA6;\n",
              "    }\n",
              "\n",
              "    [theme=dark] .colab-df-convert {\n",
              "      background-color: #3B4455;\n",
              "      fill: #D2E3FC;\n",
              "    }\n",
              "\n",
              "    [theme=dark] .colab-df-convert:hover {\n",
              "      background-color: #434B5C;\n",
              "      box-shadow: 0px 1px 3px 1px rgba(0, 0, 0, 0.15);\n",
              "      filter: drop-shadow(0px 1px 2px rgba(0, 0, 0, 0.3));\n",
              "      fill: #FFFFFF;\n",
              "    }\n",
              "  </style>\n",
              "\n",
              "      <script>\n",
              "        const buttonEl =\n",
              "          document.querySelector('#df-f17cec82-1172-427e-a160-8e0b1167a550 button.colab-df-convert');\n",
              "        buttonEl.style.display =\n",
              "          google.colab.kernel.accessAllowed ? 'block' : 'none';\n",
              "\n",
              "        async function convertToInteractive(key) {\n",
              "          const element = document.querySelector('#df-f17cec82-1172-427e-a160-8e0b1167a550');\n",
              "          const dataTable =\n",
              "            await google.colab.kernel.invokeFunction('convertToInteractive',\n",
              "                                                     [key], {});\n",
              "          if (!dataTable) return;\n",
              "\n",
              "          const docLinkHtml = 'Like what you see? Visit the ' +\n",
              "            '<a target=\"_blank\" href=https://colab.research.google.com/notebooks/data_table.ipynb>data table notebook</a>'\n",
              "            + ' to learn more about interactive tables.';\n",
              "          element.innerHTML = '';\n",
              "          dataTable['output_type'] = 'display_data';\n",
              "          await google.colab.output.renderOutput(dataTable, element);\n",
              "          const docLink = document.createElement('div');\n",
              "          docLink.innerHTML = docLinkHtml;\n",
              "          element.appendChild(docLink);\n",
              "        }\n",
              "      </script>\n",
              "    </div>\n",
              "  </div>\n",
              "  "
            ]
          },
          "metadata": {},
          "execution_count": 58
        }
      ]
    },
    {
      "cell_type": "code",
      "source": [
        "# Term Frequency - Inverse Document Frequency\n",
        "\n",
        "tf_idf = pd.merge(left=tf, right=idf, on=\"token\")\n",
        "tf_idf[\"tf_idf\"] = tf_idf[\"tf\"] * tf_idf[\"idf\"]\n",
        "tf_idf.sort_values(by=\"id\").head()"
      ],
      "metadata": {
        "colab": {
          "base_uri": "https://localhost:8080/",
          "height": 206
        },
        "id": "ObIZMxmQC2Oe",
        "outputId": "8e6f350e-8d2f-4fd3-effd-4af26c28fbf3"
      },
      "execution_count": 59,
      "outputs": [
        {
          "output_type": "execute_result",
          "data": {
            "text/plain": [
              "               id       token  count  total_count        tf  n_documentos  \\\n",
              "0    1.195196e+17     efforts      1           13  0.076923            31   \n",
              "46   1.195196e+17         job      1           13  0.076923            36   \n",
              "229  1.195196e+17     nigeria      1           13  0.076923            10   \n",
              "239  1.195196e+17  phenomenal      1           13  0.076923            14   \n",
              "253  1.195196e+17       polio      1           13  0.076923           102   \n",
              "\n",
              "          idf    tf_idf  \n",
              "0    5.445624  0.418894  \n",
              "46   5.296093  0.407392  \n",
              "229  6.577027  0.505925  \n",
              "239  6.240554  0.480043  \n",
              "253  4.254639  0.327280  "
            ],
            "text/html": [
              "\n",
              "  <div id=\"df-e854dcb4-0a06-48d1-929d-6a01a4b10f30\">\n",
              "    <div class=\"colab-df-container\">\n",
              "      <div>\n",
              "<style scoped>\n",
              "    .dataframe tbody tr th:only-of-type {\n",
              "        vertical-align: middle;\n",
              "    }\n",
              "\n",
              "    .dataframe tbody tr th {\n",
              "        vertical-align: top;\n",
              "    }\n",
              "\n",
              "    .dataframe thead th {\n",
              "        text-align: right;\n",
              "    }\n",
              "</style>\n",
              "<table border=\"1\" class=\"dataframe\">\n",
              "  <thead>\n",
              "    <tr style=\"text-align: right;\">\n",
              "      <th></th>\n",
              "      <th>id</th>\n",
              "      <th>token</th>\n",
              "      <th>count</th>\n",
              "      <th>total_count</th>\n",
              "      <th>tf</th>\n",
              "      <th>n_documentos</th>\n",
              "      <th>idf</th>\n",
              "      <th>tf_idf</th>\n",
              "    </tr>\n",
              "  </thead>\n",
              "  <tbody>\n",
              "    <tr>\n",
              "      <th>0</th>\n",
              "      <td>1.195196e+17</td>\n",
              "      <td>efforts</td>\n",
              "      <td>1</td>\n",
              "      <td>13</td>\n",
              "      <td>0.076923</td>\n",
              "      <td>31</td>\n",
              "      <td>5.445624</td>\n",
              "      <td>0.418894</td>\n",
              "    </tr>\n",
              "    <tr>\n",
              "      <th>46</th>\n",
              "      <td>1.195196e+17</td>\n",
              "      <td>job</td>\n",
              "      <td>1</td>\n",
              "      <td>13</td>\n",
              "      <td>0.076923</td>\n",
              "      <td>36</td>\n",
              "      <td>5.296093</td>\n",
              "      <td>0.407392</td>\n",
              "    </tr>\n",
              "    <tr>\n",
              "      <th>229</th>\n",
              "      <td>1.195196e+17</td>\n",
              "      <td>nigeria</td>\n",
              "      <td>1</td>\n",
              "      <td>13</td>\n",
              "      <td>0.076923</td>\n",
              "      <td>10</td>\n",
              "      <td>6.577027</td>\n",
              "      <td>0.505925</td>\n",
              "    </tr>\n",
              "    <tr>\n",
              "      <th>239</th>\n",
              "      <td>1.195196e+17</td>\n",
              "      <td>phenomenal</td>\n",
              "      <td>1</td>\n",
              "      <td>13</td>\n",
              "      <td>0.076923</td>\n",
              "      <td>14</td>\n",
              "      <td>6.240554</td>\n",
              "      <td>0.480043</td>\n",
              "    </tr>\n",
              "    <tr>\n",
              "      <th>253</th>\n",
              "      <td>1.195196e+17</td>\n",
              "      <td>polio</td>\n",
              "      <td>1</td>\n",
              "      <td>13</td>\n",
              "      <td>0.076923</td>\n",
              "      <td>102</td>\n",
              "      <td>4.254639</td>\n",
              "      <td>0.327280</td>\n",
              "    </tr>\n",
              "  </tbody>\n",
              "</table>\n",
              "</div>\n",
              "      <button class=\"colab-df-convert\" onclick=\"convertToInteractive('df-e854dcb4-0a06-48d1-929d-6a01a4b10f30')\"\n",
              "              title=\"Convert this dataframe to an interactive table.\"\n",
              "              style=\"display:none;\">\n",
              "        \n",
              "  <svg xmlns=\"http://www.w3.org/2000/svg\" height=\"24px\"viewBox=\"0 0 24 24\"\n",
              "       width=\"24px\">\n",
              "    <path d=\"M0 0h24v24H0V0z\" fill=\"none\"/>\n",
              "    <path d=\"M18.56 5.44l.94 2.06.94-2.06 2.06-.94-2.06-.94-.94-2.06-.94 2.06-2.06.94zm-11 1L8.5 8.5l.94-2.06 2.06-.94-2.06-.94L8.5 2.5l-.94 2.06-2.06.94zm10 10l.94 2.06.94-2.06 2.06-.94-2.06-.94-.94-2.06-.94 2.06-2.06.94z\"/><path d=\"M17.41 7.96l-1.37-1.37c-.4-.4-.92-.59-1.43-.59-.52 0-1.04.2-1.43.59L10.3 9.45l-7.72 7.72c-.78.78-.78 2.05 0 2.83L4 21.41c.39.39.9.59 1.41.59.51 0 1.02-.2 1.41-.59l7.78-7.78 2.81-2.81c.8-.78.8-2.07 0-2.86zM5.41 20L4 18.59l7.72-7.72 1.47 1.35L5.41 20z\"/>\n",
              "  </svg>\n",
              "      </button>\n",
              "      \n",
              "  <style>\n",
              "    .colab-df-container {\n",
              "      display:flex;\n",
              "      flex-wrap:wrap;\n",
              "      gap: 12px;\n",
              "    }\n",
              "\n",
              "    .colab-df-convert {\n",
              "      background-color: #E8F0FE;\n",
              "      border: none;\n",
              "      border-radius: 50%;\n",
              "      cursor: pointer;\n",
              "      display: none;\n",
              "      fill: #1967D2;\n",
              "      height: 32px;\n",
              "      padding: 0 0 0 0;\n",
              "      width: 32px;\n",
              "    }\n",
              "\n",
              "    .colab-df-convert:hover {\n",
              "      background-color: #E2EBFA;\n",
              "      box-shadow: 0px 1px 2px rgba(60, 64, 67, 0.3), 0px 1px 3px 1px rgba(60, 64, 67, 0.15);\n",
              "      fill: #174EA6;\n",
              "    }\n",
              "\n",
              "    [theme=dark] .colab-df-convert {\n",
              "      background-color: #3B4455;\n",
              "      fill: #D2E3FC;\n",
              "    }\n",
              "\n",
              "    [theme=dark] .colab-df-convert:hover {\n",
              "      background-color: #434B5C;\n",
              "      box-shadow: 0px 1px 3px 1px rgba(0, 0, 0, 0.15);\n",
              "      filter: drop-shadow(0px 1px 2px rgba(0, 0, 0, 0.3));\n",
              "      fill: #FFFFFF;\n",
              "    }\n",
              "  </style>\n",
              "\n",
              "      <script>\n",
              "        const buttonEl =\n",
              "          document.querySelector('#df-e854dcb4-0a06-48d1-929d-6a01a4b10f30 button.colab-df-convert');\n",
              "        buttonEl.style.display =\n",
              "          google.colab.kernel.accessAllowed ? 'block' : 'none';\n",
              "\n",
              "        async function convertToInteractive(key) {\n",
              "          const element = document.querySelector('#df-e854dcb4-0a06-48d1-929d-6a01a4b10f30');\n",
              "          const dataTable =\n",
              "            await google.colab.kernel.invokeFunction('convertToInteractive',\n",
              "                                                     [key], {});\n",
              "          if (!dataTable) return;\n",
              "\n",
              "          const docLinkHtml = 'Like what you see? Visit the ' +\n",
              "            '<a target=\"_blank\" href=https://colab.research.google.com/notebooks/data_table.ipynb>data table notebook</a>'\n",
              "            + ' to learn more about interactive tables.';\n",
              "          element.innerHTML = '';\n",
              "          dataTable['output_type'] = 'display_data';\n",
              "          await google.colab.output.renderOutput(dataTable, element);\n",
              "          const docLink = document.createElement('div');\n",
              "          docLink.innerHTML = docLinkHtml;\n",
              "          element.appendChild(docLink);\n",
              "        }\n",
              "      </script>\n",
              "    </div>\n",
              "  </div>\n",
              "  "
            ]
          },
          "metadata": {},
          "execution_count": 59
        }
      ]
    },
    {
      "cell_type": "markdown",
      "source": [
        "Se puede apreciar que en el primer tweet (id = 1.195196e+17), todos los términos que aparecen una vez tienen el mismo valor de tf. No obstante, debido a que no todos los términos aparecen con la misma frecuencia en el conjunto de tweets, la corrección de idf varía para cada uno de ellos."
      ],
      "metadata": {
        "id": "dEVBLn9GDEZj"
      }
    },
    {
      "cell_type": "markdown",
      "source": [
        "# Clasificación de tweets: una aproximación mediante análisis de sentimiento"
      ],
      "metadata": {
        "id": "mSNPt12CDJIz"
      }
    },
    {
      "cell_type": "markdown",
      "source": [
        "Para poder aplicar algoritmos de clasificación a un texto, es imprescindible crear una representación numérica del mismo. Una de las técnicas más comunes es la denominada \"Bag of Words\". Este enfoque consiste en identificar el conjunto de todas las palabras (tokens) que aparecen en el corpus, es decir, el conjunto de todos los tweets recuperados, y crear un espacio n-dimensional en el que cada dimensión (columna) representa una palabra. A continuación, se proyecta cada texto en este espacio, asignando un valor para cada dimensión. En la mayoría de los casos, se utiliza el valor tf-idf."
      ],
      "metadata": {
        "id": "x8yGOId_DQLO"
      }
    },
    {
      "cell_type": "markdown",
      "source": [
        "A continuación se presenta un modelo de aprendizaje estadístico basado en máquinas de vector soporte (SVM) para predecir la autoría de los tweets de Elon Musk y Mayor Ed Lee.\n",
        "\n",
        "El modelo se implementa utilizando la biblioteca `Scikit-Learn` y se utiliza la clase `TfidfVectorizer` para generar la matriz `TF-IDF`, utilizando el mismo tokenizador definido en secciones anteriores."
      ],
      "metadata": {
        "id": "RAici6o7DdPM"
      }
    },
    {
      "cell_type": "markdown",
      "source": [
        "## División de datos en entrenamiento y prueba (Train-Test)"
      ],
      "metadata": {
        "id": "XKkA1T7VETie"
      }
    },
    {
      "cell_type": "markdown",
      "source": [
        "Mejora esta introducción: En los modelos de aprendizaje estadístico es necesario dividir los datos en un conjunto de entrenamiento y otro de prueba para evaluar la capacidad de generalización del modelo. En este ejercicio, se utilizará una proporción de 80/20 para el conjunto de entrenamiento y el conjunto de prueba, respectivamente."
      ],
      "metadata": {
        "id": "Yc4iQVyFEjL9"
      }
    },
    {
      "cell_type": "code",
      "source": [
        "# División de datos en conjuntos de entrenamiento y prueba\n",
        "\n",
        "datos_X = tweets.loc[tweets.autor.isin(['elonmusk', 'mayoredlee']), 'texto']\n",
        "datos_y = tweets.loc[tweets.autor.isin(['elonmusk', 'mayoredlee']), 'autor']\n",
        "\n",
        "X_train, X_test, y_train, y_test = train_test_split(\n",
        "    datos_X,\n",
        "    datos_y,\n",
        "    test_size = 0.2,\n",
        "    random_state = 123\n",
        "    \n",
        ")"
      ],
      "metadata": {
        "id": "xc6NBzbpEkSw"
      },
      "execution_count": 60,
      "outputs": []
    },
    {
      "cell_type": "markdown",
      "source": [
        "Es importante verificar que la proporción de cada grupo es similar en el set de entrenamiento y en el de test."
      ],
      "metadata": {
        "id": "_U9HBcY5Evht"
      }
    },
    {
      "cell_type": "code",
      "source": [
        "value, counts = np.unique(y_train, return_counts=True)\n",
        "print(dict(zip(value, 100 * counts / sum(counts))))\n",
        "value, counts = np.unique(y_test, return_counts=True)\n",
        "print(dict(zip(value, 100 * counts / sum(counts))))"
      ],
      "metadata": {
        "colab": {
          "base_uri": "https://localhost:8080/"
        },
        "id": "EKCBvvvSE31E",
        "outputId": "76fe27d3-28db-4e26-e995-bc78aef35be6"
      },
      "execution_count": 61,
      "outputs": [
        {
          "output_type": "stream",
          "name": "stdout",
          "text": [
            "{'elonmusk': 52.68292682926829, 'mayoredlee': 47.31707317073171}\n",
            "{'elonmusk': 50.53658536585366, 'mayoredlee': 49.46341463414634}\n"
          ]
        }
      ]
    },
    {
      "cell_type": "markdown",
      "source": [
        "# Vectorización de texto con tf-idf"
      ],
      "metadata": {
        "id": "1gBxsLjaFC8P"
      }
    },
    {
      "cell_type": "markdown",
      "source": [
        "Utilizando los tweets de entrenamiento, se genera una matriz tf-idf en la que cada columna representa un término, cada fila corresponde a un documento y el valor de cada intersección es el tf-idf correspondiente. Esta matriz define un espacio n-dimensional en el cual se proyecta cada tweet."
      ],
      "metadata": {
        "id": "JjoaR910FF3E"
      }
    },
    {
      "cell_type": "markdown",
      "source": [
        "La clase [TfidfVectorizer](https://bit.ly/2S6lwWP) de Scikit Learn permite crear de forma automática una matriz tf-idf a partir de un corpus de documentos. Algunos de los argumentos más destacados que se pueden especificar son:\n",
        "\n",
        "* `encoding`: el tipo de codificación del texto, por defecto es 'utf-8'.\n",
        "\n",
        "* `strip_accents`: eliminación de acentos sustituyendolos por la misma letra sin el acento. Por defecto se emplea el método ‘ascii’.\n",
        "\n",
        "* `lowercase`: convertir a minúsculas todo el texto.\n",
        "\n",
        "* `tokenizer`: en caso de querer pasar un tokenizador definido por el usuario o de otra librería.\n",
        "\n",
        "* `analyzer`: tipo de división que realiza el tokenizador. Por defecto separa por palabras ('word').\n",
        "\n",
        "* `stop_words`: lista de stopwords que se eliminan durante el tokenizado. Por defecto utiliza un listado para el inglés.\n",
        "\n",
        "* `ngram_range`: rango de n-gramas incluidos. Por ejemplo, (1, 2) significa que se incluyen unigramas (palabras individuales) y bigramas (pares de palabras) como tokens.\n",
        "\n",
        "* `min_df`: fracción o número de documentos en los que debe de aparecer como mínimo un término para no ser excluido en el tokenizado. Este filtrado es una forma de eliminar ruido del modelo."
      ],
      "metadata": {
        "id": "sWFoCYNCFNSj"
      }
    },
    {
      "cell_type": "code",
      "source": [
        "def limpiar_tokenizar(texto):\n",
        "    '''\n",
        "    Esta función limpia y tokeniza el texto en palabras individuales.\n",
        "    El orden en el que se va limpiando el texto no es arbitrario.\n",
        "    El listado de signos de puntuación se ha obtenido de: print(string.punctuation)\n",
        "    y re.escape(string.punctuation)\n",
        "    '''\n",
        "    \n",
        "    # Se convierte todo el texto a minúsculas\n",
        "    nuevo_texto = texto.lower()\n",
        "    # Eliminación de páginas web (palabras que empiezan por \"http\")\n",
        "    nuevo_texto = re.sub('http\\S+', ' ', nuevo_texto)\n",
        "    # Eliminación de signos de puntuación\n",
        "    regex = '[\\\\!\\\\\"\\\\#\\\\$\\\\%\\\\&\\\\\\'\\\\(\\\\)\\\\*\\\\+\\\\,\\\\-\\\\.\\\\/\\\\:\\\\;\\\\<\\\\=\\\\>\\\\?\\\\@\\\\[\\\\\\\\\\\\]\\\\^_\\\\`\\\\{\\\\|\\\\}\\\\~]'\n",
        "    nuevo_texto = re.sub(regex , ' ', nuevo_texto)\n",
        "    # Eliminación de números\n",
        "    nuevo_texto = re.sub(\"\\d+\", ' ', nuevo_texto)\n",
        "    # Eliminación de espacios en blanco múltiples\n",
        "    nuevo_texto = re.sub(\"\\\\s+\", ' ', nuevo_texto)\n",
        "    # Tokenización por palabras individuales\n",
        "    nuevo_texto = nuevo_texto.split(sep = ' ')\n",
        "    # Eliminación de tokens con una longitud < 2\n",
        "    nuevo_texto = [token for token in nuevo_texto if len(token) > 1]\n",
        "    \n",
        "    return(nuevo_texto)"
      ],
      "metadata": {
        "id": "Vu-qi3iAFvIh"
      },
      "execution_count": 62,
      "outputs": []
    },
    {
      "cell_type": "code",
      "source": [
        "stop_words = list(stopwords.words('english'))\n",
        "# Se añade la stopword: amp, ax, ex\n",
        "stop_words.extend((\"amp\", \"xa\", \"xe\"))"
      ],
      "metadata": {
        "id": "gmWQNMG6Fx2T"
      },
      "execution_count": 63,
      "outputs": []
    },
    {
      "cell_type": "code",
      "source": [
        "# Creación de la matriz tf-idf\n",
        "\n",
        "tfidf_vectorizador = TfidfVectorizer(\n",
        "                        tokenizer  = limpiar_tokenizar,\n",
        "                        min_df     = 3,\n",
        "                        stop_words = stop_words\n",
        "                    )\n",
        "tfidf_vectorizador.fit(X_train)"
      ],
      "metadata": {
        "colab": {
          "base_uri": "https://localhost:8080/",
          "height": 231
        },
        "id": "GbVenV7XFzWn",
        "outputId": "5d9ba70f-49f8-434f-c731-5f6183f05037"
      },
      "execution_count": 64,
      "outputs": [
        {
          "output_type": "stream",
          "name": "stderr",
          "text": [
            "/usr/local/lib/python3.9/dist-packages/sklearn/feature_extraction/text.py:528: UserWarning: The parameter 'token_pattern' will not be used since 'tokenizer' is not None'\n",
            "  warnings.warn(\n"
          ]
        },
        {
          "output_type": "execute_result",
          "data": {
            "text/plain": [
              "TfidfVectorizer(min_df=3,\n",
              "                stop_words=['i', 'me', 'my', 'myself', 'we', 'our', 'ours',\n",
              "                            'ourselves', 'you', \"you're\", \"you've\", \"you'll\",\n",
              "                            \"you'd\", 'your', 'yours', 'yourself', 'yourselves',\n",
              "                            'he', 'him', 'his', 'himself', 'she', \"she's\",\n",
              "                            'her', 'hers', 'herself', 'it', \"it's\", 'its',\n",
              "                            'itself', ...],\n",
              "                tokenizer=<function limpiar_tokenizar at 0x7f36253b5ee0>)"
            ],
            "text/html": [
              "<style>#sk-container-id-1 {color: black;background-color: white;}#sk-container-id-1 pre{padding: 0;}#sk-container-id-1 div.sk-toggleable {background-color: white;}#sk-container-id-1 label.sk-toggleable__label {cursor: pointer;display: block;width: 100%;margin-bottom: 0;padding: 0.3em;box-sizing: border-box;text-align: center;}#sk-container-id-1 label.sk-toggleable__label-arrow:before {content: \"▸\";float: left;margin-right: 0.25em;color: #696969;}#sk-container-id-1 label.sk-toggleable__label-arrow:hover:before {color: black;}#sk-container-id-1 div.sk-estimator:hover label.sk-toggleable__label-arrow:before {color: black;}#sk-container-id-1 div.sk-toggleable__content {max-height: 0;max-width: 0;overflow: hidden;text-align: left;background-color: #f0f8ff;}#sk-container-id-1 div.sk-toggleable__content pre {margin: 0.2em;color: black;border-radius: 0.25em;background-color: #f0f8ff;}#sk-container-id-1 input.sk-toggleable__control:checked~div.sk-toggleable__content {max-height: 200px;max-width: 100%;overflow: auto;}#sk-container-id-1 input.sk-toggleable__control:checked~label.sk-toggleable__label-arrow:before {content: \"▾\";}#sk-container-id-1 div.sk-estimator input.sk-toggleable__control:checked~label.sk-toggleable__label {background-color: #d4ebff;}#sk-container-id-1 div.sk-label input.sk-toggleable__control:checked~label.sk-toggleable__label {background-color: #d4ebff;}#sk-container-id-1 input.sk-hidden--visually {border: 0;clip: rect(1px 1px 1px 1px);clip: rect(1px, 1px, 1px, 1px);height: 1px;margin: -1px;overflow: hidden;padding: 0;position: absolute;width: 1px;}#sk-container-id-1 div.sk-estimator {font-family: monospace;background-color: #f0f8ff;border: 1px dotted black;border-radius: 0.25em;box-sizing: border-box;margin-bottom: 0.5em;}#sk-container-id-1 div.sk-estimator:hover {background-color: #d4ebff;}#sk-container-id-1 div.sk-parallel-item::after {content: \"\";width: 100%;border-bottom: 1px solid gray;flex-grow: 1;}#sk-container-id-1 div.sk-label:hover label.sk-toggleable__label {background-color: #d4ebff;}#sk-container-id-1 div.sk-serial::before {content: \"\";position: absolute;border-left: 1px solid gray;box-sizing: border-box;top: 0;bottom: 0;left: 50%;z-index: 0;}#sk-container-id-1 div.sk-serial {display: flex;flex-direction: column;align-items: center;background-color: white;padding-right: 0.2em;padding-left: 0.2em;position: relative;}#sk-container-id-1 div.sk-item {position: relative;z-index: 1;}#sk-container-id-1 div.sk-parallel {display: flex;align-items: stretch;justify-content: center;background-color: white;position: relative;}#sk-container-id-1 div.sk-item::before, #sk-container-id-1 div.sk-parallel-item::before {content: \"\";position: absolute;border-left: 1px solid gray;box-sizing: border-box;top: 0;bottom: 0;left: 50%;z-index: -1;}#sk-container-id-1 div.sk-parallel-item {display: flex;flex-direction: column;z-index: 1;position: relative;background-color: white;}#sk-container-id-1 div.sk-parallel-item:first-child::after {align-self: flex-end;width: 50%;}#sk-container-id-1 div.sk-parallel-item:last-child::after {align-self: flex-start;width: 50%;}#sk-container-id-1 div.sk-parallel-item:only-child::after {width: 0;}#sk-container-id-1 div.sk-dashed-wrapped {border: 1px dashed gray;margin: 0 0.4em 0.5em 0.4em;box-sizing: border-box;padding-bottom: 0.4em;background-color: white;}#sk-container-id-1 div.sk-label label {font-family: monospace;font-weight: bold;display: inline-block;line-height: 1.2em;}#sk-container-id-1 div.sk-label-container {text-align: center;}#sk-container-id-1 div.sk-container {/* jupyter's `normalize.less` sets `[hidden] { display: none; }` but bootstrap.min.css set `[hidden] { display: none !important; }` so we also need the `!important` here to be able to override the default hidden behavior on the sphinx rendered scikit-learn.org. See: https://github.com/scikit-learn/scikit-learn/issues/21755 */display: inline-block !important;position: relative;}#sk-container-id-1 div.sk-text-repr-fallback {display: none;}</style><div id=\"sk-container-id-1\" class=\"sk-top-container\"><div class=\"sk-text-repr-fallback\"><pre>TfidfVectorizer(min_df=3,\n",
              "                stop_words=[&#x27;i&#x27;, &#x27;me&#x27;, &#x27;my&#x27;, &#x27;myself&#x27;, &#x27;we&#x27;, &#x27;our&#x27;, &#x27;ours&#x27;,\n",
              "                            &#x27;ourselves&#x27;, &#x27;you&#x27;, &quot;you&#x27;re&quot;, &quot;you&#x27;ve&quot;, &quot;you&#x27;ll&quot;,\n",
              "                            &quot;you&#x27;d&quot;, &#x27;your&#x27;, &#x27;yours&#x27;, &#x27;yourself&#x27;, &#x27;yourselves&#x27;,\n",
              "                            &#x27;he&#x27;, &#x27;him&#x27;, &#x27;his&#x27;, &#x27;himself&#x27;, &#x27;she&#x27;, &quot;she&#x27;s&quot;,\n",
              "                            &#x27;her&#x27;, &#x27;hers&#x27;, &#x27;herself&#x27;, &#x27;it&#x27;, &quot;it&#x27;s&quot;, &#x27;its&#x27;,\n",
              "                            &#x27;itself&#x27;, ...],\n",
              "                tokenizer=&lt;function limpiar_tokenizar at 0x7f36253b5ee0&gt;)</pre><b>In a Jupyter environment, please rerun this cell to show the HTML representation or trust the notebook. <br />On GitHub, the HTML representation is unable to render, please try loading this page with nbviewer.org.</b></div><div class=\"sk-container\" hidden><div class=\"sk-item\"><div class=\"sk-estimator sk-toggleable\"><input class=\"sk-toggleable__control sk-hidden--visually\" id=\"sk-estimator-id-1\" type=\"checkbox\" checked><label for=\"sk-estimator-id-1\" class=\"sk-toggleable__label sk-toggleable__label-arrow\">TfidfVectorizer</label><div class=\"sk-toggleable__content\"><pre>TfidfVectorizer(min_df=3,\n",
              "                stop_words=[&#x27;i&#x27;, &#x27;me&#x27;, &#x27;my&#x27;, &#x27;myself&#x27;, &#x27;we&#x27;, &#x27;our&#x27;, &#x27;ours&#x27;,\n",
              "                            &#x27;ourselves&#x27;, &#x27;you&#x27;, &quot;you&#x27;re&quot;, &quot;you&#x27;ve&quot;, &quot;you&#x27;ll&quot;,\n",
              "                            &quot;you&#x27;d&quot;, &#x27;your&#x27;, &#x27;yours&#x27;, &#x27;yourself&#x27;, &#x27;yourselves&#x27;,\n",
              "                            &#x27;he&#x27;, &#x27;him&#x27;, &#x27;his&#x27;, &#x27;himself&#x27;, &#x27;she&#x27;, &quot;she&#x27;s&quot;,\n",
              "                            &#x27;her&#x27;, &#x27;hers&#x27;, &#x27;herself&#x27;, &#x27;it&#x27;, &quot;it&#x27;s&quot;, &#x27;its&#x27;,\n",
              "                            &#x27;itself&#x27;, ...],\n",
              "                tokenizer=&lt;function limpiar_tokenizar at 0x7f36253b5ee0&gt;)</pre></div></div></div></div></div>"
            ]
          },
          "metadata": {},
          "execution_count": 64
        }
      ]
    },
    {
      "cell_type": "markdown",
      "source": [
        "Es fundamental proyectar los documentos de test en la misma matriz obtenida previamente con los documentos de entrenamiento al realizar la transformación. Esto se debe a que si hay algún término en los documentos de test que no aparece en los de entrenamiento o viceversa, las dimensiones de cada matriz no coincidirán. Es decir, para que la transformación sea válida y los datos puedan ser utilizados en el modelo de aprendizaje, es necesario que las dimensiones de las matrices sean consistentes."
      ],
      "metadata": {
        "id": "ZLe9wpVFF9AN"
      }
    },
    {
      "cell_type": "code",
      "source": [
        "tfidf_train = tfidf_vectorizador.transform(X_train)\n",
        "tfidf_test  = tfidf_vectorizador.transform(X_test)"
      ],
      "metadata": {
        "id": "XpuKDpCkF-ti"
      },
      "execution_count": 70,
      "outputs": []
    },
    {
      "cell_type": "markdown",
      "source": [
        "# Modelo de aprendizaje estadístico SVM lineal"
      ],
      "metadata": {
        "id": "iG9QzjdTJPgg"
      }
    },
    {
      "cell_type": "code",
      "source": [
        "# Entrenamiento del modelo SVM\n",
        "\n",
        "modelo_svm_lineal = svm.SVC(kernel= \"linear\", C = 1.0)\n",
        "modelo_svm_lineal.fit(X=tfidf_train, y= y_train)"
      ],
      "metadata": {
        "colab": {
          "base_uri": "https://localhost:8080/",
          "height": 75
        },
        "id": "lsFL8DdoIONy",
        "outputId": "62c5025c-ffc6-40cd-fed3-a15c82609e8f"
      },
      "execution_count": 78,
      "outputs": [
        {
          "output_type": "execute_result",
          "data": {
            "text/plain": [
              "SVC(kernel='linear')"
            ],
            "text/html": [
              "<style>#sk-container-id-3 {color: black;background-color: white;}#sk-container-id-3 pre{padding: 0;}#sk-container-id-3 div.sk-toggleable {background-color: white;}#sk-container-id-3 label.sk-toggleable__label {cursor: pointer;display: block;width: 100%;margin-bottom: 0;padding: 0.3em;box-sizing: border-box;text-align: center;}#sk-container-id-3 label.sk-toggleable__label-arrow:before {content: \"▸\";float: left;margin-right: 0.25em;color: #696969;}#sk-container-id-3 label.sk-toggleable__label-arrow:hover:before {color: black;}#sk-container-id-3 div.sk-estimator:hover label.sk-toggleable__label-arrow:before {color: black;}#sk-container-id-3 div.sk-toggleable__content {max-height: 0;max-width: 0;overflow: hidden;text-align: left;background-color: #f0f8ff;}#sk-container-id-3 div.sk-toggleable__content pre {margin: 0.2em;color: black;border-radius: 0.25em;background-color: #f0f8ff;}#sk-container-id-3 input.sk-toggleable__control:checked~div.sk-toggleable__content {max-height: 200px;max-width: 100%;overflow: auto;}#sk-container-id-3 input.sk-toggleable__control:checked~label.sk-toggleable__label-arrow:before {content: \"▾\";}#sk-container-id-3 div.sk-estimator input.sk-toggleable__control:checked~label.sk-toggleable__label {background-color: #d4ebff;}#sk-container-id-3 div.sk-label input.sk-toggleable__control:checked~label.sk-toggleable__label {background-color: #d4ebff;}#sk-container-id-3 input.sk-hidden--visually {border: 0;clip: rect(1px 1px 1px 1px);clip: rect(1px, 1px, 1px, 1px);height: 1px;margin: -1px;overflow: hidden;padding: 0;position: absolute;width: 1px;}#sk-container-id-3 div.sk-estimator {font-family: monospace;background-color: #f0f8ff;border: 1px dotted black;border-radius: 0.25em;box-sizing: border-box;margin-bottom: 0.5em;}#sk-container-id-3 div.sk-estimator:hover {background-color: #d4ebff;}#sk-container-id-3 div.sk-parallel-item::after {content: \"\";width: 100%;border-bottom: 1px solid gray;flex-grow: 1;}#sk-container-id-3 div.sk-label:hover label.sk-toggleable__label {background-color: #d4ebff;}#sk-container-id-3 div.sk-serial::before {content: \"\";position: absolute;border-left: 1px solid gray;box-sizing: border-box;top: 0;bottom: 0;left: 50%;z-index: 0;}#sk-container-id-3 div.sk-serial {display: flex;flex-direction: column;align-items: center;background-color: white;padding-right: 0.2em;padding-left: 0.2em;position: relative;}#sk-container-id-3 div.sk-item {position: relative;z-index: 1;}#sk-container-id-3 div.sk-parallel {display: flex;align-items: stretch;justify-content: center;background-color: white;position: relative;}#sk-container-id-3 div.sk-item::before, #sk-container-id-3 div.sk-parallel-item::before {content: \"\";position: absolute;border-left: 1px solid gray;box-sizing: border-box;top: 0;bottom: 0;left: 50%;z-index: -1;}#sk-container-id-3 div.sk-parallel-item {display: flex;flex-direction: column;z-index: 1;position: relative;background-color: white;}#sk-container-id-3 div.sk-parallel-item:first-child::after {align-self: flex-end;width: 50%;}#sk-container-id-3 div.sk-parallel-item:last-child::after {align-self: flex-start;width: 50%;}#sk-container-id-3 div.sk-parallel-item:only-child::after {width: 0;}#sk-container-id-3 div.sk-dashed-wrapped {border: 1px dashed gray;margin: 0 0.4em 0.5em 0.4em;box-sizing: border-box;padding-bottom: 0.4em;background-color: white;}#sk-container-id-3 div.sk-label label {font-family: monospace;font-weight: bold;display: inline-block;line-height: 1.2em;}#sk-container-id-3 div.sk-label-container {text-align: center;}#sk-container-id-3 div.sk-container {/* jupyter's `normalize.less` sets `[hidden] { display: none; }` but bootstrap.min.css set `[hidden] { display: none !important; }` so we also need the `!important` here to be able to override the default hidden behavior on the sphinx rendered scikit-learn.org. See: https://github.com/scikit-learn/scikit-learn/issues/21755 */display: inline-block !important;position: relative;}#sk-container-id-3 div.sk-text-repr-fallback {display: none;}</style><div id=\"sk-container-id-3\" class=\"sk-top-container\"><div class=\"sk-text-repr-fallback\"><pre>SVC(kernel=&#x27;linear&#x27;)</pre><b>In a Jupyter environment, please rerun this cell to show the HTML representation or trust the notebook. <br />On GitHub, the HTML representation is unable to render, please try loading this page with nbviewer.org.</b></div><div class=\"sk-container\" hidden><div class=\"sk-item\"><div class=\"sk-estimator sk-toggleable\"><input class=\"sk-toggleable__control sk-hidden--visually\" id=\"sk-estimator-id-3\" type=\"checkbox\" checked><label for=\"sk-estimator-id-3\" class=\"sk-toggleable__label sk-toggleable__label-arrow\">SVC</label><div class=\"sk-toggleable__content\"><pre>SVC(kernel=&#x27;linear&#x27;)</pre></div></div></div></div></div>"
            ]
          },
          "metadata": {},
          "execution_count": 78
        }
      ]
    },
    {
      "cell_type": "code",
      "source": [
        "# Grid de hiperparámetros\n",
        "# ==============================================================================\n",
        "param_grid = {'C': np.logspace(-5, 3, 10)}\n",
        "\n",
        "# Búsqueda por validación cruzada\n",
        "# ==============================================================================\n",
        "grid = GridSearchCV(\n",
        "        estimator  = svm.SVC(kernel= \"linear\"),\n",
        "        param_grid = param_grid,\n",
        "        scoring    = 'accuracy',\n",
        "        n_jobs     = -1,\n",
        "        cv         = 5, \n",
        "        verbose    = 0,\n",
        "        return_train_score = True\n",
        "      )\n",
        "\n",
        "# Se asigna el resultado a _ para que no se imprima por pantalla\n",
        "_ = grid.fit(X = tfidf_train, y = y_train)\n",
        "\n",
        "# Resultados del grid\n",
        "# ==============================================================================\n",
        "resultados = pd.DataFrame(grid.cv_results_)\n",
        "resultados.filter(regex = '(param.*|mean_t|std_t)')\\\n",
        "    .drop(columns = 'params')\\\n",
        "    .sort_values('mean_test_score', ascending = False)"
      ],
      "metadata": {
        "colab": {
          "base_uri": "https://localhost:8080/",
          "height": 363
        },
        "id": "-w64Eg8KITLD",
        "outputId": "499b26d6-5223-4383-a9a5-28af63e62cfb"
      },
      "execution_count": 79,
      "outputs": [
        {
          "output_type": "execute_result",
          "data": {
            "text/plain": [
              "      param_C  mean_test_score  std_test_score  mean_train_score  \\\n",
              "6    2.154435         0.967317        0.003123          0.997073   \n",
              "5    0.278256         0.963902        0.001981          0.985244   \n",
              "7   16.681005         0.959756        0.004154          0.998720   \n",
              "8  129.154967         0.959024        0.005034          0.998780   \n",
              "9      1000.0         0.959024        0.005034          0.998780   \n",
              "4    0.035938         0.753902        0.013545          0.772683   \n",
              "0     0.00001         0.526829        0.000000          0.526829   \n",
              "1    0.000077         0.526829        0.000000          0.526829   \n",
              "2    0.000599         0.526829        0.000000          0.526829   \n",
              "3    0.004642         0.526829        0.000000          0.526829   \n",
              "\n",
              "   std_train_score  \n",
              "6         0.000366  \n",
              "5         0.000994  \n",
              "7         0.000122  \n",
              "8         0.000193  \n",
              "9         0.000193  \n",
              "4         0.006535  \n",
              "0         0.000000  \n",
              "1         0.000000  \n",
              "2         0.000000  \n",
              "3         0.000000  "
            ],
            "text/html": [
              "\n",
              "  <div id=\"df-d3cae9dd-95f3-40b5-a7f2-41abadba7d65\">\n",
              "    <div class=\"colab-df-container\">\n",
              "      <div>\n",
              "<style scoped>\n",
              "    .dataframe tbody tr th:only-of-type {\n",
              "        vertical-align: middle;\n",
              "    }\n",
              "\n",
              "    .dataframe tbody tr th {\n",
              "        vertical-align: top;\n",
              "    }\n",
              "\n",
              "    .dataframe thead th {\n",
              "        text-align: right;\n",
              "    }\n",
              "</style>\n",
              "<table border=\"1\" class=\"dataframe\">\n",
              "  <thead>\n",
              "    <tr style=\"text-align: right;\">\n",
              "      <th></th>\n",
              "      <th>param_C</th>\n",
              "      <th>mean_test_score</th>\n",
              "      <th>std_test_score</th>\n",
              "      <th>mean_train_score</th>\n",
              "      <th>std_train_score</th>\n",
              "    </tr>\n",
              "  </thead>\n",
              "  <tbody>\n",
              "    <tr>\n",
              "      <th>6</th>\n",
              "      <td>2.154435</td>\n",
              "      <td>0.967317</td>\n",
              "      <td>0.003123</td>\n",
              "      <td>0.997073</td>\n",
              "      <td>0.000366</td>\n",
              "    </tr>\n",
              "    <tr>\n",
              "      <th>5</th>\n",
              "      <td>0.278256</td>\n",
              "      <td>0.963902</td>\n",
              "      <td>0.001981</td>\n",
              "      <td>0.985244</td>\n",
              "      <td>0.000994</td>\n",
              "    </tr>\n",
              "    <tr>\n",
              "      <th>7</th>\n",
              "      <td>16.681005</td>\n",
              "      <td>0.959756</td>\n",
              "      <td>0.004154</td>\n",
              "      <td>0.998720</td>\n",
              "      <td>0.000122</td>\n",
              "    </tr>\n",
              "    <tr>\n",
              "      <th>8</th>\n",
              "      <td>129.154967</td>\n",
              "      <td>0.959024</td>\n",
              "      <td>0.005034</td>\n",
              "      <td>0.998780</td>\n",
              "      <td>0.000193</td>\n",
              "    </tr>\n",
              "    <tr>\n",
              "      <th>9</th>\n",
              "      <td>1000.0</td>\n",
              "      <td>0.959024</td>\n",
              "      <td>0.005034</td>\n",
              "      <td>0.998780</td>\n",
              "      <td>0.000193</td>\n",
              "    </tr>\n",
              "    <tr>\n",
              "      <th>4</th>\n",
              "      <td>0.035938</td>\n",
              "      <td>0.753902</td>\n",
              "      <td>0.013545</td>\n",
              "      <td>0.772683</td>\n",
              "      <td>0.006535</td>\n",
              "    </tr>\n",
              "    <tr>\n",
              "      <th>0</th>\n",
              "      <td>0.00001</td>\n",
              "      <td>0.526829</td>\n",
              "      <td>0.000000</td>\n",
              "      <td>0.526829</td>\n",
              "      <td>0.000000</td>\n",
              "    </tr>\n",
              "    <tr>\n",
              "      <th>1</th>\n",
              "      <td>0.000077</td>\n",
              "      <td>0.526829</td>\n",
              "      <td>0.000000</td>\n",
              "      <td>0.526829</td>\n",
              "      <td>0.000000</td>\n",
              "    </tr>\n",
              "    <tr>\n",
              "      <th>2</th>\n",
              "      <td>0.000599</td>\n",
              "      <td>0.526829</td>\n",
              "      <td>0.000000</td>\n",
              "      <td>0.526829</td>\n",
              "      <td>0.000000</td>\n",
              "    </tr>\n",
              "    <tr>\n",
              "      <th>3</th>\n",
              "      <td>0.004642</td>\n",
              "      <td>0.526829</td>\n",
              "      <td>0.000000</td>\n",
              "      <td>0.526829</td>\n",
              "      <td>0.000000</td>\n",
              "    </tr>\n",
              "  </tbody>\n",
              "</table>\n",
              "</div>\n",
              "      <button class=\"colab-df-convert\" onclick=\"convertToInteractive('df-d3cae9dd-95f3-40b5-a7f2-41abadba7d65')\"\n",
              "              title=\"Convert this dataframe to an interactive table.\"\n",
              "              style=\"display:none;\">\n",
              "        \n",
              "  <svg xmlns=\"http://www.w3.org/2000/svg\" height=\"24px\"viewBox=\"0 0 24 24\"\n",
              "       width=\"24px\">\n",
              "    <path d=\"M0 0h24v24H0V0z\" fill=\"none\"/>\n",
              "    <path d=\"M18.56 5.44l.94 2.06.94-2.06 2.06-.94-2.06-.94-.94-2.06-.94 2.06-2.06.94zm-11 1L8.5 8.5l.94-2.06 2.06-.94-2.06-.94L8.5 2.5l-.94 2.06-2.06.94zm10 10l.94 2.06.94-2.06 2.06-.94-2.06-.94-.94-2.06-.94 2.06-2.06.94z\"/><path d=\"M17.41 7.96l-1.37-1.37c-.4-.4-.92-.59-1.43-.59-.52 0-1.04.2-1.43.59L10.3 9.45l-7.72 7.72c-.78.78-.78 2.05 0 2.83L4 21.41c.39.39.9.59 1.41.59.51 0 1.02-.2 1.41-.59l7.78-7.78 2.81-2.81c.8-.78.8-2.07 0-2.86zM5.41 20L4 18.59l7.72-7.72 1.47 1.35L5.41 20z\"/>\n",
              "  </svg>\n",
              "      </button>\n",
              "      \n",
              "  <style>\n",
              "    .colab-df-container {\n",
              "      display:flex;\n",
              "      flex-wrap:wrap;\n",
              "      gap: 12px;\n",
              "    }\n",
              "\n",
              "    .colab-df-convert {\n",
              "      background-color: #E8F0FE;\n",
              "      border: none;\n",
              "      border-radius: 50%;\n",
              "      cursor: pointer;\n",
              "      display: none;\n",
              "      fill: #1967D2;\n",
              "      height: 32px;\n",
              "      padding: 0 0 0 0;\n",
              "      width: 32px;\n",
              "    }\n",
              "\n",
              "    .colab-df-convert:hover {\n",
              "      background-color: #E2EBFA;\n",
              "      box-shadow: 0px 1px 2px rgba(60, 64, 67, 0.3), 0px 1px 3px 1px rgba(60, 64, 67, 0.15);\n",
              "      fill: #174EA6;\n",
              "    }\n",
              "\n",
              "    [theme=dark] .colab-df-convert {\n",
              "      background-color: #3B4455;\n",
              "      fill: #D2E3FC;\n",
              "    }\n",
              "\n",
              "    [theme=dark] .colab-df-convert:hover {\n",
              "      background-color: #434B5C;\n",
              "      box-shadow: 0px 1px 3px 1px rgba(0, 0, 0, 0.15);\n",
              "      filter: drop-shadow(0px 1px 2px rgba(0, 0, 0, 0.3));\n",
              "      fill: #FFFFFF;\n",
              "    }\n",
              "  </style>\n",
              "\n",
              "      <script>\n",
              "        const buttonEl =\n",
              "          document.querySelector('#df-d3cae9dd-95f3-40b5-a7f2-41abadba7d65 button.colab-df-convert');\n",
              "        buttonEl.style.display =\n",
              "          google.colab.kernel.accessAllowed ? 'block' : 'none';\n",
              "\n",
              "        async function convertToInteractive(key) {\n",
              "          const element = document.querySelector('#df-d3cae9dd-95f3-40b5-a7f2-41abadba7d65');\n",
              "          const dataTable =\n",
              "            await google.colab.kernel.invokeFunction('convertToInteractive',\n",
              "                                                     [key], {});\n",
              "          if (!dataTable) return;\n",
              "\n",
              "          const docLinkHtml = 'Like what you see? Visit the ' +\n",
              "            '<a target=\"_blank\" href=https://colab.research.google.com/notebooks/data_table.ipynb>data table notebook</a>'\n",
              "            + ' to learn more about interactive tables.';\n",
              "          element.innerHTML = '';\n",
              "          dataTable['output_type'] = 'display_data';\n",
              "          await google.colab.output.renderOutput(dataTable, element);\n",
              "          const docLink = document.createElement('div');\n",
              "          docLink.innerHTML = docLinkHtml;\n",
              "          element.appendChild(docLink);\n",
              "        }\n",
              "      </script>\n",
              "    </div>\n",
              "  </div>\n",
              "  "
            ]
          },
          "metadata": {},
          "execution_count": 79
        }
      ]
    },
    {
      "cell_type": "code",
      "source": [
        "# Mejores hiperparámetros por validación cruzada\n",
        "\n",
        "print(\"----------------------------------------\")\n",
        "print(\"Mejores hiperparámetros encontrados (cv)\")\n",
        "print(\"----------------------------------------\")\n",
        "print(grid.best_params_, \":\", grid.best_score_, grid.scoring)\n",
        "\n",
        "modelo_final = grid.best_estimator_"
      ],
      "metadata": {
        "colab": {
          "base_uri": "https://localhost:8080/"
        },
        "id": "H6QO5fpoJiEy",
        "outputId": "ab7dedc9-d7c7-4a0f-8399-a0c9b2256ae8"
      },
      "execution_count": 80,
      "outputs": [
        {
          "output_type": "stream",
          "name": "stdout",
          "text": [
            "----------------------------------------\n",
            "Mejores hiperparámetros encontrados (cv)\n",
            "----------------------------------------\n",
            "{'C': 2.154434690031882} : 0.9673170731707316 accuracy\n"
          ]
        }
      ]
    },
    {
      "cell_type": "code",
      "source": [
        "# Error predicciones test\n",
        "\n",
        "predicciones_test = modelo_final.predict(X=tfidf_test)\n",
        "\n",
        "print(\"-------------\")\n",
        "print(\"Error de test\")\n",
        "print(\"-------------\")\n",
        "\n",
        "print(f\"Número de clasificaciones erróneas de un total de {tfidf_test.shape[0]} \" \\\n",
        "      f\"clasificaciones: {(y_test != predicciones_test).sum()}\"\n",
        ")\n",
        "print(f\"% de error: {100*(y_test != predicciones_test).mean()}\")\n",
        "\n",
        "print(\"\")\n",
        "print(\"-------------------\")\n",
        "print(\"Matriz de confusión\")\n",
        "print(\"-------------------\")\n",
        "pd.DataFrame(confusion_matrix(y_true = y_test, y_pred= predicciones_test),\n",
        "             columns= [\"Elon Musk\", \"Mayor Ed Lee\"],\n",
        "             index = [\"Elon Musk\", \"Mayor Ed Lee\"])"
      ],
      "metadata": {
        "colab": {
          "base_uri": "https://localhost:8080/",
          "height": 268
        },
        "id": "pP2ptCddJreb",
        "outputId": "1354a45c-ee5e-4f38-be2c-3d0a81278609"
      },
      "execution_count": 81,
      "outputs": [
        {
          "output_type": "stream",
          "name": "stdout",
          "text": [
            "-------------\n",
            "Error de test\n",
            "-------------\n",
            "Número de clasificaciones erróneas de un total de 1025 clasificaciones: 21\n",
            "% de error: 2.048780487804878\n",
            "\n",
            "-------------------\n",
            "Matriz de confusión\n",
            "-------------------\n"
          ]
        },
        {
          "output_type": "execute_result",
          "data": {
            "text/plain": [
              "              Elon Musk  Mayor Ed Lee\n",
              "Elon Musk           512             6\n",
              "Mayor Ed Lee         15           492"
            ],
            "text/html": [
              "\n",
              "  <div id=\"df-a1bafc66-b379-493e-b55d-852e22f3d86e\">\n",
              "    <div class=\"colab-df-container\">\n",
              "      <div>\n",
              "<style scoped>\n",
              "    .dataframe tbody tr th:only-of-type {\n",
              "        vertical-align: middle;\n",
              "    }\n",
              "\n",
              "    .dataframe tbody tr th {\n",
              "        vertical-align: top;\n",
              "    }\n",
              "\n",
              "    .dataframe thead th {\n",
              "        text-align: right;\n",
              "    }\n",
              "</style>\n",
              "<table border=\"1\" class=\"dataframe\">\n",
              "  <thead>\n",
              "    <tr style=\"text-align: right;\">\n",
              "      <th></th>\n",
              "      <th>Elon Musk</th>\n",
              "      <th>Mayor Ed Lee</th>\n",
              "    </tr>\n",
              "  </thead>\n",
              "  <tbody>\n",
              "    <tr>\n",
              "      <th>Elon Musk</th>\n",
              "      <td>512</td>\n",
              "      <td>6</td>\n",
              "    </tr>\n",
              "    <tr>\n",
              "      <th>Mayor Ed Lee</th>\n",
              "      <td>15</td>\n",
              "      <td>492</td>\n",
              "    </tr>\n",
              "  </tbody>\n",
              "</table>\n",
              "</div>\n",
              "      <button class=\"colab-df-convert\" onclick=\"convertToInteractive('df-a1bafc66-b379-493e-b55d-852e22f3d86e')\"\n",
              "              title=\"Convert this dataframe to an interactive table.\"\n",
              "              style=\"display:none;\">\n",
              "        \n",
              "  <svg xmlns=\"http://www.w3.org/2000/svg\" height=\"24px\"viewBox=\"0 0 24 24\"\n",
              "       width=\"24px\">\n",
              "    <path d=\"M0 0h24v24H0V0z\" fill=\"none\"/>\n",
              "    <path d=\"M18.56 5.44l.94 2.06.94-2.06 2.06-.94-2.06-.94-.94-2.06-.94 2.06-2.06.94zm-11 1L8.5 8.5l.94-2.06 2.06-.94-2.06-.94L8.5 2.5l-.94 2.06-2.06.94zm10 10l.94 2.06.94-2.06 2.06-.94-2.06-.94-.94-2.06-.94 2.06-2.06.94z\"/><path d=\"M17.41 7.96l-1.37-1.37c-.4-.4-.92-.59-1.43-.59-.52 0-1.04.2-1.43.59L10.3 9.45l-7.72 7.72c-.78.78-.78 2.05 0 2.83L4 21.41c.39.39.9.59 1.41.59.51 0 1.02-.2 1.41-.59l7.78-7.78 2.81-2.81c.8-.78.8-2.07 0-2.86zM5.41 20L4 18.59l7.72-7.72 1.47 1.35L5.41 20z\"/>\n",
              "  </svg>\n",
              "      </button>\n",
              "      \n",
              "  <style>\n",
              "    .colab-df-container {\n",
              "      display:flex;\n",
              "      flex-wrap:wrap;\n",
              "      gap: 12px;\n",
              "    }\n",
              "\n",
              "    .colab-df-convert {\n",
              "      background-color: #E8F0FE;\n",
              "      border: none;\n",
              "      border-radius: 50%;\n",
              "      cursor: pointer;\n",
              "      display: none;\n",
              "      fill: #1967D2;\n",
              "      height: 32px;\n",
              "      padding: 0 0 0 0;\n",
              "      width: 32px;\n",
              "    }\n",
              "\n",
              "    .colab-df-convert:hover {\n",
              "      background-color: #E2EBFA;\n",
              "      box-shadow: 0px 1px 2px rgba(60, 64, 67, 0.3), 0px 1px 3px 1px rgba(60, 64, 67, 0.15);\n",
              "      fill: #174EA6;\n",
              "    }\n",
              "\n",
              "    [theme=dark] .colab-df-convert {\n",
              "      background-color: #3B4455;\n",
              "      fill: #D2E3FC;\n",
              "    }\n",
              "\n",
              "    [theme=dark] .colab-df-convert:hover {\n",
              "      background-color: #434B5C;\n",
              "      box-shadow: 0px 1px 3px 1px rgba(0, 0, 0, 0.15);\n",
              "      filter: drop-shadow(0px 1px 2px rgba(0, 0, 0, 0.3));\n",
              "      fill: #FFFFFF;\n",
              "    }\n",
              "  </style>\n",
              "\n",
              "      <script>\n",
              "        const buttonEl =\n",
              "          document.querySelector('#df-a1bafc66-b379-493e-b55d-852e22f3d86e button.colab-df-convert');\n",
              "        buttonEl.style.display =\n",
              "          google.colab.kernel.accessAllowed ? 'block' : 'none';\n",
              "\n",
              "        async function convertToInteractive(key) {\n",
              "          const element = document.querySelector('#df-a1bafc66-b379-493e-b55d-852e22f3d86e');\n",
              "          const dataTable =\n",
              "            await google.colab.kernel.invokeFunction('convertToInteractive',\n",
              "                                                     [key], {});\n",
              "          if (!dataTable) return;\n",
              "\n",
              "          const docLinkHtml = 'Like what you see? Visit the ' +\n",
              "            '<a target=\"_blank\" href=https://colab.research.google.com/notebooks/data_table.ipynb>data table notebook</a>'\n",
              "            + ' to learn more about interactive tables.';\n",
              "          element.innerHTML = '';\n",
              "          dataTable['output_type'] = 'display_data';\n",
              "          await google.colab.output.renderOutput(dataTable, element);\n",
              "          const docLink = document.createElement('div');\n",
              "          docLink.innerHTML = docLinkHtml;\n",
              "          element.appendChild(docLink);\n",
              "        }\n",
              "      </script>\n",
              "    </div>\n",
              "  </div>\n",
              "  "
            ]
          },
          "metadata": {},
          "execution_count": 81
        }
      ]
    },
    {
      "cell_type": "markdown",
      "source": [
        "Utilizando un modelo de SVM lineal con un hiperparámetro de C=2.15, se logra obtener un error de prueba del 2.05%. Si bien este porcentaje de error es bastante bajo, es posible obtener resultados aún mejores explorando otros modelos, como SVM no lineales o Random Forest."
      ],
      "metadata": {
        "id": "R43KLGgpJ3su"
      }
    },
    {
      "cell_type": "markdown",
      "source": [
        "# Análisis de sentimientos en Twitter mediante SVM lineal y tf-idf."
      ],
      "metadata": {
        "id": "_C6KvWkjJ4T5"
      }
    },
    {
      "cell_type": "markdown",
      "source": [
        "Una forma común de analizar el sentimiento de un texto es mediante la suma de los sentimientos de cada una de las palabras que lo componen. Si bien esta no es la única forma de abordar el análisis de sentimientos, es una técnica que logra un buen equilibrio entre complejidad y resultados.\n",
        "\n",
        "Para realizar este enfoque, se requiere contar con un diccionario que asocie a cada palabra un sentimiento o nivel de sentimiento. Estos diccionarios son conocidos como \"sentiment lexicon\". Entre los más utilizados se encuentran:\n",
        "\n",
        "* AFINN: en él, se asigna a cada palabra un valor entre -5 y 5, siendo -5 el máximo de negatividad y +5 el máximo de positividad. Se puede acceder al diccionario a través del repositorio https://github.com/fnielsen/afinn/tree/master/afinn/data.\n",
        "\n",
        "* Bing y Liu (http://www.cs.uic.edu/~liub/FBS/opinion-lexicon-English.rar), donde las palabras están clasificadas como positivas o negativas."
      ],
      "metadata": {
        "id": "IlptUAEEKAiM"
      }
    },
    {
      "cell_type": "code",
      "source": [
        "# Descarga lexicon sentimientos\n",
        "\n",
        "lexicon = pd.read_table(\n",
        "            'https://raw.githubusercontent.com/fnielsen/afinn/master/afinn/data/AFINN-en-165.txt',\n",
        "            names = ['termino', 'sentimiento']\n",
        "          )\n",
        "lexicon.head()"
      ],
      "metadata": {
        "colab": {
          "base_uri": "https://localhost:8080/",
          "height": 206
        },
        "id": "RUbo3atbKriu",
        "outputId": "369b1c19-bfd9-4886-ea9f-e3006069a09a"
      },
      "execution_count": 82,
      "outputs": [
        {
          "output_type": "execute_result",
          "data": {
            "text/plain": [
              "     termino  sentimiento\n",
              "0    abandon           -2\n",
              "1  abandoned           -2\n",
              "2   abandons           -2\n",
              "3   abducted           -2\n",
              "4  abduction           -2"
            ],
            "text/html": [
              "\n",
              "  <div id=\"df-f41aadcc-4bcc-46d7-b8f0-c5e47cea6a7f\">\n",
              "    <div class=\"colab-df-container\">\n",
              "      <div>\n",
              "<style scoped>\n",
              "    .dataframe tbody tr th:only-of-type {\n",
              "        vertical-align: middle;\n",
              "    }\n",
              "\n",
              "    .dataframe tbody tr th {\n",
              "        vertical-align: top;\n",
              "    }\n",
              "\n",
              "    .dataframe thead th {\n",
              "        text-align: right;\n",
              "    }\n",
              "</style>\n",
              "<table border=\"1\" class=\"dataframe\">\n",
              "  <thead>\n",
              "    <tr style=\"text-align: right;\">\n",
              "      <th></th>\n",
              "      <th>termino</th>\n",
              "      <th>sentimiento</th>\n",
              "    </tr>\n",
              "  </thead>\n",
              "  <tbody>\n",
              "    <tr>\n",
              "      <th>0</th>\n",
              "      <td>abandon</td>\n",
              "      <td>-2</td>\n",
              "    </tr>\n",
              "    <tr>\n",
              "      <th>1</th>\n",
              "      <td>abandoned</td>\n",
              "      <td>-2</td>\n",
              "    </tr>\n",
              "    <tr>\n",
              "      <th>2</th>\n",
              "      <td>abandons</td>\n",
              "      <td>-2</td>\n",
              "    </tr>\n",
              "    <tr>\n",
              "      <th>3</th>\n",
              "      <td>abducted</td>\n",
              "      <td>-2</td>\n",
              "    </tr>\n",
              "    <tr>\n",
              "      <th>4</th>\n",
              "      <td>abduction</td>\n",
              "      <td>-2</td>\n",
              "    </tr>\n",
              "  </tbody>\n",
              "</table>\n",
              "</div>\n",
              "      <button class=\"colab-df-convert\" onclick=\"convertToInteractive('df-f41aadcc-4bcc-46d7-b8f0-c5e47cea6a7f')\"\n",
              "              title=\"Convert this dataframe to an interactive table.\"\n",
              "              style=\"display:none;\">\n",
              "        \n",
              "  <svg xmlns=\"http://www.w3.org/2000/svg\" height=\"24px\"viewBox=\"0 0 24 24\"\n",
              "       width=\"24px\">\n",
              "    <path d=\"M0 0h24v24H0V0z\" fill=\"none\"/>\n",
              "    <path d=\"M18.56 5.44l.94 2.06.94-2.06 2.06-.94-2.06-.94-.94-2.06-.94 2.06-2.06.94zm-11 1L8.5 8.5l.94-2.06 2.06-.94-2.06-.94L8.5 2.5l-.94 2.06-2.06.94zm10 10l.94 2.06.94-2.06 2.06-.94-2.06-.94-.94-2.06-.94 2.06-2.06.94z\"/><path d=\"M17.41 7.96l-1.37-1.37c-.4-.4-.92-.59-1.43-.59-.52 0-1.04.2-1.43.59L10.3 9.45l-7.72 7.72c-.78.78-.78 2.05 0 2.83L4 21.41c.39.39.9.59 1.41.59.51 0 1.02-.2 1.41-.59l7.78-7.78 2.81-2.81c.8-.78.8-2.07 0-2.86zM5.41 20L4 18.59l7.72-7.72 1.47 1.35L5.41 20z\"/>\n",
              "  </svg>\n",
              "      </button>\n",
              "      \n",
              "  <style>\n",
              "    .colab-df-container {\n",
              "      display:flex;\n",
              "      flex-wrap:wrap;\n",
              "      gap: 12px;\n",
              "    }\n",
              "\n",
              "    .colab-df-convert {\n",
              "      background-color: #E8F0FE;\n",
              "      border: none;\n",
              "      border-radius: 50%;\n",
              "      cursor: pointer;\n",
              "      display: none;\n",
              "      fill: #1967D2;\n",
              "      height: 32px;\n",
              "      padding: 0 0 0 0;\n",
              "      width: 32px;\n",
              "    }\n",
              "\n",
              "    .colab-df-convert:hover {\n",
              "      background-color: #E2EBFA;\n",
              "      box-shadow: 0px 1px 2px rgba(60, 64, 67, 0.3), 0px 1px 3px 1px rgba(60, 64, 67, 0.15);\n",
              "      fill: #174EA6;\n",
              "    }\n",
              "\n",
              "    [theme=dark] .colab-df-convert {\n",
              "      background-color: #3B4455;\n",
              "      fill: #D2E3FC;\n",
              "    }\n",
              "\n",
              "    [theme=dark] .colab-df-convert:hover {\n",
              "      background-color: #434B5C;\n",
              "      box-shadow: 0px 1px 3px 1px rgba(0, 0, 0, 0.15);\n",
              "      filter: drop-shadow(0px 1px 2px rgba(0, 0, 0, 0.3));\n",
              "      fill: #FFFFFF;\n",
              "    }\n",
              "  </style>\n",
              "\n",
              "      <script>\n",
              "        const buttonEl =\n",
              "          document.querySelector('#df-f41aadcc-4bcc-46d7-b8f0-c5e47cea6a7f button.colab-df-convert');\n",
              "        buttonEl.style.display =\n",
              "          google.colab.kernel.accessAllowed ? 'block' : 'none';\n",
              "\n",
              "        async function convertToInteractive(key) {\n",
              "          const element = document.querySelector('#df-f41aadcc-4bcc-46d7-b8f0-c5e47cea6a7f');\n",
              "          const dataTable =\n",
              "            await google.colab.kernel.invokeFunction('convertToInteractive',\n",
              "                                                     [key], {});\n",
              "          if (!dataTable) return;\n",
              "\n",
              "          const docLinkHtml = 'Like what you see? Visit the ' +\n",
              "            '<a target=\"_blank\" href=https://colab.research.google.com/notebooks/data_table.ipynb>data table notebook</a>'\n",
              "            + ' to learn more about interactive tables.';\n",
              "          element.innerHTML = '';\n",
              "          dataTable['output_type'] = 'display_data';\n",
              "          await google.colab.output.renderOutput(dataTable, element);\n",
              "          const docLink = document.createElement('div');\n",
              "          docLink.innerHTML = docLinkHtml;\n",
              "          element.appendChild(docLink);\n",
              "        }\n",
              "      </script>\n",
              "    </div>\n",
              "  </div>\n",
              "  "
            ]
          },
          "metadata": {},
          "execution_count": 82
        }
      ]
    },
    {
      "cell_type": "markdown",
      "source": [
        "## Cálculo del sentimiento promedio de cada tweet mediante análisis de sentimientos."
      ],
      "metadata": {
        "id": "jeK78IOtKz0b"
      }
    },
    {
      "cell_type": "markdown",
      "source": [
        "Al disponer de los datos en formato tidy (una palabra por fila), mediante un inner join se añade a cada palabra su sentimiento y se filtran automáticamente todas aquellas palabras para las que no hay información disponible."
      ],
      "metadata": {
        "id": "XuI65nIeK6LL"
      }
    },
    {
      "cell_type": "code",
      "source": [
        "# Sentimiento promedio de cada tweet\n",
        "# ==============================================================================\n",
        "tweets_sentimientos = pd.merge(\n",
        "                            left     = tweets_tidy,\n",
        "                            right    = lexicon,\n",
        "                            left_on  = \"token\", \n",
        "                            right_on = \"termino\",\n",
        "                            how      = \"inner\"\n",
        "                      )\n",
        "\n",
        "tweets_sentimientos = tweets_sentimientos.drop(columns = \"termino\")\n",
        "\n",
        "# Se suman los sentimientos de las palabras que forman cada tweet.\n",
        "tweets_sentimientos = tweets_sentimientos[[\"autor\",\"fecha\", \"id\", \"sentimiento\"]] \\\n",
        "                      .groupby([\"autor\", \"fecha\", \"id\"])\\\n",
        "                      .sum().reset_index()\n",
        "tweets_sentimientos.head()"
      ],
      "metadata": {
        "colab": {
          "base_uri": "https://localhost:8080/",
          "height": 206
        },
        "id": "LdwDUKHqK4CD",
        "outputId": "c5a97bf0-1e25-4f16-bd0a-3c4c82805b6f"
      },
      "execution_count": 83,
      "outputs": [
        {
          "output_type": "execute_result",
          "data": {
            "text/plain": [
              "       autor                     fecha            id  sentimiento\n",
              "0  BillGates 2011-09-29 21:11:15+00:00  1.195196e+17            6\n",
              "1  BillGates 2011-10-04 19:06:05+00:00  1.213001e+17           -3\n",
              "2  BillGates 2011-10-06 00:37:29+00:00  1.217459e+17            3\n",
              "3  BillGates 2011-10-06 00:38:09+00:00  1.217460e+17            6\n",
              "4  BillGates 2011-10-19 22:12:21+00:00  1.267828e+17            3"
            ],
            "text/html": [
              "\n",
              "  <div id=\"df-4e86fa95-c70c-48be-8296-1431c57f5a7d\">\n",
              "    <div class=\"colab-df-container\">\n",
              "      <div>\n",
              "<style scoped>\n",
              "    .dataframe tbody tr th:only-of-type {\n",
              "        vertical-align: middle;\n",
              "    }\n",
              "\n",
              "    .dataframe tbody tr th {\n",
              "        vertical-align: top;\n",
              "    }\n",
              "\n",
              "    .dataframe thead th {\n",
              "        text-align: right;\n",
              "    }\n",
              "</style>\n",
              "<table border=\"1\" class=\"dataframe\">\n",
              "  <thead>\n",
              "    <tr style=\"text-align: right;\">\n",
              "      <th></th>\n",
              "      <th>autor</th>\n",
              "      <th>fecha</th>\n",
              "      <th>id</th>\n",
              "      <th>sentimiento</th>\n",
              "    </tr>\n",
              "  </thead>\n",
              "  <tbody>\n",
              "    <tr>\n",
              "      <th>0</th>\n",
              "      <td>BillGates</td>\n",
              "      <td>2011-09-29 21:11:15+00:00</td>\n",
              "      <td>1.195196e+17</td>\n",
              "      <td>6</td>\n",
              "    </tr>\n",
              "    <tr>\n",
              "      <th>1</th>\n",
              "      <td>BillGates</td>\n",
              "      <td>2011-10-04 19:06:05+00:00</td>\n",
              "      <td>1.213001e+17</td>\n",
              "      <td>-3</td>\n",
              "    </tr>\n",
              "    <tr>\n",
              "      <th>2</th>\n",
              "      <td>BillGates</td>\n",
              "      <td>2011-10-06 00:37:29+00:00</td>\n",
              "      <td>1.217459e+17</td>\n",
              "      <td>3</td>\n",
              "    </tr>\n",
              "    <tr>\n",
              "      <th>3</th>\n",
              "      <td>BillGates</td>\n",
              "      <td>2011-10-06 00:38:09+00:00</td>\n",
              "      <td>1.217460e+17</td>\n",
              "      <td>6</td>\n",
              "    </tr>\n",
              "    <tr>\n",
              "      <th>4</th>\n",
              "      <td>BillGates</td>\n",
              "      <td>2011-10-19 22:12:21+00:00</td>\n",
              "      <td>1.267828e+17</td>\n",
              "      <td>3</td>\n",
              "    </tr>\n",
              "  </tbody>\n",
              "</table>\n",
              "</div>\n",
              "      <button class=\"colab-df-convert\" onclick=\"convertToInteractive('df-4e86fa95-c70c-48be-8296-1431c57f5a7d')\"\n",
              "              title=\"Convert this dataframe to an interactive table.\"\n",
              "              style=\"display:none;\">\n",
              "        \n",
              "  <svg xmlns=\"http://www.w3.org/2000/svg\" height=\"24px\"viewBox=\"0 0 24 24\"\n",
              "       width=\"24px\">\n",
              "    <path d=\"M0 0h24v24H0V0z\" fill=\"none\"/>\n",
              "    <path d=\"M18.56 5.44l.94 2.06.94-2.06 2.06-.94-2.06-.94-.94-2.06-.94 2.06-2.06.94zm-11 1L8.5 8.5l.94-2.06 2.06-.94-2.06-.94L8.5 2.5l-.94 2.06-2.06.94zm10 10l.94 2.06.94-2.06 2.06-.94-2.06-.94-.94-2.06-.94 2.06-2.06.94z\"/><path d=\"M17.41 7.96l-1.37-1.37c-.4-.4-.92-.59-1.43-.59-.52 0-1.04.2-1.43.59L10.3 9.45l-7.72 7.72c-.78.78-.78 2.05 0 2.83L4 21.41c.39.39.9.59 1.41.59.51 0 1.02-.2 1.41-.59l7.78-7.78 2.81-2.81c.8-.78.8-2.07 0-2.86zM5.41 20L4 18.59l7.72-7.72 1.47 1.35L5.41 20z\"/>\n",
              "  </svg>\n",
              "      </button>\n",
              "      \n",
              "  <style>\n",
              "    .colab-df-container {\n",
              "      display:flex;\n",
              "      flex-wrap:wrap;\n",
              "      gap: 12px;\n",
              "    }\n",
              "\n",
              "    .colab-df-convert {\n",
              "      background-color: #E8F0FE;\n",
              "      border: none;\n",
              "      border-radius: 50%;\n",
              "      cursor: pointer;\n",
              "      display: none;\n",
              "      fill: #1967D2;\n",
              "      height: 32px;\n",
              "      padding: 0 0 0 0;\n",
              "      width: 32px;\n",
              "    }\n",
              "\n",
              "    .colab-df-convert:hover {\n",
              "      background-color: #E2EBFA;\n",
              "      box-shadow: 0px 1px 2px rgba(60, 64, 67, 0.3), 0px 1px 3px 1px rgba(60, 64, 67, 0.15);\n",
              "      fill: #174EA6;\n",
              "    }\n",
              "\n",
              "    [theme=dark] .colab-df-convert {\n",
              "      background-color: #3B4455;\n",
              "      fill: #D2E3FC;\n",
              "    }\n",
              "\n",
              "    [theme=dark] .colab-df-convert:hover {\n",
              "      background-color: #434B5C;\n",
              "      box-shadow: 0px 1px 3px 1px rgba(0, 0, 0, 0.15);\n",
              "      filter: drop-shadow(0px 1px 2px rgba(0, 0, 0, 0.3));\n",
              "      fill: #FFFFFF;\n",
              "    }\n",
              "  </style>\n",
              "\n",
              "      <script>\n",
              "        const buttonEl =\n",
              "          document.querySelector('#df-4e86fa95-c70c-48be-8296-1431c57f5a7d button.colab-df-convert');\n",
              "        buttonEl.style.display =\n",
              "          google.colab.kernel.accessAllowed ? 'block' : 'none';\n",
              "\n",
              "        async function convertToInteractive(key) {\n",
              "          const element = document.querySelector('#df-4e86fa95-c70c-48be-8296-1431c57f5a7d');\n",
              "          const dataTable =\n",
              "            await google.colab.kernel.invokeFunction('convertToInteractive',\n",
              "                                                     [key], {});\n",
              "          if (!dataTable) return;\n",
              "\n",
              "          const docLinkHtml = 'Like what you see? Visit the ' +\n",
              "            '<a target=\"_blank\" href=https://colab.research.google.com/notebooks/data_table.ipynb>data table notebook</a>'\n",
              "            + ' to learn more about interactive tables.';\n",
              "          element.innerHTML = '';\n",
              "          dataTable['output_type'] = 'display_data';\n",
              "          await google.colab.output.renderOutput(dataTable, element);\n",
              "          const docLink = document.createElement('div');\n",
              "          docLink.innerHTML = docLinkHtml;\n",
              "          element.appendChild(docLink);\n",
              "        }\n",
              "      </script>\n",
              "    </div>\n",
              "  </div>\n",
              "  "
            ]
          },
          "metadata": {},
          "execution_count": 83
        }
      ]
    },
    {
      "cell_type": "markdown",
      "source": [
        "## Tweets positivos, negativos y neutros"
      ],
      "metadata": {
        "id": "4mBl2JkwK80z"
      }
    },
    {
      "cell_type": "code",
      "source": [
        "def perfil_sentimientos(df):\n",
        "    print(autor)\n",
        "    print(\"=\" * 12)\n",
        "    print(f\"Positivos: {round(100 * np.mean(df.sentimiento > 0), 2)}\")\n",
        "    print(f\"Neutros  : {round(100 * np.mean(df.sentimiento == 0), 2)}\")\n",
        "    print(f\"Negativos: {round(100 * np.mean(df.sentimiento < 0), 2)}\")\n",
        "    print(\" \")\n",
        "\n",
        "for autor, df in tweets_sentimientos.groupby(\"autor\"):\n",
        "    perfil_sentimientos(df)"
      ],
      "metadata": {
        "colab": {
          "base_uri": "https://localhost:8080/"
        },
        "id": "_7wNEw-CK_M9",
        "outputId": "c748ebc6-e458-4365-ff5d-5e31403b8e59"
      },
      "execution_count": 84,
      "outputs": [
        {
          "output_type": "stream",
          "name": "stdout",
          "text": [
            "BillGates\n",
            "============\n",
            "Positivos: 79.88\n",
            "Neutros  : 4.59\n",
            "Negativos: 15.52\n",
            " \n",
            "elonmusk\n",
            "============\n",
            "Positivos: 73.14\n",
            "Neutros  : 4.29\n",
            "Negativos: 22.57\n",
            " \n",
            "mayoredlee\n",
            "============\n",
            "Positivos: 80.73\n",
            "Neutros  : 4.07\n",
            "Negativos: 15.2\n",
            " \n"
          ]
        }
      ]
    },
    {
      "cell_type": "markdown",
      "source": [
        "Los tres autores presentan un patrón de comportamiento similar en sus tweets, con una predominancia de expresiones positivas. Este fenómeno es común en las redes sociales, donde los usuarios suelen compartir experiencias positivas o aspectos destacables de su vida, omitiendo los aspectos negativos."
      ],
      "metadata": {
        "id": "0VP-V89uLDgQ"
      }
    },
    {
      "cell_type": "markdown",
      "source": [
        "## Análisis de la evolución temporal del sentimiento promedio de los tweets de usuarios por intervalos mensuales."
      ],
      "metadata": {
        "id": "1bYWBsmTLSfd"
      }
    },
    {
      "cell_type": "code",
      "source": [
        "fig, ax = plt.subplots(figsize=(7, 4)) \n",
        "\n",
        "for autor in tweets_sentimientos.autor.unique():\n",
        "    df = tweets_sentimientos[tweets_sentimientos.autor == autor].copy()\n",
        "    df = df.set_index(\"fecha\")\n",
        "    df = df[['sentimiento']].resample('1M').mean()\n",
        "    ax.plot(df.index, df.sentimiento, label=autor)\n",
        "\n",
        "ax.set_title(\"Sentimiento promedio de los tweets por mes\")\n",
        "ax.legend();"
      ],
      "metadata": {
        "colab": {
          "base_uri": "https://localhost:8080/",
          "height": 391
        },
        "id": "70DB7duMLWtV",
        "outputId": "da18a078-0bda-400d-94b5-b78d8033847c"
      },
      "execution_count": 85,
      "outputs": [
        {
          "output_type": "display_data",
          "data": {
            "text/plain": [
              "<Figure size 700x400 with 1 Axes>"
            ],
            "image/png": "[encoded data removed]"
          },
          "metadata": {}
        }
      ]
    }
  ]
}